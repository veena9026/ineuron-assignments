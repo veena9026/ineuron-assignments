{
  "nbformat": 4,
  "nbformat_minor": 0,
  "metadata": {
    "colab": {
      "provenance": [],
      "authorship_tag": "ABX9TyNINBiITRS/yKJfvn7ME/kI",
      "include_colab_link": true
    },
    "kernelspec": {
      "name": "python3",
      "display_name": "Python 3"
    },
    "language_info": {
      "name": "python"
    }
  },
  "cells": [
    {
      "cell_type": "markdown",
      "metadata": {
        "id": "view-in-github",
        "colab_type": "text"
      },
      "source": [
        "<a href=\"https://colab.research.google.com/github/veena9026/ineuron-assignments/blob/main/assignment_11.ipynb\" target=\"_parent\"><img src=\"https://colab.research.google.com/assets/colab-badge.svg\" alt=\"Open In Colab\"/></a>"
      ]
    },
    {
      "cell_type": "markdown",
      "source": [
        "1. Create an assert statement that throws an AssertionError if the variable spam is a negative integer.\n",
        "\n",
        "\n"
      ],
      "metadata": {
        "id": "9m5ekbyiP9at"
      }
    },
    {
      "cell_type": "code",
      "execution_count": 1,
      "metadata": {
        "colab": {
          "base_uri": "https://localhost:8080/",
          "height": 192
        },
        "id": "AMAq-XHbPqmt",
        "outputId": "97475a83-0b03-42a9-a70d-c69c701e0923"
      },
      "outputs": [
        {
          "output_type": "error",
          "ename": "AssertionError",
          "evalue": "ignored",
          "traceback": [
            "\u001b[0;31m---------------------------------------------------------------------------\u001b[0m",
            "\u001b[0;31mAssertionError\u001b[0m                            Traceback (most recent call last)",
            "\u001b[0;32m<ipython-input-1-d8f84495732b>\u001b[0m in \u001b[0;36m<cell line: 2>\u001b[0;34m()\u001b[0m\n\u001b[1;32m      1\u001b[0m \u001b[0mspam\u001b[0m \u001b[0;34m=\u001b[0m \u001b[0;34m-\u001b[0m\u001b[0;36m55\u001b[0m\u001b[0;34m\u001b[0m\u001b[0;34m\u001b[0m\u001b[0m\n\u001b[0;32m----> 2\u001b[0;31m \u001b[0;32massert\u001b[0m \u001b[0mspam\u001b[0m \u001b[0;34m>\u001b[0m \u001b[0;36m0\u001b[0m\u001b[0;34m,\u001b[0m \u001b[0;34m'The spam variable is is a negative integer.'\u001b[0m\u001b[0;34m\u001b[0m\u001b[0;34m\u001b[0m\u001b[0m\n\u001b[0m",
            "\u001b[0;31mAssertionError\u001b[0m: The spam variable is is a negative integer."
          ]
        }
      ],
      "source": [
        "\n",
        "spam = -55\n",
        "assert spam > 0, 'The spam variable is is a negative integer.'"
      ]
    },
    {
      "cell_type": "markdown",
      "source": [
        "2.Write an assert statement that triggers an AssertionError if the variables eggs and bacon contain strings that are the same as each other, even if their cases are different (that is, 'hello' and 'hello' are considered the same, and 'goodbye' and 'GOODbye' are also considered the same)."
      ],
      "metadata": {
        "id": "_bZJSIJsQlIc"
      }
    },
    {
      "cell_type": "code",
      "source": [
        "eggs = 'hello'\n",
        "bacon = 'Hello'\n",
        "\n",
        "assert eggs.lower() != bacon.lower(), 'The eggs and bacon variables are the same!'\n",
        "assert eggs.upper() != bacon.upper(), 'The eggs and bacon variables are the same!'"
      ],
      "metadata": {
        "colab": {
          "base_uri": "https://localhost:8080/",
          "height": 262
        },
        "id": "5WbsIcotQg46",
        "outputId": "63602fd0-d750-4140-9a51-760fcd0a3390"
      },
      "execution_count": 2,
      "outputs": [
        {
          "output_type": "error",
          "ename": "AssertionError",
          "evalue": "ignored",
          "traceback": [
            "\u001b[0;31m---------------------------------------------------------------------------\u001b[0m",
            "\u001b[0;31mAssertionError\u001b[0m                            Traceback (most recent call last)",
            "\u001b[0;32m<ipython-input-2-53586d290ac7>\u001b[0m in \u001b[0;36m<cell line: 4>\u001b[0;34m()\u001b[0m\n\u001b[1;32m      2\u001b[0m \u001b[0mbacon\u001b[0m \u001b[0;34m=\u001b[0m \u001b[0;34m'Hello'\u001b[0m\u001b[0;34m\u001b[0m\u001b[0;34m\u001b[0m\u001b[0m\n\u001b[1;32m      3\u001b[0m \u001b[0;34m\u001b[0m\u001b[0m\n\u001b[0;32m----> 4\u001b[0;31m \u001b[0;32massert\u001b[0m \u001b[0meggs\u001b[0m\u001b[0;34m.\u001b[0m\u001b[0mlower\u001b[0m\u001b[0;34m(\u001b[0m\u001b[0;34m)\u001b[0m \u001b[0;34m!=\u001b[0m \u001b[0mbacon\u001b[0m\u001b[0;34m.\u001b[0m\u001b[0mlower\u001b[0m\u001b[0;34m(\u001b[0m\u001b[0;34m)\u001b[0m\u001b[0;34m,\u001b[0m \u001b[0;34m'The eggs and bacon variables are the same!'\u001b[0m\u001b[0;34m\u001b[0m\u001b[0;34m\u001b[0m\u001b[0m\n\u001b[0m\u001b[1;32m      5\u001b[0m \u001b[0;32massert\u001b[0m \u001b[0meggs\u001b[0m\u001b[0;34m.\u001b[0m\u001b[0mupper\u001b[0m\u001b[0;34m(\u001b[0m\u001b[0;34m)\u001b[0m \u001b[0;34m!=\u001b[0m \u001b[0mbacon\u001b[0m\u001b[0;34m.\u001b[0m\u001b[0mupper\u001b[0m\u001b[0;34m(\u001b[0m\u001b[0;34m)\u001b[0m\u001b[0;34m,\u001b[0m \u001b[0;34m'The eggs and bacon variables are the same!'\u001b[0m\u001b[0;34m\u001b[0m\u001b[0;34m\u001b[0m\u001b[0m\n",
            "\u001b[0;31mAssertionError\u001b[0m: The eggs and bacon variables are the same!"
          ]
        }
      ]
    },
    {
      "cell_type": "markdown",
      "source": [
        "3.Create an assert statement that throws an AssertionError every time."
      ],
      "metadata": {
        "id": "0hv3rnmbR88y"
      }
    },
    {
      "cell_type": "code",
      "source": [
        "\n",
        "def assert_always():\n",
        "  assert False, \"always show assertion error\"\n",
        "assert_always()"
      ],
      "metadata": {
        "colab": {
          "base_uri": "https://localhost:8080/",
          "height": 297
        },
        "id": "VPttojnUQs3c",
        "outputId": "c402234f-b251-4177-e4e1-536f6d01bd47"
      },
      "execution_count": 3,
      "outputs": [
        {
          "output_type": "error",
          "ename": "AssertionError",
          "evalue": "ignored",
          "traceback": [
            "\u001b[0;31m---------------------------------------------------------------------------\u001b[0m",
            "\u001b[0;31mAssertionError\u001b[0m                            Traceback (most recent call last)",
            "\u001b[0;32m<ipython-input-3-7beeb488936a>\u001b[0m in \u001b[0;36m<cell line: 3>\u001b[0;34m()\u001b[0m\n\u001b[1;32m      1\u001b[0m \u001b[0;32mdef\u001b[0m \u001b[0massert_always\u001b[0m\u001b[0;34m(\u001b[0m\u001b[0;34m)\u001b[0m\u001b[0;34m:\u001b[0m\u001b[0;34m\u001b[0m\u001b[0;34m\u001b[0m\u001b[0m\n\u001b[1;32m      2\u001b[0m   \u001b[0;32massert\u001b[0m \u001b[0;32mFalse\u001b[0m\u001b[0;34m,\u001b[0m \u001b[0;34m\"always show assertion error\"\u001b[0m\u001b[0;34m\u001b[0m\u001b[0;34m\u001b[0m\u001b[0m\n\u001b[0;32m----> 3\u001b[0;31m \u001b[0massert_always\u001b[0m\u001b[0;34m(\u001b[0m\u001b[0;34m)\u001b[0m\u001b[0;34m\u001b[0m\u001b[0;34m\u001b[0m\u001b[0m\n\u001b[0m",
            "\u001b[0;32m<ipython-input-3-7beeb488936a>\u001b[0m in \u001b[0;36massert_always\u001b[0;34m()\u001b[0m\n\u001b[1;32m      1\u001b[0m \u001b[0;32mdef\u001b[0m \u001b[0massert_always\u001b[0m\u001b[0;34m(\u001b[0m\u001b[0;34m)\u001b[0m\u001b[0;34m:\u001b[0m\u001b[0;34m\u001b[0m\u001b[0;34m\u001b[0m\u001b[0m\n\u001b[0;32m----> 2\u001b[0;31m   \u001b[0;32massert\u001b[0m \u001b[0;32mFalse\u001b[0m\u001b[0;34m,\u001b[0m \u001b[0;34m\"always show assertion error\"\u001b[0m\u001b[0;34m\u001b[0m\u001b[0;34m\u001b[0m\u001b[0m\n\u001b[0m\u001b[1;32m      3\u001b[0m \u001b[0massert_always\u001b[0m\u001b[0;34m(\u001b[0m\u001b[0;34m)\u001b[0m\u001b[0;34m\u001b[0m\u001b[0;34m\u001b[0m\u001b[0m\n",
            "\u001b[0;31mAssertionError\u001b[0m: always show assertion error"
          ]
        }
      ]
    },
    {
      "cell_type": "markdown",
      "source": [
        "4. What are the two lines that must be present in your software in order to call logging.debug()?\n",
        "\n",
        "* Ans -\n",
        "To be able to call logging.debug(), you must have these two lines at the start of your program:\n",
        "\n",
        "import logging"
      ],
      "metadata": {
        "id": "e1-RT8aBSO7P"
      }
    },
    {
      "cell_type": "code",
      "source": [
        "import logging as lg\n",
        "lg.basicConfig(level=lg.DEBUG, format=' %(asctime)s -%(levelname)s - %(message)s')"
      ],
      "metadata": {
        "id": "fCSQuEDyR69z"
      },
      "execution_count": 7,
      "outputs": []
    },
    {
      "cell_type": "markdown",
      "source": [
        "5. What are the two lines that your program must have in order to have logging.debug() send a\n",
        "logging message to a file named programLog.txt?"
      ],
      "metadata": {
        "id": "J_zOQxVCTOfh"
      }
    },
    {
      "cell_type": "code",
      "source": [
        "import logging as lg\n",
        "lg.basicConfig(filename='programLog.txt', level=lg.DEBUG, format=' %(asctime)s - %(levelname)s - %(message)s')"
      ],
      "metadata": {
        "id": "CHJDwhA9Tlcw"
      },
      "execution_count": 8,
      "outputs": []
    },
    {
      "cell_type": "markdown",
      "source": [
        "6.What are the five levels of logging?"
      ],
      "metadata": {
        "id": "2kNfGrLGSiMl"
      }
    },
    {
      "cell_type": "markdown",
      "source": [
        "* Five level of loggins are DEBUG, INFO, WARNING, ERROR, and CRITICAL\n",
        "\n",
        "1. logging.debug() - variable's state and small details\n",
        "2. logging.info() - general events, confirm a program is working\n",
        "3. logging.warning() - potiental problem to work on in the future\n",
        "4. logging.error() - record an error that caused program to fail to do something\n",
        "5. logging.critical() - fatal error that has caused\n"
      ],
      "metadata": {
        "id": "R80Ai-txUOdj"
      }
    },
    {
      "cell_type": "markdown",
      "source": [
        "7.What line of code would you add to your software to disable all logging messages?\n"
      ],
      "metadata": {
        "id": "z1gkDMYhT1B6"
      }
    },
    {
      "cell_type": "code",
      "source": [
        "import logging as lg\n",
        "lg.disable(lg.CRITICAL)"
      ],
      "metadata": {
        "id": "jSHDxaNWYH77"
      },
      "execution_count": 9,
      "outputs": []
    },
    {
      "cell_type": "markdown",
      "source": [
        "8.Why is using logging messages better than using print() to display the same message?"
      ],
      "metadata": {
        "id": "LtncPJAHT0-i"
      }
    },
    {
      "cell_type": "markdown",
      "source": [
        "You can disable logging messages without removing the logging function calls. You can selectively disable lower-level logging messages. You can create logging messages. Logging messages provides a timestamp."
      ],
      "metadata": {
        "id": "NM1k8mLRYHKi"
      }
    },
    {
      "cell_type": "markdown",
      "source": [
        "\n",
        "9.What are the differences between the Step Over, Step In, and Step Out buttons in the debugger?"
      ],
      "metadata": {
        "id": "zZ092HLKT07w"
      }
    },
    {
      "cell_type": "markdown",
      "source": [
        "* Step Into will cause the debugger to go into the next function call and break there.\n",
        "* Step Over will tell the debugger to execute the next function and break afterwards.\n",
        "* Step Out will tell the debugger to finish the current function and break after it.22 Mar 2011"
      ],
      "metadata": {
        "id": "9gLk6rZMc6DB"
      }
    },
    {
      "cell_type": "markdown",
      "source": [
        "\n",
        "10.After you click Continue, when will the debugger stop ?"
      ],
      "metadata": {
        "id": "KB4XxcnIT02t"
      }
    },
    {
      "cell_type": "markdown",
      "source": [
        "After you click Continue, the debugger will stop when it has reached the end of the program or a line with a breakpoint."
      ],
      "metadata": {
        "id": "dNjH8Q1legmi"
      }
    },
    {
      "cell_type": "markdown",
      "source": [
        "\n",
        "11.What is the concept of a breakpoint?\n"
      ],
      "metadata": {
        "id": "ETy8qWEUT0nA"
      }
    },
    {
      "cell_type": "markdown",
      "source": [
        "Breakpoint is a setting on a line of code that causes the debugger to pause when the program execution reaches the line"
      ],
      "metadata": {
        "id": "CtoCsp2RfA3t"
      }
    }
  ]
}