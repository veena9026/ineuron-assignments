{
  "nbformat": 4,
  "nbformat_minor": 0,
  "metadata": {
    "colab": {
      "provenance": [],
      "authorship_tag": "ABX9TyO2IZ2eDOvRoTOzXKJzYRBL",
      "include_colab_link": true
    },
    "kernelspec": {
      "name": "python3",
      "display_name": "Python 3"
    },
    "language_info": {
      "name": "python"
    }
  },
  "cells": [
    {
      "cell_type": "markdown",
      "metadata": {
        "id": "view-in-github",
        "colab_type": "text"
      },
      "source": [
        "<a href=\"https://colab.research.google.com/github/veena9026/ineuron-assignments/blob/main/programmig_python_05.ipynb\" target=\"_parent\"><img src=\"https://colab.research.google.com/assets/colab-badge.svg\" alt=\"Open In Colab\"/></a>"
      ]
    },
    {
      "cell_type": "markdown",
      "source": [
        "1.Write a Python Program to Find LCM?\n"
      ],
      "metadata": {
        "id": "GQv54aYk7pv4"
      }
    },
    {
      "cell_type": "code",
      "source": [
        "def findTheLcm(x,y):\n",
        "    if x > y:\n",
        "        num = x\n",
        "    else:\n",
        "       num = x\n",
        "    while True:\n",
        "        if((num % x == 0) and (num % y == 0)):\n",
        "            lcm = num\n",
        "            break\n",
        "        else:\n",
        "            num +=1\n",
        "    print(f'The LCM of {x},{y} is {lcm}')\n",
        "\n",
        "findTheLcm(8,6)\n",
        "findTheLcm(24,9)\n",
        "findTheLcm(16,20)"
      ],
      "metadata": {
        "id": "OwYw7jU88P0n",
        "colab": {
          "base_uri": "https://localhost:8080/"
        },
        "outputId": "bcf29f15-4e22-47a5-96ed-e05b3a579ad9"
      },
      "execution_count": null,
      "outputs": [
        {
          "output_type": "stream",
          "name": "stdout",
          "text": [
            "The LCM of 8,6 is 24\n",
            "The LCM of 24,9 is 72\n",
            "The LCM of 16,20 is 80\n"
          ]
        }
      ]
    },
    {
      "cell_type": "markdown",
      "source": [
        "2.Write a Python Program to Find HCF?\n"
      ],
      "metadata": {
        "id": "2k0J7C8T7pyp"
      }
    },
    {
      "cell_type": "code",
      "source": [
        "def findTheHcf(x,y):\n",
        "    if x < y:\n",
        "        num = x\n",
        "    else:\n",
        "       num = x\n",
        "    for i in range(1,num+1):\n",
        "      if x % i ==0 and y % i==0:\n",
        "        hcf=i\n",
        "    print(f'The HCF of {x},{y} is {hcf}')\n",
        "\n",
        "findTheHcf(4,6)\n",
        "findTheHcf(2,15)\n",
        "findTheHcf(22,4)\n",
        "findTheHcf(6,12)\n",
        "findTheHcf(2,3)\n",
        "findTheHcf(10,23)"
      ],
      "metadata": {
        "id": "E0KQFCHO8RMz",
        "colab": {
          "base_uri": "https://localhost:8080/"
        },
        "outputId": "46129fc3-85cc-44ab-b293-31b6a883844a"
      },
      "execution_count": 11,
      "outputs": [
        {
          "output_type": "stream",
          "name": "stdout",
          "text": [
            "The HCF of 4,6 is 2\n",
            "The HCF of 2,15 is 1\n",
            "The HCF of 22,4 is 2\n",
            "The HCF of 6,12 is 6\n",
            "The HCF of 2,3 is 1\n",
            "The HCF of 10,23 is 1\n"
          ]
        }
      ]
    },
    {
      "cell_type": "markdown",
      "source": [
        "3.Write a Python Program to Convert Decimal to Binary, Octal and Hexadecimal?\n"
      ],
      "metadata": {
        "id": "bH4LAPMb7p1Q"
      }
    },
    {
      "cell_type": "code",
      "source": [
        "num = int(input(\"Enter Decimal Number: \"))\n",
        "print(\"Decimal to Binary: \",bin(num))\n",
        "print(\"Decimal to Octal: \",oct(num))\n",
        "print(\"Decimal to Hexadecimal: \",hex(num))"
      ],
      "metadata": {
        "id": "ilVEHbI-8Su-",
        "colab": {
          "base_uri": "https://localhost:8080/"
        },
        "outputId": "bb59edd9-ddf1-4f16-de0a-5ce6971840a8"
      },
      "execution_count": 13,
      "outputs": [
        {
          "output_type": "stream",
          "name": "stdout",
          "text": [
            "Enter Decimal Number: 22\n",
            "Decimal to Binary:  0b10110\n",
            "Decimal to Octal:  0o26\n",
            "Decimal to Hexadecimal:  0x16\n"
          ]
        }
      ]
    },
    {
      "cell_type": "markdown",
      "source": [
        "4.Write a Python Program To Find ASCII value of a character?\n"
      ],
      "metadata": {
        "id": "rt1eY17A7p4t"
      }
    },
    {
      "cell_type": "code",
      "source": [
        "def  ascii_value(char):\n",
        "  return ord(char)\n",
        "\n",
        "\n",
        "ascii_value(\"b\")  \n"
      ],
      "metadata": {
        "id": "Xp2Pjqmg8TdF",
        "colab": {
          "base_uri": "https://localhost:8080/"
        },
        "outputId": "9c43a583-4dec-439d-be61-e83048b36c28"
      },
      "execution_count": 18,
      "outputs": [
        {
          "output_type": "execute_result",
          "data": {
            "text/plain": [
              "98"
            ]
          },
          "metadata": {},
          "execution_count": 18
        }
      ]
    },
    {
      "cell_type": "markdown",
      "source": [
        "5.Write a Python Program to Make a Simple Calculator with 4 basic mathematical operations?\n"
      ],
      "metadata": {
        "id": "X6LuMe5Y7qKj"
      }
    },
    {
      "cell_type": "code",
      "source": [
        "\n",
        "# This function adds two numbers\n",
        "def add(x, y):\n",
        "    return x + y\n",
        "\n",
        "# This function subtracts two numbers\n",
        "def subtract(x, y):\n",
        "    return x - y\n",
        "\n",
        "# This function multiplies two numbers\n",
        "def multiply(x, y):\n",
        "    return x * y\n",
        "\n",
        "# This function divides two numbers\n",
        "def divide(x, y):\n",
        "    return x / y\n",
        "\n",
        "\n",
        "print(\"Select operation.\")\n",
        "print(\"1.Add\")\n",
        "print(\"2.Subtract\")\n",
        "print(\"3.Multiply\")\n",
        "print(\"4.Divide\")\n",
        "\n",
        "while True:\n",
        "    # take input from the user\n",
        "    choice = input(\"Enter choice(1/2/3/4): \")\n",
        "\n",
        "    # check if choice is one of the four options\n",
        "    if choice in ('1', '2', '3', '4'):\n",
        "        try:\n",
        "            num1 = float(input(\"Enter first number: \"))\n",
        "            num2 = float(input(\"Enter second number: \"))\n",
        "        except ValueError:\n",
        "            print(\"Invalid input. Please enter a number.\")\n",
        "            continue\n",
        "\n",
        "        if choice == '1':\n",
        "            print(num1, \"+\", num2, \"=\", add(num1, num2))\n",
        "\n",
        "        elif choice == '2':\n",
        "            print(num1, \"-\", num2, \"=\", subtract(num1, num2))\n",
        "\n",
        "        elif choice == '3':\n",
        "            print(num1, \"*\", num2, \"=\", multiply(num1, num2))\n",
        "\n",
        "        elif choice == '4':\n",
        "            print(num1, \"/\", num2, \"=\", divide(num1, num2))\n",
        "        \n",
        "        # check if user wants another calculation\n",
        "        # break the while loop if answer is no\n",
        "        next_calculation = input(\"Let's do next calculation? (yes/no): \")\n",
        "        if next_calculation == \"no\":\n",
        "          break\n",
        "    else:\n",
        "        print(\"Invalid Input\")\n",
        "  "
      ],
      "metadata": {
        "id": "Dr2KdmZQ8CSJ",
        "colab": {
          "base_uri": "https://localhost:8080/"
        },
        "outputId": "f105df37-e8f7-496c-c407-90f87a5224ba"
      },
      "execution_count": 19,
      "outputs": [
        {
          "name": "stdout",
          "output_type": "stream",
          "text": [
            "Select operation.\n",
            "1.Add\n",
            "2.Subtract\n",
            "3.Multiply\n",
            "4.Divide\n",
            "Enter choice(1/2/3/4): 3\n",
            "Enter first number: 12\n",
            "Enter second number: 3\n",
            "12.0 * 3.0 = 36.0\n",
            "Let's do next calculation? (yes/no): yes\n",
            "Enter choice(1/2/3/4): 2\n",
            "Enter first number: 67\n",
            "Enter second number: 4\n",
            "67.0 - 4.0 = 63.0\n",
            "Let's do next calculation? (yes/no): no\n"
          ]
        }
      ]
    },
    {
      "cell_type": "code",
      "source": [],
      "metadata": {
        "id": "FZknvbH2LMXw"
      },
      "execution_count": null,
      "outputs": []
    }
  ]
}