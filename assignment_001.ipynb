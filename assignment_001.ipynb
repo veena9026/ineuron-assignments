{
  "nbformat": 4,
  "nbformat_minor": 0,
  "metadata": {
    "colab": {
      "provenance": [],
      "authorship_tag": "ABX9TyNtQDOM2etY7/2wdtmU4wPD",
      "include_colab_link": true
    },
    "kernelspec": {
      "name": "python3",
      "display_name": "Python 3"
    },
    "language_info": {
      "name": "python"
    }
  },
  "cells": [
    {
      "cell_type": "markdown",
      "metadata": {
        "id": "view-in-github",
        "colab_type": "text"
      },
      "source": [
        "<a href=\"https://colab.research.google.com/github/veena9026/ineuron-assignments/blob/main/assignment_001.ipynb\" target=\"_parent\"><img src=\"https://colab.research.google.com/assets/colab-badge.svg\" alt=\"Open In Colab\"/></a>"
      ]
    },
    {
      "cell_type": "markdown",
      "source": [
        "1. In the below elements which of them are values or an expression? eg:- values can be\n",
        "integer or string and expressions will be mathematical operators.\n",
        "*\n",
        "&#39;hello&#39;\n",
        "-87.8\n",
        "-\n",
        "/\n",
        "+\n",
        "6"
      ],
      "metadata": {
        "id": "GgIQtcOW8yfg"
      }
    },
    {
      "cell_type": "markdown",
      "source": [
        "Ans :-\n",
        "\n",
        "|* | ---- expression\n",
        "\n",
        "'hello' -----values\n",
        "\n",
        "-87.8 -----values\n",
        "\n",
        "| - |  ___ expression\n",
        "\n",
        "/   ------expression\n",
        "\n",
        "|+|   ------expression\n",
        "\n",
        " 6 ------values"
      ],
      "metadata": {
        "id": "-akKhez-9wzZ"
      }
    },
    {
      "cell_type": "markdown",
      "source": [
        "2. What is the difference between string and variable?"
      ],
      "metadata": {
        "id": "eQJ8PXpB_buB"
      }
    },
    {
      "cell_type": "markdown",
      "source": [
        "String :-  Strings are surrounded by either single quotation marks, or double quotation marks.\n",
        "\n",
        "variable :-  Variables are containers for storing data values.\n",
        "\n",
        "* A string is a value representing text.\n",
        "* A variable is a name that can refer to any value.\n",
        "\n",
        "* A variable can hold a string, but a string can't hold a variable "
      ],
      "metadata": {
        "id": "ckJa-IGSIjnS"
      }
    },
    {
      "cell_type": "markdown",
      "source": [
        "3. Describe three different data types."
      ],
      "metadata": {
        "id": "C8Ltzcok_r7_"
      }
    },
    {
      "cell_type": "markdown",
      "source": [
        "Data types :- \n",
        "\n",
        "* 1.Numeric type :-\n",
        "\n",
        " Integer :-   A numeric value without decimal point.\n",
        "\n",
        " Float :-  Numbers containing decimal points.\n",
        " Complex :- It  contains two part – real and imaginary. The imaginary part is written with the “j” suffix.\n",
        "\n",
        "* 2.Sequence type (str):-contains list,tuple\n",
        " \n",
        " Strings are surrounded by either single quotation marks, or double quotation marks.\n",
        "\n",
        "* 3.Boolean:-\n",
        "\n",
        " It provides two built-in values, True and False. These values are used to determine the given statement true or false. It denotes by the class bool. True can be represented by any non-zero value or 'T' whereas false can be represented by the 0 or 'F'. "
      ],
      "metadata": {
        "id": "tqgNroyN1084"
      }
    },
    {
      "cell_type": "markdown",
      "source": [
        "4. What is an expression made up of? What do all expressions do?\n",
        "\n",
        "* Expression:- An expression is a combination of operators, constants and variables. \n",
        "After evaluating an expression, we get a value."
      ],
      "metadata": {
        "id": "mGBStu6h_t7z"
      }
    },
    {
      "cell_type": "markdown",
      "source": [
        "5. This assignment statements, like spam = 10. What is the difference between an\n",
        "expression and a statement?\n",
        "\n",
        "\n",
        "* An expression refers to a representation of compiled data that is entered via values, variables, and operators. \n",
        "* A statement refers to a command that is issued to the program to initiate something.\n"
      ],
      "metadata": {
        "id": "uMj1efJI_9oM"
      }
    },
    {
      "cell_type": "markdown",
      "source": [
        "6. After running the following code, what does the variable bacon contain?\n",
        "\n",
        "bacon = 22\n",
        "\n",
        "bacon + 1"
      ],
      "metadata": {
        "id": "YE6rtNpu_9N_"
      }
    },
    {
      "cell_type": "code",
      "source": [
        "bacon =22\n",
        "bacon +1\n"
      ],
      "metadata": {
        "colab": {
          "base_uri": "https://localhost:8080/"
        },
        "id": "eR_ykmglxANn",
        "outputId": "23d1e9b0-d7b6-4b99-b9d7-13f8908df9cd"
      },
      "execution_count": null,
      "outputs": [
        {
          "output_type": "execute_result",
          "data": {
            "text/plain": [
              "23"
            ]
          },
          "metadata": {},
          "execution_count": 1
        }
      ]
    },
    {
      "cell_type": "code",
      "source": [
        "bacon"
      ],
      "metadata": {
        "colab": {
          "base_uri": "https://localhost:8080/"
        },
        "id": "12V-cU-Xw8Sj",
        "outputId": "243d6694-c2bf-4774-9f1f-65bfccee828c"
      },
      "execution_count": null,
      "outputs": [
        {
          "output_type": "execute_result",
          "data": {
            "text/plain": [
              "22"
            ]
          },
          "metadata": {},
          "execution_count": 2
        }
      ]
    },
    {
      "cell_type": "markdown",
      "source": [
        "7. What should the values of the following two terms be?\n",
        "\n",
        "&#39;spam&#39; + &#39;spamspam&#39;\n",
        "\n",
        "&#39;spam&#39; * 3"
      ],
      "metadata": {
        "id": "H_Ze7jw7_8rU"
      }
    },
    {
      "cell_type": "code",
      "source": [
        "'spam'+'spamspam'\n"
      ],
      "metadata": {
        "colab": {
          "base_uri": "https://localhost:8080/",
          "height": 36
        },
        "id": "FTpQbv3OxxfU",
        "outputId": "7998e23f-b0c9-4c4f-9932-535c5fbbbd44"
      },
      "execution_count": null,
      "outputs": [
        {
          "output_type": "execute_result",
          "data": {
            "text/plain": [
              "'spamspamspam'"
            ],
            "application/vnd.google.colaboratory.intrinsic+json": {
              "type": "string"
            }
          },
          "metadata": {},
          "execution_count": 3
        }
      ]
    },
    {
      "cell_type": "code",
      "source": [
        "'spam'*3"
      ],
      "metadata": {
        "colab": {
          "base_uri": "https://localhost:8080/",
          "height": 36
        },
        "id": "sj0p6ZjByIL9",
        "outputId": "d84db4c5-bdfd-4e5c-86c5-e0e95733cbf0"
      },
      "execution_count": null,
      "outputs": [
        {
          "output_type": "execute_result",
          "data": {
            "text/plain": [
              "'spamspamspam'"
            ],
            "application/vnd.google.colaboratory.intrinsic+json": {
              "type": "string"
            }
          },
          "metadata": {},
          "execution_count": 4
        }
      ]
    },
    {
      "cell_type": "markdown",
      "source": [
        "8. Why is eggs a valid variable name while 100 is invalid?"
      ],
      "metadata": {
        "id": "nM20aw45AQhi"
      }
    },
    {
      "cell_type": "markdown",
      "source": [
        "* Variable names should starts with alphabets.\n",
        "\n",
        "* Variable names can contain numbers but you can't start with numbers\n"
      ],
      "metadata": {
        "id": "iqD-ft0Syfbk"
      }
    },
    {
      "cell_type": "code",
      "source": [
        "##Eg:-\n",
        "\n",
        "Eggs =10\n"
      ],
      "metadata": {
        "id": "HqpLhtlayK0I"
      },
      "execution_count": null,
      "outputs": []
    },
    {
      "cell_type": "code",
      "source": [
        "100 =\"dozens \""
      ],
      "metadata": {
        "colab": {
          "base_uri": "https://localhost:8080/",
          "height": 130
        },
        "id": "9ZkanZyryKeb",
        "outputId": "b0e35c07-6c38-4c54-f6f5-2f08c1cff405"
      },
      "execution_count": null,
      "outputs": [
        {
          "output_type": "error",
          "ename": "SyntaxError",
          "evalue": "ignored",
          "traceback": [
            "\u001b[0;36m  File \u001b[0;32m\"<ipython-input-6-dab95e9ebc1d>\"\u001b[0;36m, line \u001b[0;32m1\u001b[0m\n\u001b[0;31m    100 =\"dozens \"\u001b[0m\n\u001b[0m                  ^\u001b[0m\n\u001b[0;31mSyntaxError\u001b[0m\u001b[0;31m:\u001b[0m can't assign to literal\n"
          ]
        }
      ]
    },
    {
      "cell_type": "code",
      "source": [],
      "metadata": {
        "id": "NXmLgKW0yNU3"
      },
      "execution_count": null,
      "outputs": []
    },
    {
      "cell_type": "markdown",
      "source": [
        "9. What three functions can be used to get the integer, floating-point number, or string\n",
        "version of a value?"
      ],
      "metadata": {
        "id": "ie7yklr_AYM3"
      }
    },
    {
      "cell_type": "code",
      "source": [
        "A ,B ,C = 12 ,23.04 ,'veena'"
      ],
      "metadata": {
        "id": "pAewz3gDyOvb"
      },
      "execution_count": null,
      "outputs": []
    },
    {
      "cell_type": "code",
      "source": [
        "print(type(A))\n",
        "print( type(B))\n",
        "print(type(C))"
      ],
      "metadata": {
        "colab": {
          "base_uri": "https://localhost:8080/"
        },
        "id": "a1HoqwTjyOiO",
        "outputId": "e4f84c78-f1ac-4e7d-ed2a-765980f247da"
      },
      "execution_count": null,
      "outputs": [
        {
          "output_type": "stream",
          "name": "stdout",
          "text": [
            "<class 'int'>\n",
            "<class 'float'>\n",
            "<class 'str'>\n"
          ]
        }
      ]
    },
    {
      "cell_type": "markdown",
      "source": [
        "10. Why does this expression cause an error? How can you fix it?\n",
        "&#39;I have eaten &#39; + 99 + &#39; burritos.&#39;"
      ],
      "metadata": {
        "id": "fTqWuPHPAX_z"
      }
    },
    {
      "cell_type": "code",
      "execution_count": null,
      "metadata": {
        "id": "gu96Fq0PBX7a",
        "colab": {
          "base_uri": "https://localhost:8080/",
          "height": 36
        },
        "outputId": "a93db50f-d06b-46a7-9738-d640033000f0"
      },
      "outputs": [
        {
          "output_type": "execute_result",
          "data": {
            "text/plain": [
              "'i have eaten99burritos'"
            ],
            "application/vnd.google.colaboratory.intrinsic+json": {
              "type": "string"
            }
          },
          "metadata": {},
          "execution_count": 9
        }
      ],
      "source": [
        "'i have eaten'+'99'+'burritos'"
      ]
    },
    {
      "cell_type": "code",
      "source": [
        "'i have eaten'+ str(99)+ 'burritos'"
      ],
      "metadata": {
        "colab": {
          "base_uri": "https://localhost:8080/",
          "height": 36
        },
        "id": "Z5HJpqlq9A-o",
        "outputId": "2812ab29-ba19-465c-ff50-e712f421bdfb"
      },
      "execution_count": null,
      "outputs": [
        {
          "output_type": "execute_result",
          "data": {
            "text/plain": [
              "'i have eaten99burritos'"
            ],
            "application/vnd.google.colaboratory.intrinsic+json": {
              "type": "string"
            }
          },
          "metadata": {},
          "execution_count": 10
        }
      ]
    },
    {
      "cell_type": "code",
      "source": [],
      "metadata": {
        "id": "pz2plsvxOnou"
      },
      "execution_count": null,
      "outputs": []
    }
  ]
}