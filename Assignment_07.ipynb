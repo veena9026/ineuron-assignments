{
  "nbformat": 4,
  "nbformat_minor": 0,
  "metadata": {
    "colab": {
      "provenance": [],
      "authorship_tag": "ABX9TyOZq6VaP60qE+ruivey8dPo",
      "include_colab_link": true
    },
    "kernelspec": {
      "name": "python3",
      "display_name": "Python 3"
    },
    "language_info": {
      "name": "python"
    }
  },
  "cells": [
    {
      "cell_type": "markdown",
      "metadata": {
        "id": "view-in-github",
        "colab_type": "text"
      },
      "source": [
        "<a href=\"https://colab.research.google.com/github/veena9026/ineuron-assignments/blob/main/Assignment_07.ipynb\" target=\"_parent\"><img src=\"https://colab.research.google.com/assets/colab-badge.svg\" alt=\"Open In Colab\"/></a>"
      ]
    },
    {
      "cell_type": "markdown",
      "source": [
        "1. What is the name of the feature responsible for generating Regex objects?\n"
      ],
      "metadata": {
        "id": "iCwPp_w1YZwp"
      }
    },
    {
      "cell_type": "markdown",
      "source": [
        "*  The re.compile() function returns Regex objects.\n"
      ],
      "metadata": {
        "id": "Ci-aefJ7ahBp"
      }
    },
    {
      "cell_type": "code",
      "execution_count": null,
      "metadata": {
        "id": "vAYyMgkyX28-"
      },
      "outputs": [],
      "source": [
        "import re\n",
        "a=re.compile(\"strings\")"
      ]
    },
    {
      "cell_type": "markdown",
      "source": [
        "2. Why do raw strings often appear in Regex objects?\n"
      ],
      "metadata": {
        "id": "XQY2_x3pYZ5X"
      }
    },
    {
      "cell_type": "markdown",
      "source": [
        "* Raw strings are used so that backslashes do not have to be escaped.\n"
      ],
      "metadata": {
        "id": "PaWlXjURobHb"
      }
    },
    {
      "cell_type": "markdown",
      "source": [
        "3. What is the return value of the search() method?\n"
      ],
      "metadata": {
        "id": "PMfXsE4mYZ8k"
      }
    },
    {
      "cell_type": "markdown",
      "source": [
        "* The search() method searches a string for a specified value, and returns the position of the match.\n",
        "The search value can be string or a regular expression.\n",
        "This method returns -1 if no match is found\n",
        "\n",
        "\n"
      ],
      "metadata": {
        "id": "99bdszuVp_pk"
      }
    },
    {
      "cell_type": "code",
      "source": [
        "txt = \"The rain in Spain\"\n",
        "x = re.search(\"^The.*Spain$\", txt)\n",
        "\n",
        "if x:\n",
        "  print(\"YES! We have a match!\")\n",
        "else:\n",
        "  print(\"No match\")\n"
      ],
      "metadata": {
        "colab": {
          "base_uri": "https://localhost:8080/"
        },
        "id": "0uiq3C9-qW3I",
        "outputId": "be256863-0dfe-4b14-f8b3-8974574d3193"
      },
      "execution_count": null,
      "outputs": [
        {
          "output_type": "stream",
          "name": "stdout",
          "text": [
            "YES! We have a match!\n"
          ]
        }
      ]
    },
    {
      "cell_type": "markdown",
      "source": [
        "4. From a Match item, how do you get the actual strings that match the pattern?\n"
      ],
      "metadata": {
        "id": "TQxQTlv7YZ_d"
      }
    },
    {
      "cell_type": "markdown",
      "source": [
        "* Call the Match object’s group () method to return a string of the actual matched text.\n"
      ],
      "metadata": {
        "id": "KgQZ51-Srhuj"
      }
    },
    {
      "cell_type": "markdown",
      "source": [
        "5. In the regex which created from the r'(\\d\\d\\d)-(\\d\\d\\d-\\d\\d\\d\\d)', what does group zero cover? Group 2? Group 1?\n"
      ],
      "metadata": {
        "id": "IUEorX72YaCM"
      }
    },
    {
      "cell_type": "markdown",
      "source": [
        "\n",
        "* Group 0 is the entire match.\n",
        "* Group 1 covers the first set of parentheses. \n",
        "* Group 2 covers the second set of parentheses."
      ],
      "metadata": {
        "id": "arOmd00ytVHN"
      }
    },
    {
      "cell_type": "code",
      "source": [
        "phoneNumRegex = re.compile(r'(\\d\\d\\d)-(\\d\\d\\d-\\d\\d\\d\\d)')\n",
        "mo = phoneNumRegex.search('My number is 415-555-4242.')\n",
        "mo.group(1)"
      ],
      "metadata": {
        "colab": {
          "base_uri": "https://localhost:8080/",
          "height": 36
        },
        "id": "5dWVDYKqtyMH",
        "outputId": "b82edc97-b4d2-4f85-842c-c7f097d1af38"
      },
      "execution_count": null,
      "outputs": [
        {
          "output_type": "execute_result",
          "data": {
            "text/plain": [
              "'415'"
            ],
            "application/vnd.google.colaboratory.intrinsic+json": {
              "type": "string"
            }
          },
          "metadata": {},
          "execution_count": 3
        }
      ]
    },
    {
      "cell_type": "code",
      "source": [
        "mo.group(2)"
      ],
      "metadata": {
        "colab": {
          "base_uri": "https://localhost:8080/",
          "height": 36
        },
        "id": "Rck7aeGdtxuo",
        "outputId": "3d6a69f9-65f9-49b0-cd27-1e0129c284bc"
      },
      "execution_count": null,
      "outputs": [
        {
          "output_type": "execute_result",
          "data": {
            "text/plain": [
              "'555-4242'"
            ],
            "application/vnd.google.colaboratory.intrinsic+json": {
              "type": "string"
            }
          },
          "metadata": {},
          "execution_count": 4
        }
      ]
    },
    {
      "cell_type": "code",
      "source": [
        "mo.group(0)"
      ],
      "metadata": {
        "colab": {
          "base_uri": "https://localhost:8080/",
          "height": 36
        },
        "id": "-2v4V_2Stxjf",
        "outputId": "718fa9bf-2762-433b-bc80-bf6af0a23396"
      },
      "execution_count": null,
      "outputs": [
        {
          "output_type": "execute_result",
          "data": {
            "text/plain": [
              "'415-555-4242'"
            ],
            "application/vnd.google.colaboratory.intrinsic+json": {
              "type": "string"
            }
          },
          "metadata": {},
          "execution_count": 5
        }
      ]
    },
    {
      "cell_type": "markdown",
      "source": [
        "6. In standard expression syntax, parentheses and intervals have distinct meanings. How can you tell a regex that you want it to fit real parentheses and periods?\n"
      ],
      "metadata": {
        "id": "A44RfNAJYaFI"
      }
    },
    {
      "cell_type": "markdown",
      "source": [
        "* Periods and parentheses can be escaped with a backslash: \\., \\(, and \\).\n"
      ],
      "metadata": {
        "id": "frZOVz1duPCY"
      }
    },
    {
      "cell_type": "markdown",
      "source": [
        "7. The findall() method returns a string list or a list of string tuples. What causes it to return one of the two options?\n"
      ],
      "metadata": {
        "id": "b1UkTfdFYaIG"
      }
    },
    {
      "cell_type": "markdown",
      "source": [
        "* If the regex has no groups, a list of strings is returned. If the regex has groups, a list of tuples of strings is returned.\n"
      ],
      "metadata": {
        "id": "lrom7hpcuSye"
      }
    },
    {
      "cell_type": "markdown",
      "source": [
        "8. In standard expressions, what does the | character mean?\n"
      ],
      "metadata": {
        "id": "BFbNzrJoYaK3"
      }
    },
    {
      "cell_type": "markdown",
      "source": [
        "* The | character signifies matching “either, or” between two groups."
      ],
      "metadata": {
        "id": "db21bRSBXPep"
      }
    },
    {
      "cell_type": "markdown",
      "source": [
        "9. In regular expressions, what does the ? character stand for?\n"
      ],
      "metadata": {
        "id": "qPgl4RmCYaNn"
      }
    },
    {
      "cell_type": "markdown",
      "source": [
        "* It stands for match zero or one of the preceding group\n"
      ],
      "metadata": {
        "id": "b5UqZf5yXRUk"
      }
    },
    {
      "cell_type": "code",
      "source": [],
      "metadata": {
        "id": "7TKiCorqXQtQ"
      },
      "execution_count": null,
      "outputs": []
    },
    {
      "cell_type": "markdown",
      "source": [],
      "metadata": {
        "id": "lR0BB6hsYxdQ"
      }
    },
    {
      "cell_type": "markdown",
      "source": [
        "10. In regular expressions, what is the difference between the + and * characters?\n"
      ],
      "metadata": {
        "id": "PpyYsFhNYaQk"
      }
    },
    {
      "cell_type": "markdown",
      "source": [
        " * +\n",
        "  matches one or more. \n",
        " * *\n",
        "  matches zero or more."
      ],
      "metadata": {
        "id": "PTRJMg-FYiG2"
      }
    },
    {
      "cell_type": "markdown",
      "source": [
        "11. What is the difference between {4} and {4,5} in regular expression?\n",
        "\n"
      ],
      "metadata": {
        "id": "Zqwg35ywYaTx"
      }
    },
    {
      "cell_type": "markdown",
      "source": [
        "* The {4} matches exactly four instances of the preceding group. \n",
        "* The {4,5} matches between four and five instances."
      ],
      "metadata": {
        "id": "MN5ptzNqbJ2o"
      }
    },
    {
      "cell_type": "markdown",
      "source": [
        "12. What do you mean by the \\d, \\w, and \\s shorthand character classes signify in regular expressions?\n"
      ],
      "metadata": {
        "id": "_ANUak2Rak3L"
      }
    },
    {
      "cell_type": "markdown",
      "source": [
        "* \\d\n",
        "Matches any decimal digit; this is equivalent to the class [0-9].\n",
        "\n",
        "* \\s\n",
        "Matches any whitespace character; this is equivalent to the class [ \\t\\n\\r\\f\\v].\n",
        "\n",
        "* \\w\n",
        "Matches any alphanumeric character; this is equivalent to the class [a-zA-Z0-9_].\n",
        "\n"
      ],
      "metadata": {
        "id": "CrcJT7UgcQmE"
      }
    },
    {
      "cell_type": "markdown",
      "source": [
        "13. What do means by \\D, \\W, and \\S shorthand character classes signify in regular expressions?\n"
      ],
      "metadata": {
        "id": "2B_vGIaDakzw"
      }
    },
    {
      "cell_type": "markdown",
      "source": [
        "* \\D\n",
        "Matches any non-digit character; this is equivalent to the class [^0-9].\n",
        "\n",
        "* \\S\n",
        "Matches any non-whitespace character; this is equivalent to the class [^ \\t\\n\\r\\f\\v].\n",
        "\n",
        "* \\W\n",
        "Matches any non-alphanumeric character; this is equivalent to the class [^a-zA-Z0-9_]."
      ],
      "metadata": {
        "id": "J1EV4rvccVz3"
      }
    },
    {
      "cell_type": "markdown",
      "source": [
        "14. What is the difference between .* and .*?\n"
      ],
      "metadata": {
        "id": "CwcRLeQ1akxS"
      }
    },
    {
      "cell_type": "markdown",
      "source": [
        "* .* performs a greedy match\n",
        "* .*? performs a nongreedy match."
      ],
      "metadata": {
        "id": "n5OD4lYieUpD"
      }
    },
    {
      "cell_type": "markdown",
      "source": [
        "15. What is the syntax for matching both numbers and lowercase letters with a character class?\n"
      ],
      "metadata": {
        "id": "QjsNdCRIakuK"
      }
    },
    {
      "cell_type": "markdown",
      "source": [
        "* Either [0-9a-z] or [a-z0-9]"
      ],
      "metadata": {
        "id": "dV2pKv5xKr95"
      }
    },
    {
      "cell_type": "markdown",
      "source": [
        "16. What is the procedure for making a normal expression in regax case insensitive?\n",
        "\n"
      ],
      "metadata": {
        "id": "VPp5531-akrj"
      }
    },
    {
      "cell_type": "markdown",
      "source": [
        "* Passing re.I or re.IGNORECASE as the second argument to re.compile() will make the matching case insensitive."
      ],
      "metadata": {
        "id": "SQM4FOxlLjWS"
      }
    },
    {
      "cell_type": "markdown",
      "source": [
        "17. What does the . character normally match? What does it match if re.DOTALL is passed as 2nd argument in re.compile()?\n"
      ],
      "metadata": {
        "id": "rmivXSKvako0"
      }
    },
    {
      "cell_type": "markdown",
      "source": [
        "* The . character normally matches any character except the newline character. \n",
        "* If re.DOTALL is passed as the second argument to re.compile(), then the dot will also match newline characters."
      ],
      "metadata": {
        "id": "I7dsggKxMD8t"
      }
    },
    {
      "cell_type": "markdown",
      "source": [
        "18. If numReg = re.compile(r'\\d+'), what will numRegex.sub('X', '11 drummers, 10 pipers, five rings, 4 hen') return?\n"
      ],
      "metadata": {
        "id": "kyjEK9aTakl1"
      }
    },
    {
      "cell_type": "code",
      "source": [
        "import re"
      ],
      "metadata": {
        "id": "ATLlkGp4NYBr"
      },
      "execution_count": 2,
      "outputs": []
    },
    {
      "cell_type": "code",
      "source": [
        "numRegex = re.compile(r'\\d+')\n",
        "mo = numRegex.sub('X', '11 drummers, 10 pipers, five rings, 4 hen')\n",
        "mo"
      ],
      "metadata": {
        "colab": {
          "base_uri": "https://localhost:8080/",
          "height": 36
        },
        "id": "OyVui11cMzB-",
        "outputId": "e8959743-8f5f-43cc-e323-0f0729c8aa87"
      },
      "execution_count": 3,
      "outputs": [
        {
          "output_type": "execute_result",
          "data": {
            "text/plain": [
              "'X drummers, X pipers, five rings, X hen'"
            ],
            "application/vnd.google.colaboratory.intrinsic+json": {
              "type": "string"
            }
          },
          "metadata": {},
          "execution_count": 3
        }
      ]
    },
    {
      "cell_type": "markdown",
      "source": [
        "19. What does passing re.VERBOSE as the 2nd argument to re.compile() allow to do?\n"
      ],
      "metadata": {
        "id": "3UWkkkLNakjW"
      }
    },
    {
      "cell_type": "markdown",
      "source": [
        "* The re.VERBOSE argument allows you to add whitespace and comments to the string passed to re.compile()."
      ],
      "metadata": {
        "id": "j7kceiu-NVL7"
      }
    },
    {
      "cell_type": "markdown",
      "source": [
        "20. How would you write a regex that match a number with comma for every three digits? It must match the given following:\n",
        "'42'\n",
        "'1,234'\n",
        "'6,368,745'\n",
        "but not the following:\n",
        "'12,34,567' (which has only two digits between the commas)\n",
        "'1234' (which lacks commas)\n"
      ],
      "metadata": {
        "id": "oI10Xom0akgr"
      }
    },
    {
      "cell_type": "markdown",
      "source": [
        "re.compile(r'^\\d{1,3}(,\\d{3})*$') will create this regex, but other regex strings can produce a similar regular expression."
      ],
      "metadata": {
        "id": "PiTTczgvS7-g"
      }
    },
    {
      "cell_type": "code",
      "source": [
        "reg1 = re.compile(r'^\\d{1,3}(,\\d{3})*$')\n",
        "mo1 = reg1.search('42')\n",
        "mo1.group()\n"
      ],
      "metadata": {
        "colab": {
          "base_uri": "https://localhost:8080/",
          "height": 36
        },
        "id": "wqhhv8vKS7gk",
        "outputId": "d2ef8da2-0f58-48d0-c3b4-29b0e9450aa0"
      },
      "execution_count": 4,
      "outputs": [
        {
          "output_type": "execute_result",
          "data": {
            "text/plain": [
              "'42'"
            ],
            "application/vnd.google.colaboratory.intrinsic+json": {
              "type": "string"
            }
          },
          "metadata": {},
          "execution_count": 4
        }
      ]
    },
    {
      "cell_type": "code",
      "source": [
        "reg1 = re.compile(r'^\\d{1,3}(,\\d{3})*$')\n",
        "mo1 = reg1.search('1,234')\n",
        "mo1.group()\n"
      ],
      "metadata": {
        "colab": {
          "base_uri": "https://localhost:8080/",
          "height": 36
        },
        "id": "l-ylGSCWS9Ae",
        "outputId": "8b5186e7-7218-4d14-ba57-2caba621b99a"
      },
      "execution_count": 5,
      "outputs": [
        {
          "output_type": "execute_result",
          "data": {
            "text/plain": [
              "'1,234'"
            ],
            "application/vnd.google.colaboratory.intrinsic+json": {
              "type": "string"
            }
          },
          "metadata": {},
          "execution_count": 5
        }
      ]
    },
    {
      "cell_type": "code",
      "source": [
        "\n",
        "reg1 = re.compile(r'^\\d{1,3}(,\\d{3})*$')\n",
        "mo1 = reg1.search('6,368,745')\n",
        "mo1.group()"
      ],
      "metadata": {
        "colab": {
          "base_uri": "https://localhost:8080/",
          "height": 36
        },
        "id": "jMui3k_8S843",
        "outputId": "b3db9c57-811c-483d-d62d-7bfc0f5e3615"
      },
      "execution_count": 6,
      "outputs": [
        {
          "output_type": "execute_result",
          "data": {
            "text/plain": [
              "'6,368,745'"
            ],
            "application/vnd.google.colaboratory.intrinsic+json": {
              "type": "string"
            }
          },
          "metadata": {},
          "execution_count": 6
        }
      ]
    },
    {
      "cell_type": "markdown",
      "source": [
        "21. How would you write a regex that matches the full name of someone whose last name is Watanabe? You can assume that the first name that comes before it will always be one word that begins with a capital letter. The regex must match the following:\n",
        "\n",
        "* 'Haruto Watanabe'\n",
        "* 'Alice Watanabe'\n",
        "* 'RoboCop Watanabe'\n",
        "\n",
        "\n",
        "but not the following:\n",
        "\n",
        "'haruto Watanabe' (where the first name is not capitalized)\n",
        "\n",
        "'Mr. Watanabe' (where the preceding word has a nonletter character)\n",
        "\n",
        "'Watanabe' (which has no first name)\n",
        "\n",
        "'Haruto watanabe' (where Watanabe is not capitalized)\n"
      ],
      "metadata": {
        "id": "35WFLX0nakdr"
      }
    },
    {
      "cell_type": "markdown",
      "source": [
        "* re.compile(r'[A-Z][a-z]*\\sWatanabe')\n",
        "\n",
        "\n",
        "\n"
      ],
      "metadata": {
        "id": "tyHJN3HfUpnw"
      }
    },
    {
      "cell_type": "markdown",
      "source": [
        "22. How would you write a regex that matches a sentence where the first word is either Alice, Bob, or Carol; the second word is either eats, pets, or throws; the third word is apples, cats, or baseballs; and the sentence ends with a period? This regex should be case-insensitive. It must match the following:\n",
        "'Alice eats apples.'\n",
        "'Bob pets cats.'\n",
        "'Carol throws baseballs.'\n",
        "'Alice throws Apples.'\n",
        "'BOB EATS CATS.'\n",
        "but not the following:\n",
        "'RoboCop eats apples.'\n",
        "'ALICE THROWS FOOTBALLS.'\n",
        "'Carol eats 7 cats.'"
      ],
      "metadata": {
        "id": "0GSL0X_Eakan"
      }
    },
    {
      "cell_type": "markdown",
      "source": [
        "* re.compile(r'(Alice|Bob|Carol)\\s(eats|pets|throws)\\s(apples|cats|baseballs)\\.', re.IGNORECASE)"
      ],
      "metadata": {
        "id": "6fbXEJNHVKi9"
      }
    },
    {
      "cell_type": "code",
      "source": [],
      "metadata": {
        "id": "I0viYT_majaR"
      },
      "execution_count": null,
      "outputs": []
    }
  ]
}