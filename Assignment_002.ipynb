{
  "nbformat": 4,
  "nbformat_minor": 0,
  "metadata": {
    "colab": {
      "provenance": [],
      "authorship_tag": "ABX9TyPKLVO4S9HUvNmUIgs/Xgnc",
      "include_colab_link": true
    },
    "kernelspec": {
      "name": "python3",
      "display_name": "Python 3"
    },
    "language_info": {
      "name": "python"
    }
  },
  "cells": [
    {
      "cell_type": "markdown",
      "metadata": {
        "id": "view-in-github",
        "colab_type": "text"
      },
      "source": [
        "<a href=\"https://colab.research.google.com/github/veena9026/ineuron-assignments/blob/main/Assignment_002.ipynb\" target=\"_parent\"><img src=\"https://colab.research.google.com/assets/colab-badge.svg\" alt=\"Open In Colab\"/></a>"
      ]
    },
    {
      "cell_type": "markdown",
      "source": [
        "1.What are the two values of the Boolean data type? How do you write them?\n"
      ],
      "metadata": {
        "id": "917lL5NsTBul"
      }
    },
    {
      "cell_type": "markdown",
      "source": [
        "Two Boolean data types :-\n",
        "1.True--represent as a -- (1)\n",
        "2.False--represent as a-- (0)"
      ],
      "metadata": {
        "id": "FW4WZrtS7pHN"
      }
    },
    {
      "cell_type": "code",
      "source": [
        "A=bool(1)\n",
        "\n",
        "print(type(A))\n",
        "print(A)"
      ],
      "metadata": {
        "colab": {
          "base_uri": "https://localhost:8080/"
        },
        "id": "EAUIVXJe6Wbl",
        "outputId": "0d0231d1-7ec4-4e5d-cdc3-32e84b54f211"
      },
      "execution_count": null,
      "outputs": [
        {
          "output_type": "stream",
          "name": "stdout",
          "text": [
            "<class 'bool'>\n",
            "True\n"
          ]
        }
      ]
    },
    {
      "cell_type": "code",
      "source": [
        "B=bool(0)\n",
        "\n",
        "print(type(B))\n",
        "\n",
        "print(B)"
      ],
      "metadata": {
        "colab": {
          "base_uri": "https://localhost:8080/"
        },
        "id": "0R4k9VHG7PBJ",
        "outputId": "b9c3be4e-46a1-4e23-80bf-8265f1dee1dd"
      },
      "execution_count": null,
      "outputs": [
        {
          "output_type": "stream",
          "name": "stdout",
          "text": [
            "<class 'bool'>\n",
            "False\n"
          ]
        }
      ]
    },
    {
      "cell_type": "code",
      "source": [],
      "metadata": {
        "id": "6M8ItAh48HHD"
      },
      "execution_count": null,
      "outputs": []
    },
    {
      "cell_type": "markdown",
      "source": [
        "2. What are the three different types of Boolean operators?"
      ],
      "metadata": {
        "id": "6hFfJTFcTBoM"
      }
    },
    {
      "cell_type": "markdown",
      "source": [
        "Three Boolean operators:-\n",
        "\n",
        "* 1. NOT\n",
        "* 2. OR\n",
        "* 3. AND"
      ],
      "metadata": {
        "id": "zQdLMAVoTBlZ"
      }
    },
    {
      "cell_type": "code",
      "source": [],
      "metadata": {
        "id": "EPsneSGUeAFg"
      },
      "execution_count": null,
      "outputs": []
    },
    {
      "cell_type": "markdown",
      "source": [
        "\n",
        "3. Make a list of each Boolean operator&#39;s truth tables (i.e. every possible combination of Boolean\n",
        "values for the operator and what it evaluate).\n"
      ],
      "metadata": {
        "id": "1MLJnPHoTBiO"
      }
    },
    {
      "cell_type": "markdown",
      "source": [
        "### AND\n",
        "* |  A  | ------ | B |------|  Statement |\n",
        "\n",
        "\n",
        "* TRUE  and  FaLSE  -----FALSE\n",
        "* FAlSE and TRUE------FALSE\n",
        "*FAlse and  FALSE-----FALSE\n",
        "*TRUE and TRUE------TRUE\n",
        "\n",
        "### OR \n",
        "*  |  A  | ------ | B |------|  Statement |\n",
        "\n",
        "\n",
        "* TRUE  or  FaLSE  -----TRUE\n",
        "* FAlSE or TRUE------TRUE\n",
        "*FAlse or  FALSE-----FALSE\n",
        "*TRUE or TRUE------TRUE\n",
        "\n",
        "### NOT\n",
        "*  |  A  | -----------|  Statement |\n",
        "\n",
        "\n",
        "*  not  FaLSE ----TRUE\n",
        "*  not  TRUE -----FALSE\n",
        "\n"
      ],
      "metadata": {
        "id": "Ga6Rt1TpUozP"
      }
    },
    {
      "cell_type": "code",
      "source": [],
      "metadata": {
        "id": "ebZr-hA9aVn3"
      },
      "execution_count": null,
      "outputs": []
    },
    {
      "cell_type": "markdown",
      "source": [
        "4. What are the values of the following expressions?\n",
        "\n",
        "(5 &gt; 4) and (3 == 5)\n",
        "\n",
        "not (5 &gt; 4)\n",
        "\n",
        "(5 &gt; 4) or (3 == 5)\n",
        "\n",
        "not ((5 &gt; 4) or (3 == 5))\n",
        "\n",
        "(True and True) and (True == False)\n",
        "\n",
        "(not False) or (not True)\n"
      ],
      "metadata": {
        "id": "E0QZS7P3S_kO"
      }
    },
    {
      "cell_type": "code",
      "source": [
        "(5>4) and (3 ==5)"
      ],
      "metadata": {
        "colab": {
          "base_uri": "https://localhost:8080/"
        },
        "id": "GBiLSbmlTf1b",
        "outputId": "fa118013-eec0-41c5-c5ac-4ea9f3bd8bb8"
      },
      "execution_count": null,
      "outputs": [
        {
          "output_type": "execute_result",
          "data": {
            "text/plain": [
              "False"
            ]
          },
          "metadata": {},
          "execution_count": 1
        }
      ]
    },
    {
      "cell_type": "code",
      "source": [
        "not (5>4)"
      ],
      "metadata": {
        "colab": {
          "base_uri": "https://localhost:8080/"
        },
        "id": "XvMsu5faTqiz",
        "outputId": "7d3d7c54-514a-461c-87f8-ff4b4f40e8ee"
      },
      "execution_count": null,
      "outputs": [
        {
          "output_type": "execute_result",
          "data": {
            "text/plain": [
              "False"
            ]
          },
          "metadata": {},
          "execution_count": 2
        }
      ]
    },
    {
      "cell_type": "code",
      "source": [
        "(5>4) or(3==5)"
      ],
      "metadata": {
        "colab": {
          "base_uri": "https://localhost:8080/"
        },
        "id": "Kp54OnzXTqOW",
        "outputId": "1fbe52bd-f99d-4fc1-9a01-243b9818209a"
      },
      "execution_count": null,
      "outputs": [
        {
          "output_type": "execute_result",
          "data": {
            "text/plain": [
              "True"
            ]
          },
          "metadata": {},
          "execution_count": 4
        }
      ]
    },
    {
      "cell_type": "code",
      "source": [
        "not((5>4)or(3==5))"
      ],
      "metadata": {
        "colab": {
          "base_uri": "https://localhost:8080/"
        },
        "id": "LrpEAsanTqAN",
        "outputId": "6d81c227-bbda-4586-b785-56de80af2df8"
      },
      "execution_count": null,
      "outputs": [
        {
          "output_type": "execute_result",
          "data": {
            "text/plain": [
              "False"
            ]
          },
          "metadata": {},
          "execution_count": 5
        }
      ]
    },
    {
      "cell_type": "code",
      "source": [
        "(True and True) and (True==False)"
      ],
      "metadata": {
        "colab": {
          "base_uri": "https://localhost:8080/"
        },
        "id": "NGa9tnYOUDrY",
        "outputId": "c78c8495-c03a-4dfc-c115-6ceea4c5af43"
      },
      "execution_count": null,
      "outputs": [
        {
          "output_type": "execute_result",
          "data": {
            "text/plain": [
              "False"
            ]
          },
          "metadata": {},
          "execution_count": 6
        }
      ]
    },
    {
      "cell_type": "code",
      "source": [
        "(not False) or (not True)"
      ],
      "metadata": {
        "colab": {
          "base_uri": "https://localhost:8080/"
        },
        "id": "EOePs2uDUSDq",
        "outputId": "949b2d21-37bb-4591-a44b-d87e6bf7c284"
      },
      "execution_count": null,
      "outputs": [
        {
          "output_type": "execute_result",
          "data": {
            "text/plain": [
              "True"
            ]
          },
          "metadata": {},
          "execution_count": 7
        }
      ]
    },
    {
      "cell_type": "code",
      "source": [],
      "metadata": {
        "id": "Mk0g_PXseGL_"
      },
      "execution_count": null,
      "outputs": []
    },
    {
      "cell_type": "markdown",
      "source": [
        "5. What are the six comparison operators?\n"
      ],
      "metadata": {
        "id": "DfgYmBwmRi-7"
      }
    },
    {
      "cell_type": "markdown",
      "source": [
        "* | < |--- Less than\n",
        "\n",
        "* | > |---Greater than\n",
        "\n",
        "* | <=|---less than or equal to\n",
        "\n",
        "* | >=|---greater than or equal to\n",
        "\n",
        "* | ==|---equal to equal to \n",
        "\n",
        "\n",
        "* | !=|---not equal to"
      ],
      "metadata": {
        "id": "AtXzeLVbRhAE"
      }
    },
    {
      "cell_type": "code",
      "source": [],
      "metadata": {
        "id": "hXeWw46zeIgX"
      },
      "execution_count": null,
      "outputs": []
    },
    {
      "cell_type": "markdown",
      "source": [
        "### 6. How do you tell the difference between the equal to and assignment operators?Describe a condition and when you would use one."
      ],
      "metadata": {
        "id": "Qaz5e4E4S8DO"
      }
    },
    {
      "cell_type": "markdown",
      "source": [
        "* == is used for compare two values.\n",
        "\n",
        "* = is used to assign the values to  a variables or expression. \n",
        "\n"
      ],
      "metadata": {
        "id": "7APDb69eNfII"
      }
    },
    {
      "cell_type": "code",
      "source": [
        "A=12\n",
        "B=24\n",
        "\n",
        "A==B"
      ],
      "metadata": {
        "id": "WzlEwqBVS66M",
        "colab": {
          "base_uri": "https://localhost:8080/"
        },
        "outputId": "de1c6fdb-687d-4ef4-e90f-a814b612019f"
      },
      "execution_count": null,
      "outputs": [
        {
          "output_type": "execute_result",
          "data": {
            "text/plain": [
              "False"
            ]
          },
          "metadata": {},
          "execution_count": 3
        }
      ]
    },
    {
      "cell_type": "code",
      "source": [
        "A=89\n",
        "\n",
        "print(\"value of a : \",A)"
      ],
      "metadata": {
        "colab": {
          "base_uri": "https://localhost:8080/"
        },
        "id": "9ecg7uSIPAOq",
        "outputId": "27964144-db1d-4527-eb6b-29594ef17966"
      },
      "execution_count": null,
      "outputs": [
        {
          "output_type": "stream",
          "name": "stdout",
          "text": [
            "value of a :  89\n"
          ]
        }
      ]
    },
    {
      "cell_type": "code",
      "source": [],
      "metadata": {
        "id": "lmYp4pRUeKf_"
      },
      "execution_count": null,
      "outputs": []
    },
    {
      "cell_type": "markdown",
      "source": [
        "###7. Identify the three blocks in this code:\n",
        "\n",
        "spam = 0\n",
        "\n",
        "if spam == 10:\n",
        "\n",
        "print(&#39;eggs&#39;)\n",
        "\n",
        "if spam &gt; 5:\n",
        "\n",
        "print(&#39;bacon&#39;)\n",
        "\n",
        "else:\n",
        "\n",
        "print(&#39;ham&#39;)\n",
        "\n",
        "print(&#39;spam&#39;)\n",
        "\n",
        "print(&#39;spam&#39;)"
      ],
      "metadata": {
        "id": "njnoBTkgS7ed"
      }
    },
    {
      "cell_type": "code",
      "source": [
        "spam = 0        \n",
        "if spam == 10:\n",
        "  print('eggs')\n",
        "\n",
        "if spam > 5:\n",
        "  print('bacon')\n",
        "\n",
        "else:\n",
        "  print('ham')\n",
        "  print('spam')\n",
        "  print('spam')"
      ],
      "metadata": {
        "colab": {
          "base_uri": "https://localhost:8080/"
        },
        "id": "t48N8E8m1cr0",
        "outputId": "90edd8f6-c3f4-4024-cc63-47cc3cb0a09f"
      },
      "execution_count": null,
      "outputs": [
        {
          "output_type": "stream",
          "name": "stdout",
          "text": [
            "ham\n",
            "spam\n",
            "spam\n"
          ]
        }
      ]
    },
    {
      "cell_type": "code",
      "source": [
        "\n",
        "### showing indentation error\n",
        "\n",
        "\n",
        "spam = 0         ## value assignment\n",
        "\n",
        "if spam == 10:    ## if condition\n",
        "\n",
        "  print('eggs')\n",
        "\n",
        "if spam > 5:\n",
        "\n",
        "  print('bacon')\n",
        "\n",
        "else:               ## else \n",
        "\n",
        "  print('ham')\n",
        "\n",
        "  print('spam')\n",
        "   \n",
        "  print('spam')"
      ],
      "metadata": {
        "colab": {
          "base_uri": "https://localhost:8080/"
        },
        "id": "MYuxwocM6xOg",
        "outputId": "694c5a41-3700-4634-94e7-67cc077665ee"
      },
      "execution_count": null,
      "outputs": [
        {
          "output_type": "stream",
          "name": "stdout",
          "text": [
            "ham\n",
            "spam\n",
            "spam\n"
          ]
        }
      ]
    },
    {
      "cell_type": "code",
      "source": [],
      "metadata": {
        "id": "hOuQnDNaeMc4"
      },
      "execution_count": null,
      "outputs": []
    },
    {
      "cell_type": "markdown",
      "source": [
        "### 8. Write code that prints Hello if 1 is stored in spam, prints Howdy if 2 is stored in spam, and prints Greetings! if anything else is stored in spam.\n",
        "\n"
      ],
      "metadata": {
        "id": "76c7i40gRhVR"
      }
    },
    {
      "cell_type": "code",
      "source": [
        "spam=input (\"enter a number:\")\n",
        "if spam ==1:\n",
        "  print(\"howdy\")\n",
        "elif spam  ==2:\n",
        "  print(\"greetings\")\n",
        "else:\n",
        "  print(\"hello\") "
      ],
      "metadata": {
        "id": "Xum2y6VW7sWW",
        "colab": {
          "base_uri": "https://localhost:8080/"
        },
        "outputId": "420d66e4-8fc0-442e-96d9-c256679d7d32"
      },
      "execution_count": null,
      "outputs": [
        {
          "output_type": "stream",
          "name": "stdout",
          "text": [
            "enter a number:3\n",
            "hello\n"
          ]
        }
      ]
    },
    {
      "cell_type": "code",
      "source": [],
      "metadata": {
        "id": "74Ez2KgkeNyS"
      },
      "execution_count": null,
      "outputs": []
    },
    {
      "cell_type": "markdown",
      "source": [
        "### 9.If your programme is stuck in an endless loop, what keys you’ll press?"
      ],
      "metadata": {
        "id": "Bv3VXd7NRhYR"
      }
    },
    {
      "cell_type": "markdown",
      "source": [
        "\n",
        "CTRL+C key\n",
        "\n"
      ],
      "metadata": {
        "id": "SkW8uQ8FRhbr"
      }
    },
    {
      "cell_type": "code",
      "source": [],
      "metadata": {
        "id": "_ofVBRPaePFI"
      },
      "execution_count": null,
      "outputs": []
    },
    {
      "cell_type": "markdown",
      "source": [
        "### 10. How can you tell the difference between break and continue?"
      ],
      "metadata": {
        "id": "qCK7GyiVTCFX"
      }
    },
    {
      "cell_type": "markdown",
      "source": [
        "* Break -- come out of the loop.\n",
        "*continue--next literation of loop."
      ],
      "metadata": {
        "id": "BP_4ozldU6jQ"
      }
    },
    {
      "cell_type": "code",
      "source": [],
      "metadata": {
        "id": "fd4iOQHieQR-"
      },
      "execution_count": null,
      "outputs": []
    },
    {
      "cell_type": "markdown",
      "source": [
        "### 11. In a for loop, what is the difference between range(10), range(0, 10), and range(0, 10, 1)?"
      ],
      "metadata": {
        "id": "NXQ3xeEaTCB8"
      }
    },
    {
      "cell_type": "markdown",
      "source": [
        "* no difference, range takes from 0 to 9"
      ],
      "metadata": {
        "id": "_g_46k4UXWty"
      }
    },
    {
      "cell_type": "code",
      "source": [
        "for i in range(10):\n",
        "\n",
        "  \n",
        "  print(i)"
      ],
      "metadata": {
        "colab": {
          "base_uri": "https://localhost:8080/"
        },
        "id": "Mw4wP9XJWMjK",
        "outputId": "790b4629-0974-46fe-a271-fb4e19ecc77c"
      },
      "execution_count": null,
      "outputs": [
        {
          "output_type": "stream",
          "name": "stdout",
          "text": [
            "0\n",
            "1\n",
            "2\n",
            "3\n",
            "4\n",
            "5\n",
            "6\n",
            "7\n",
            "8\n",
            "9\n"
          ]
        }
      ]
    },
    {
      "cell_type": "code",
      "source": [
        "for i in range(0,10):\n",
        "  print(i)"
      ],
      "metadata": {
        "colab": {
          "base_uri": "https://localhost:8080/"
        },
        "id": "Z_-m3bRRWcJO",
        "outputId": "a189d593-aba0-4a1a-e385-7e88a8678ff6"
      },
      "execution_count": null,
      "outputs": [
        {
          "output_type": "stream",
          "name": "stdout",
          "text": [
            "0\n",
            "1\n",
            "2\n",
            "3\n",
            "4\n",
            "5\n",
            "6\n",
            "7\n",
            "8\n",
            "9\n"
          ]
        }
      ]
    },
    {
      "cell_type": "code",
      "source": [
        "for i in range(0,10,1):\n",
        "\n",
        "  print(i)"
      ],
      "metadata": {
        "colab": {
          "base_uri": "https://localhost:8080/"
        },
        "id": "X9jDoCnRWcFq",
        "outputId": "32081271-8e0d-4b64-f873-feace0a03284"
      },
      "execution_count": null,
      "outputs": [
        {
          "output_type": "stream",
          "name": "stdout",
          "text": [
            "0\n",
            "1\n",
            "2\n",
            "3\n",
            "4\n",
            "5\n",
            "6\n",
            "7\n",
            "8\n",
            "9\n"
          ]
        }
      ]
    },
    {
      "cell_type": "code",
      "source": [],
      "metadata": {
        "id": "5PYDne5YeSM_"
      },
      "execution_count": null,
      "outputs": []
    },
    {
      "cell_type": "markdown",
      "source": [
        "### 12. Write a short program that prints the numbers 1 to 10 using a for loop. Then write an equivalent program that prints the numbers 1 to 10 using a while loop.\n"
      ],
      "metadata": {
        "id": "M7gHaMLhTBup"
      }
    },
    {
      "cell_type": "code",
      "source": [
        "### Using for loop\n",
        "\n",
        "for i in range(1,11):\n",
        "  print(i)"
      ],
      "metadata": {
        "colab": {
          "base_uri": "https://localhost:8080/"
        },
        "id": "DTUP3wqMU-9S",
        "outputId": "d8f4506d-7026-46c3-8b69-4f77375064f4"
      },
      "execution_count": null,
      "outputs": [
        {
          "output_type": "stream",
          "name": "stdout",
          "text": [
            "1\n",
            "2\n",
            "3\n",
            "4\n",
            "5\n",
            "6\n",
            "7\n",
            "8\n",
            "9\n",
            "10\n"
          ]
        }
      ]
    },
    {
      "cell_type": "code",
      "source": [
        "### Using while loop\n",
        "\n",
        "i=0\n",
        "\n",
        "while i<10 :\n",
        "  i=i+1\n",
        "  print(i)"
      ],
      "metadata": {
        "colab": {
          "base_uri": "https://localhost:8080/"
        },
        "id": "s-tkgRH5U-u6",
        "outputId": "be1f020d-c2dc-4da5-e3d1-f84713ea423d"
      },
      "execution_count": null,
      "outputs": [
        {
          "output_type": "stream",
          "name": "stdout",
          "text": [
            "1\n",
            "2\n",
            "3\n",
            "4\n",
            "5\n",
            "6\n",
            "7\n",
            "8\n",
            "9\n",
            "10\n"
          ]
        }
      ]
    },
    {
      "cell_type": "code",
      "source": [],
      "metadata": {
        "id": "aLPNAk5qeUNr"
      },
      "execution_count": null,
      "outputs": []
    },
    {
      "cell_type": "markdown",
      "source": [
        "\n",
        "### 13. If you had a function named bacon() inside a module named spam, how would you call it after importing spam?"
      ],
      "metadata": {
        "id": "MYBGwCg3UJxH"
      }
    },
    {
      "cell_type": "markdown",
      "source": [
        "*  it called as a spam.bacon()"
      ],
      "metadata": {
        "id": "WdIe1W_9YkCI"
      }
    },
    {
      "cell_type": "code",
      "source": [],
      "metadata": {
        "id": "RQ53xO_cUI1x"
      },
      "execution_count": null,
      "outputs": []
    }
  ]
}