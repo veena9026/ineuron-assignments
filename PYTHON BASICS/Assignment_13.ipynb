{
  "nbformat": 4,
  "nbformat_minor": 0,
  "metadata": {
    "colab": {
      "provenance": [],
      "authorship_tag": "ABX9TyOWLyw1HAvDx5skiYXiuW3/",
      "include_colab_link": true
    },
    "kernelspec": {
      "name": "python3",
      "display_name": "Python 3"
    },
    "language_info": {
      "name": "python"
    }
  },
  "cells": [
    {
      "cell_type": "markdown",
      "metadata": {
        "id": "view-in-github",
        "colab_type": "text"
      },
      "source": [
        "<a href=\"https://colab.research.google.com/github/veena9026/ineuron-assignments/blob/main/assignments_13.ipynb\" target=\"_parent\"><img src=\"https://colab.research.google.com/assets/colab-badge.svg\" alt=\"Open In Colab\"/></a>"
      ]
    },
    {
      "cell_type": "markdown",
      "source": [
        "1. What advantages do Excel spreadsheets have over CSV spreadsheets?\n"
      ],
      "metadata": {
        "id": "lsOHDVsHfrK8"
      }
    },
    {
      "cell_type": "markdown",
      "source": [
        "Ans: -\n",
        "\n",
        "In Excel, spreadsheets can have values of datatypes other than strings; cells can have different fonts, sizes, or color settings; cells can have varying widths and heights; adjecent cells can be merged; and we can embed images and charts."
      ],
      "metadata": {
        "id": "TUubNGSdgStM"
      }
    },
    {
      "cell_type": "markdown",
      "source": [
        "2. What do you pass to csv.reader() and csv.writer() to create reader and writer objects?\n"
      ],
      "metadata": {
        "id": "97CB-ooyfrWw"
      }
    },
    {
      "cell_type": "markdown",
      "source": [
        "Ans:\n",
        "\n",
        "To write a CSV file with the csv module, First, call open() and pass it 'w' to open a file in write mode, and it create a object .That object pass in csv.writer()\n",
        "\n",
        "write_file = open('filename.csv','w')\n",
        "\n",
        "Writer = csv.writer(write_file)\n",
        "\n",
        "To read a CSV file with the csv module, first open it using the open() function and it create a object .That object pass in csv.reader()\n",
        "\n",
        "read_file = open('filename.csv')\n",
        "\n",
        "Reader = csv.reader(read_file)"
      ],
      "metadata": {
        "id": "IXrJ3SNxgTp2"
      }
    },
    {
      "cell_type": "markdown",
      "source": [
        "3. What modes do File objects for reader and writer objects need to be opened in?\n"
      ],
      "metadata": {
        "id": "xgmhEMkmfrZz"
      }
    },
    {
      "cell_type": "markdown",
      "source": [
        "Ans :-\n",
        "\n",
        "File objects need to be opened in read-binary ('rb') for reader objects and write-binary ('wb') fro writer objects."
      ],
      "metadata": {
        "id": "GWcaC1A5fro_"
      }
    },
    {
      "cell_type": "markdown",
      "source": [
        "4. What method takes a list argument and writes it to a CSV file?\n"
      ],
      "metadata": {
        "id": "z2j1qqNffrcy"
      }
    },
    {
      "cell_type": "markdown",
      "source": [
        "Ans:\n",
        "\n",
        "For csv.reader(iterable_file_object), the file objects needed to be opened in read mode mode='r' Whereas for csv.writer(iterable_file_object) the file objects needed to be opened in write mode mode='w'"
      ],
      "metadata": {
        "id": "J0dbDBE8gL-E"
      }
    },
    {
      "cell_type": "markdown",
      "source": [
        "5. What do the keyword arguments delimiter and line terminator do?\n"
      ],
      "metadata": {
        "id": "0T02ak0yfrfg"
      }
    },
    {
      "cell_type": "markdown",
      "source": [
        "Ans:-\n",
        "\n",
        "The delimeter argument change the string used to separate cells in a row.\n",
        "\n",
        "The lineterminator argument changes the string used to separate rows."
      ],
      "metadata": {
        "id": "3OZF7k6Qfrry"
      }
    },
    {
      "cell_type": "markdown",
      "source": [
        "6. What function takes a string of JSON data and returns a Python data structure?\n"
      ],
      "metadata": {
        "id": "hkqyeuGIfrip"
      }
    },
    {
      "cell_type": "markdown",
      "source": [
        "Ans:-\n",
        "\n",
        "json.loads()"
      ],
      "metadata": {
        "id": "SCEQIkTAfrvL"
      }
    },
    {
      "cell_type": "markdown",
      "source": [
        "7. What function takes a Python data structure and returns a string of JSON data?"
      ],
      "metadata": {
        "id": "wHXrgF55frlt"
      }
    },
    {
      "cell_type": "markdown",
      "source": [
        "Ans:-\n",
        "\n",
        "json.dumps()"
      ],
      "metadata": {
        "id": "3VgBuagXfr08"
      }
    }
  ]
}