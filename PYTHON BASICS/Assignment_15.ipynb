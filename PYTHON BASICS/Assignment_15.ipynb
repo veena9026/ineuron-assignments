{
  "nbformat": 4,
  "nbformat_minor": 0,
  "metadata": {
    "colab": {
      "provenance": [],
      "authorship_tag": "ABX9TyMT7nf3M9Xsz6qXOxuYS2fB",
      "include_colab_link": true
    },
    "kernelspec": {
      "name": "python3",
      "display_name": "Python 3"
    },
    "language_info": {
      "name": "python"
    }
  },
  "cells": [
    {
      "cell_type": "markdown",
      "metadata": {
        "id": "view-in-github",
        "colab_type": "text"
      },
      "source": [
        "<a href=\"https://colab.research.google.com/github/veena9026/ineuron-assignments/blob/main/Assignment_15.ipynb\" target=\"_parent\"><img src=\"https://colab.research.google.com/assets/colab-badge.svg\" alt=\"Open In Colab\"/></a>"
      ]
    },
    {
      "cell_type": "markdown",
      "source": [
        "1. How many seconds are in an hour? Use the interactive interpreter as a calculator and multiply the\n",
        "number of seconds in a minute (60) by the number of minutes in an hour (also 60).\n",
        "sol. 60\n"
      ],
      "metadata": {
        "id": "oo_QfKtZEkHX"
      }
    },
    {
      "cell_type": "code",
      "source": [
        "print(\"seconds in an hour :\" ,60*60)"
      ],
      "metadata": {
        "colab": {
          "base_uri": "https://localhost:8080/"
        },
        "id": "IHktsM58JndZ",
        "outputId": "fd36c721-5b20-4e22-c2e6-da8341f55f2f"
      },
      "execution_count": 2,
      "outputs": [
        {
          "output_type": "stream",
          "name": "stdout",
          "text": [
            "seconds in an hour : 3600\n"
          ]
        }
      ]
    },
    {
      "cell_type": "markdown",
      "source": [
        "2. Assign the result from the previous task (seconds in an hour) to a variable called\n",
        "seconds_per_hour.\n"
      ],
      "metadata": {
        "id": "JFnYXrxZEkQ_"
      }
    },
    {
      "cell_type": "code",
      "source": [
        "seconds_per_hour = 60*60\n",
        "print(seconds_per_hour)"
      ],
      "metadata": {
        "colab": {
          "base_uri": "https://localhost:8080/"
        },
        "id": "nYmt0Rg-KSXd",
        "outputId": "bc80b9c8-b010-4731-b62e-64544a1fd509"
      },
      "execution_count": 3,
      "outputs": [
        {
          "output_type": "stream",
          "name": "stdout",
          "text": [
            "3600\n"
          ]
        }
      ]
    },
    {
      "cell_type": "markdown",
      "source": [
        "3. How many seconds do you think there are in a day? Make use of the variables seconds per hour\n",
        "and minutes per hour.\n"
      ],
      "metadata": {
        "id": "pQNgf52hEkT7"
      }
    },
    {
      "cell_type": "code",
      "source": [
        "minutes_per_hour = 60\n",
        "seconds_per_hour*24"
      ],
      "metadata": {
        "colab": {
          "base_uri": "https://localhost:8080/"
        },
        "id": "CCQd_yo5MjjJ",
        "outputId": "295d4bbc-89ba-408a-a95f-e2a39bec688d"
      },
      "execution_count": 4,
      "outputs": [
        {
          "output_type": "execute_result",
          "data": {
            "text/plain": [
              "86400"
            ]
          },
          "metadata": {},
          "execution_count": 4
        }
      ]
    },
    {
      "cell_type": "markdown",
      "source": [
        "4. Calculate seconds per day again, but this time save the result in a variable called seconds_per_day\n",
        "\n"
      ],
      "metadata": {
        "id": "I_nm9GTkEkXJ"
      }
    },
    {
      "cell_type": "code",
      "source": [
        "seconds_per_day = 24*60*60\n",
        "print(seconds_per_day)"
      ],
      "metadata": {
        "colab": {
          "base_uri": "https://localhost:8080/"
        },
        "id": "36JsIzkpMue3",
        "outputId": "a0d8717a-120a-4575-b6ce-668f91611d72"
      },
      "execution_count": 5,
      "outputs": [
        {
          "output_type": "stream",
          "name": "stdout",
          "text": [
            "86400\n"
          ]
        }
      ]
    },
    {
      "cell_type": "markdown",
      "source": [
        "5. Divide seconds_per_day by seconds_per_hour. Use floating-point (/) division.\n"
      ],
      "metadata": {
        "id": "vjxbCoOhEkaY"
      }
    },
    {
      "cell_type": "code",
      "source": [
        "print(seconds_per_day/seconds_per_hour)"
      ],
      "metadata": {
        "colab": {
          "base_uri": "https://localhost:8080/"
        },
        "id": "vw4o5-hjNA-f",
        "outputId": "e7777855-9165-4be2-f3f3-28b9e5042c26"
      },
      "execution_count": 6,
      "outputs": [
        {
          "output_type": "stream",
          "name": "stdout",
          "text": [
            "24.0\n"
          ]
        }
      ]
    },
    {
      "cell_type": "markdown",
      "source": [
        "\n",
        "6. Divide seconds_per_day by seconds_per_hour, using integer (//) division. Did this number agree\n",
        "with the floating-point value from the previous question, aside from the final .0?"
      ],
      "metadata": {
        "id": "pDHkXowxEkdQ"
      }
    },
    {
      "cell_type": "code",
      "source": [
        "print(seconds_per_day//seconds_per_hour, end='')\n",
        "print(' -> yes this values agree with the floating point value from the previous question')\n"
      ],
      "metadata": {
        "colab": {
          "base_uri": "https://localhost:8080/"
        },
        "id": "ZE0C7f3PNU5k",
        "outputId": "7f09ccee-67d0-4abf-d75f-06f1f9e7d0a1"
      },
      "execution_count": 7,
      "outputs": [
        {
          "output_type": "stream",
          "name": "stdout",
          "text": [
            "24 -> yes this values agree with the floating point value from the previous question\n"
          ]
        }
      ]
    },
    {
      "cell_type": "markdown",
      "source": [
        "\n",
        "7. Write a generator, genPrimes, that returns the sequence of prime numbers on successive calls to\n",
        "its next() method: 2, 3, 5, 7, 11, ...\n"
      ],
      "metadata": {
        "id": "yAATFx7VEkgM"
      }
    },
    {
      "cell_type": "code",
      "source": [
        "\n",
        "def genPrimes():\n",
        "    n = 0\n",
        "    while True:\n",
        "        if n == 2 or n == 3 :\n",
        "            yield n\n",
        "        elif ((n-1)%6 == 0 or (n+1)%6 == 0) and n !=1:\n",
        "            yield n\n",
        "        n = n+1\n",
        "\n",
        "output = genPrimes()\n",
        "for ele in range(5):\n",
        "    print(next(output))"
      ],
      "metadata": {
        "colab": {
          "base_uri": "https://localhost:8080/"
        },
        "id": "iRDb75qZNij-",
        "outputId": "78190e65-a8c7-48d8-d356-2e7be844f453"
      },
      "execution_count": 8,
      "outputs": [
        {
          "output_type": "stream",
          "name": "stdout",
          "text": [
            "2\n",
            "3\n",
            "5\n",
            "7\n",
            "11\n"
          ]
        }
      ]
    }
  ]
}