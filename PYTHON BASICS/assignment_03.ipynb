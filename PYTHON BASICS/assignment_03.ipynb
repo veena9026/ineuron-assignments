{
  "nbformat": 4,
  "nbformat_minor": 0,
  "metadata": {
    "colab": {
      "provenance": []
    },
    "kernelspec": {
      "name": "python3",
      "display_name": "Python 3"
    },
    "language_info": {
      "name": "python"
    }
  },
  "cells": [
    {
      "cell_type": "markdown",
      "source": [
        "1. Why are functions advantageous to have in your programs?\n",
        " clause?\n"
      ],
      "metadata": {
        "id": "fKFpAIQdBqlq"
      }
    },
    {
      "cell_type": "markdown",
      "source": [
        "ANS:-\n",
        "\n",
        " This makes programs shorter, easier to read, and easier to update. Functions reduce the need for duplicate code."
      ],
      "metadata": {
        "id": "3OmsO9AOEePs"
      }
    },
    {
      "cell_type": "code",
      "source": [],
      "metadata": {
        "id": "0fglahrnOQYh"
      },
      "execution_count": null,
      "outputs": []
    },
    {
      "cell_type": "markdown",
      "source": [
        "2. When does the code in a function run: when it's specified or when it's called?\n"
      ],
      "metadata": {
        "id": "o-UMi3azB8Zr"
      }
    },
    {
      "cell_type": "markdown",
      "source": [
        "* A function is a block of code that only runs when it is called. Python functions return a value using a return statement, if one is specified. A function can be called anywhere after the function has been declared."
      ],
      "metadata": {
        "id": "4QLpmDfELgtF"
      }
    },
    {
      "cell_type": "markdown",
      "source": [
        "3. What statement creates a function?\n"
      ],
      "metadata": {
        "id": "kgYI26QZB900"
      }
    },
    {
      "cell_type": "markdown",
      "source": [
        "* The def statement defines, i.e. creates a function."
      ],
      "metadata": {
        "id": "fdFiUFYxnZL5"
      }
    },
    {
      "cell_type": "code",
      "source": [
        "def text(a):\n",
        "  return a"
      ],
      "metadata": {
        "id": "JpG--Tk89NDo"
      },
      "execution_count": null,
      "outputs": []
    },
    {
      "cell_type": "code",
      "source": [
        "text(12)"
      ],
      "metadata": {
        "colab": {
          "base_uri": "https://localhost:8080/"
        },
        "id": "jKoNJdWX9SQw",
        "outputId": "5179c655-6998-4dfa-f376-93bffbc2afdb"
      },
      "execution_count": null,
      "outputs": [
        {
          "output_type": "execute_result",
          "data": {
            "text/plain": [
              "12"
            ]
          },
          "metadata": {},
          "execution_count": 11
        }
      ]
    },
    {
      "cell_type": "code",
      "source": [
        "def test():\n",
        "  print(\"hello,welcome to ineuron\")\n",
        "\n",
        "test()  \n"
      ],
      "metadata": {
        "colab": {
          "base_uri": "https://localhost:8080/"
        },
        "id": "vCgvdkFu8oND",
        "outputId": "ae93c367-4f83-433c-aabe-d0782c511bcc"
      },
      "execution_count": null,
      "outputs": [
        {
          "output_type": "stream",
          "name": "stdout",
          "text": [
            "hello,welcome to ineuron\n"
          ]
        }
      ]
    },
    {
      "cell_type": "markdown",
      "source": [],
      "metadata": {
        "id": "bH2KrzcDLiB-"
      }
    },
    {
      "cell_type": "markdown",
      "source": [
        "4. What is the difference between a function and a function call?\n"
      ],
      "metadata": {
        "id": "zYxRDzeiB9xb"
      }
    },
    {
      "cell_type": "markdown",
      "source": [
        "* A function is a block of code that does a particular operation and returns a result. It usually accepts inputs as parameters and returns a result. The parameters are not mandatory.\n",
        "\n",
        "* A function call is the code used to pass control to a function.\n",
        "\n"
      ],
      "metadata": {
        "id": "Z4fmiCC4LlwK"
      }
    },
    {
      "cell_type": "markdown",
      "source": [
        "5. How many global scopes are there in a Python program? How many local scopes?\n"
      ],
      "metadata": {
        "id": "RUbM1k-gB9t1"
      }
    },
    {
      "cell_type": "markdown",
      "source": [
        "* There is one global scope, and a local scope is created whenever a function is called\n",
        "\n",
        "\n",
        "\n",
        "\n",
        "\n",
        "\n",
        "\n",
        "\n",
        "\n",
        "\n",
        "\n",
        "\n",
        "\n",
        "\n",
        "\n"
      ],
      "metadata": {
        "id": "VRkdryp-Lkdz"
      }
    },
    {
      "cell_type": "markdown",
      "source": [
        "6. What happens to variables in a local scope when the function call returns?\n"
      ],
      "metadata": {
        "id": "0AfvGe7KB9ng"
      }
    },
    {
      "cell_type": "markdown",
      "source": [
        "* When a function returns, the local scope is destroyed, and all the variables in it are forgotten."
      ],
      "metadata": {
        "id": "quN6sWHgLnn8"
      }
    },
    {
      "cell_type": "markdown",
      "source": [
        "7. What is the concept of a return value? Is it possible to have a return value in an expression?\n",
        "\n"
      ],
      "metadata": {
        "id": "zikExyCHB9j_"
      }
    },
    {
      "cell_type": "markdown",
      "source": [
        "\n",
        "* When the return statement is executed, the function exits immediately, and the return value is copied from the function back to the caller. This process is called return by value."
      ],
      "metadata": {
        "id": "Fd5upzD1LpCp"
      }
    },
    {
      "cell_type": "markdown",
      "source": [
        "8. If a function does not have a return statement, what is the return value of a call to that function?\n",
        "\n"
      ],
      "metadata": {
        "id": "Cmgo9AD6B9gj"
      }
    },
    {
      "cell_type": "markdown",
      "source": [
        "* If there is no return statement for a function, its return value is None.\n"
      ],
      "metadata": {
        "id": "Mobsv-3ILrjz"
      }
    },
    {
      "cell_type": "markdown",
      "source": [
        "9. How do you make a function variable refer to the global variable?\n",
        "\n"
      ],
      "metadata": {
        "id": "LMoG4l2rB9Ze"
      }
    },
    {
      "cell_type": "markdown",
      "source": [
        "* A global statement will force a variable in a function to refer to the global variable."
      ],
      "metadata": {
        "id": "Ghi8b7-KLuyo"
      }
    },
    {
      "cell_type": "markdown",
      "source": [
        "10. What is the data type of None?\n",
        "\n"
      ],
      "metadata": {
        "id": "K6Yr0pc_B9Nq"
      }
    },
    {
      "cell_type": "markdown",
      "source": [
        "* None : it is a none data type."
      ],
      "metadata": {
        "id": "pC5-PIkwLwHY"
      }
    },
    {
      "cell_type": "markdown",
      "source": [
        "11. What does the sentence import areallyourpetsnamederic do?\n"
      ],
      "metadata": {
        "id": "fMBFusnfComL"
      }
    },
    {
      "cell_type": "markdown",
      "source": [
        "* That import statement imports a module named areallyourpetsnamederic."
      ],
      "metadata": {
        "id": "eMgHiX6tLxSI"
      }
    },
    {
      "cell_type": "markdown",
      "source": [
        "12. If you had a bacon() feature in a spam module, what would you call it after importing spam?\n"
      ],
      "metadata": {
        "id": "KyeoFyHLCoc0"
      }
    },
    {
      "cell_type": "markdown",
      "source": [
        "* This function can be called with spam.bacon()."
      ],
      "metadata": {
        "id": "7UXh25EmL0Py"
      }
    },
    {
      "cell_type": "markdown",
      "source": [
        "13. What can you do to save a programme from crashing if it encounters an error?\n"
      ],
      "metadata": {
        "id": "a5HCbjq1CoY_"
      }
    },
    {
      "cell_type": "markdown",
      "source": [
        "* Place the line of code that might cause an error in a try clause.\n"
      ],
      "metadata": {
        "id": "K1GaWQLhL2M3"
      }
    },
    {
      "cell_type": "markdown",
      "source": [
        "14. What is the purpose of the try clause? What is the purpose of the except  clause ?"
      ],
      "metadata": {
        "id": "QcVAZe6mCoWM"
      }
    },
    {
      "cell_type": "markdown",
      "source": [
        "* The code that could potentially cause an error goes in the try clause.\n",
        "-The code that executes if an error happens goes in the except clause."
      ],
      "metadata": {
        "id": "bPrK7gQTL4RM"
      }
    },
    {
      "cell_type": "code",
      "source": [],
      "metadata": {
        "id": "Fw4PE76Aq0cS"
      },
      "execution_count": null,
      "outputs": []
    }
  ]
}