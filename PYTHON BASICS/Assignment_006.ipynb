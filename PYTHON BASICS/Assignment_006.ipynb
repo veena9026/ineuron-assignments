{
  "nbformat": 4,
  "nbformat_minor": 0,
  "metadata": {
    "colab": {
      "provenance": [],
      "authorship_tag": "ABX9TyP8hfrbpYYbxgC5IIjVUrr5",
      "include_colab_link": true
    },
    "kernelspec": {
      "name": "python3",
      "display_name": "Python 3"
    },
    "language_info": {
      "name": "python"
    }
  },
  "cells": [
    {
      "cell_type": "markdown",
      "metadata": {
        "id": "view-in-github",
        "colab_type": "text"
      },
      "source": [
        "<a href=\"https://colab.research.google.com/github/veena9026/ineuron-assignments/blob/main/Assignment_006.ipynb\" target=\"_parent\"><img src=\"https://colab.research.google.com/assets/colab-badge.svg\" alt=\"Open In Colab\"/></a>"
      ]
    },
    {
      "cell_type": "markdown",
      "source": [
        "1. What are escape characters, and how do you use them?\n",
        "\n"
      ],
      "metadata": {
        "id": "BvSvyfPn5zEC"
      }
    },
    {
      "cell_type": "markdown",
      "source": [
        "*  In Python strings, the backslash “ ” is a special character, also called the “escape” character. It is used in representing certain whitespace characters: “\\t” is a tab, “\\n” is a new line, and “\\r” is a carriage return. Finally, “ ” can be used to escape itself: “\\” is the literal backslash character."
      ],
      "metadata": {
        "id": "hJLSNXwQ5ymL"
      }
    },
    {
      "cell_type": "markdown",
      "source": [
        "2. What do the escape characters n and t stand for?\n"
      ],
      "metadata": {
        "id": "Jw2KyFSe5zAe"
      }
    },
    {
      "cell_type": "markdown",
      "source": [
        "* \\n is a new line.\n",
        "* \\t is a tab .\n"
      ],
      "metadata": {
        "id": "i35fI0E95yjR"
      }
    },
    {
      "cell_type": "markdown",
      "source": [
        "3. What is the way to include backslash characters in a string?\n",
        "\n"
      ],
      "metadata": {
        "id": "tJVRb-0h5y9-"
      }
    },
    {
      "cell_type": "markdown",
      "source": [
        "* To insert characters that are illegal in a string, use an escape character. An escape character is a backslash \\ followed by the character you want to insert."
      ],
      "metadata": {
        "id": "XjFXtQSLVpUs"
      }
    },
    {
      "cell_type": "code",
      "source": [
        "txt = \"This will insert one \\\\ (backslash).\"\n",
        "print(txt) "
      ],
      "metadata": {
        "id": "jyWkDYooC-MJ",
        "colab": {
          "base_uri": "https://localhost:8080/"
        },
        "outputId": "ed387b9a-f5ee-472a-eb9e-35232de1e21f"
      },
      "execution_count": 1,
      "outputs": [
        {
          "output_type": "stream",
          "name": "stdout",
          "text": [
            "This will insert one \\ (backslash).\n"
          ]
        }
      ]
    },
    {
      "cell_type": "markdown",
      "source": [
        "4. The string \"Howl's Moving Castle\" is a correct value. Why isn't the single quote character in the word Howl's not escaped a problem?\n"
      ],
      "metadata": {
        "id": "PTDOCBDh5y7U"
      }
    },
    {
      "cell_type": "markdown",
      "source": [
        "* The single quote in Howl's is fine because you've used double quotes to mark the beginning and end of the string."
      ],
      "metadata": {
        "id": "H_xZE30cRI2M"
      }
    },
    {
      "cell_type": "code",
      "source": [
        "print(\"HowI's Moving Castle\")\n",
        "\n",
        "print('Its a \"Nice\" Sunday')"
      ],
      "metadata": {
        "colab": {
          "base_uri": "https://localhost:8080/"
        },
        "id": "EePMl62TRRUm",
        "outputId": "e3a59d38-2659-43fb-8b0c-767ed62e0da1"
      },
      "execution_count": 2,
      "outputs": [
        {
          "output_type": "stream",
          "name": "stdout",
          "text": [
            "HowI's Moving Castle\n",
            "Its a \"Nice\" Sunday\n"
          ]
        }
      ]
    },
    {
      "cell_type": "markdown",
      "source": [
        "5. How do you write a string of newlines if you don't want to use the n character?\n"
      ],
      "metadata": {
        "id": "RsNqvyt45y3-"
      }
    },
    {
      "cell_type": "markdown",
      "source": [
        "*  With triple-quoted string literals, you can use actual newlines instead of \\n"
      ],
      "metadata": {
        "id": "QQjP3UhfAVf7"
      }
    },
    {
      "cell_type": "markdown",
      "source": [
        "6. What are the values of the given expressions?\n",
        "* 'Hello, world!'[1]\n",
        "* 'Hello, world!'[0:5]\n",
        "* 'Hello, world!'[:5]\n",
        "* 'Hello, world!'[3:]\n",
        "\n"
      ],
      "metadata": {
        "id": "rIr2-FGW5y0_"
      }
    },
    {
      "cell_type": "code",
      "source": [
        "'Hello, world!'[1]\n"
      ],
      "metadata": {
        "colab": {
          "base_uri": "https://localhost:8080/",
          "height": 36
        },
        "id": "iDRK5nyJ7B2Z",
        "outputId": "ba83db9f-d2c7-4167-a6c4-9a248265e7cf"
      },
      "execution_count": 3,
      "outputs": [
        {
          "output_type": "execute_result",
          "data": {
            "text/plain": [
              "'e'"
            ],
            "application/vnd.google.colaboratory.intrinsic+json": {
              "type": "string"
            }
          },
          "metadata": {},
          "execution_count": 3
        }
      ]
    },
    {
      "cell_type": "code",
      "source": [
        "'Hello, world!'[0:5]\n"
      ],
      "metadata": {
        "colab": {
          "base_uri": "https://localhost:8080/",
          "height": 36
        },
        "id": "O8v8-cCK7CW9",
        "outputId": "27385c27-bb3a-428d-a576-223875775e1d"
      },
      "execution_count": 4,
      "outputs": [
        {
          "output_type": "execute_result",
          "data": {
            "text/plain": [
              "'Hello'"
            ],
            "application/vnd.google.colaboratory.intrinsic+json": {
              "type": "string"
            }
          },
          "metadata": {},
          "execution_count": 4
        }
      ]
    },
    {
      "cell_type": "code",
      "source": [
        "'Hello, world!'[:5]\n"
      ],
      "metadata": {
        "colab": {
          "base_uri": "https://localhost:8080/",
          "height": 36
        },
        "id": "zV9bVwLI7CS6",
        "outputId": "ddb14482-7023-4343-d352-38cbcd4fce2d"
      },
      "execution_count": 5,
      "outputs": [
        {
          "output_type": "execute_result",
          "data": {
            "text/plain": [
              "'Hello'"
            ],
            "application/vnd.google.colaboratory.intrinsic+json": {
              "type": "string"
            }
          },
          "metadata": {},
          "execution_count": 5
        }
      ]
    },
    {
      "cell_type": "code",
      "source": [
        "'Hello, world!'[3:]"
      ],
      "metadata": {
        "colab": {
          "base_uri": "https://localhost:8080/",
          "height": 36
        },
        "id": "FeRG1X207CPl",
        "outputId": "8aaa5f78-5c6f-4951-df38-4daae115d6d1"
      },
      "execution_count": 6,
      "outputs": [
        {
          "output_type": "execute_result",
          "data": {
            "text/plain": [
              "'lo, world!'"
            ],
            "application/vnd.google.colaboratory.intrinsic+json": {
              "type": "string"
            }
          },
          "metadata": {},
          "execution_count": 6
        }
      ]
    },
    {
      "cell_type": "markdown",
      "source": [
        "7. What are the values of the following expressions?\n",
        "* 'Hello'.upper()\n",
        "* 'Hello'.upper().isupper()\n",
        "* 'Hello'.upper().lower()\n"
      ],
      "metadata": {
        "id": "CXDWc8rJ5yyQ"
      }
    },
    {
      "cell_type": "code",
      "source": [
        "'Hello'.upper()\n"
      ],
      "metadata": {
        "colab": {
          "base_uri": "https://localhost:8080/",
          "height": 36
        },
        "id": "WML2r7QT7Z9P",
        "outputId": "9bcdaa5d-5802-49fa-e6a8-ee1b0b5d8069"
      },
      "execution_count": 7,
      "outputs": [
        {
          "output_type": "execute_result",
          "data": {
            "text/plain": [
              "'HELLO'"
            ],
            "application/vnd.google.colaboratory.intrinsic+json": {
              "type": "string"
            }
          },
          "metadata": {},
          "execution_count": 7
        }
      ]
    },
    {
      "cell_type": "code",
      "source": [
        "'Hello'.upper().isupper()\n"
      ],
      "metadata": {
        "colab": {
          "base_uri": "https://localhost:8080/"
        },
        "id": "82xQ8Yx87Z56",
        "outputId": "3dbbb22d-d738-4704-c122-de598d1e5221"
      },
      "execution_count": 8,
      "outputs": [
        {
          "output_type": "execute_result",
          "data": {
            "text/plain": [
              "True"
            ]
          },
          "metadata": {},
          "execution_count": 8
        }
      ]
    },
    {
      "cell_type": "code",
      "source": [
        "'Hello'.upper().lower()"
      ],
      "metadata": {
        "colab": {
          "base_uri": "https://localhost:8080/",
          "height": 36
        },
        "id": "49JzNZ0z7ZwN",
        "outputId": "57cc38d6-0a9a-437e-ff27-ecd778ca8103"
      },
      "execution_count": 9,
      "outputs": [
        {
          "output_type": "execute_result",
          "data": {
            "text/plain": [
              "'hello'"
            ],
            "application/vnd.google.colaboratory.intrinsic+json": {
              "type": "string"
            }
          },
          "metadata": {},
          "execution_count": 9
        }
      ]
    },
    {
      "cell_type": "code",
      "source": [],
      "metadata": {
        "id": "r1Dab7xs7Zsu"
      },
      "execution_count": 9,
      "outputs": []
    },
    {
      "cell_type": "markdown",
      "source": [
        "8. What are the values of the following expressions?\n",
        "* 'Remember, remember, the fifth of July.'.split()\n",
        "* '-'.join('There can only one.'.split())\n"
      ],
      "metadata": {
        "id": "4SNWCSyR5yvK"
      }
    },
    {
      "cell_type": "code",
      "source": [
        "'Remember, remember, the fifth of July.'.split()\n"
      ],
      "metadata": {
        "colab": {
          "base_uri": "https://localhost:8080/"
        },
        "id": "4Oxe0dyo7Yno",
        "outputId": "bbfe4d8d-0d9a-4b8d-b1d0-ef547d103d59"
      },
      "execution_count": 10,
      "outputs": [
        {
          "output_type": "execute_result",
          "data": {
            "text/plain": [
              "['Remember,', 'remember,', 'the', 'fifth', 'of', 'July.']"
            ]
          },
          "metadata": {},
          "execution_count": 10
        }
      ]
    },
    {
      "cell_type": "code",
      "source": [
        "'-'.join('There can only one.'.split())"
      ],
      "metadata": {
        "colab": {
          "base_uri": "https://localhost:8080/",
          "height": 36
        },
        "id": "ILeFej6V7B_m",
        "outputId": "f35e5f67-57be-4da4-defc-d8808108e5fd"
      },
      "execution_count": 11,
      "outputs": [
        {
          "output_type": "execute_result",
          "data": {
            "text/plain": [
              "'There-can-only-one.'"
            ],
            "application/vnd.google.colaboratory.intrinsic+json": {
              "type": "string"
            }
          },
          "metadata": {},
          "execution_count": 11
        }
      ]
    },
    {
      "cell_type": "markdown",
      "source": [
        "9. What are the methods for right-justifying, left-justifying, and centering a string?\n"
      ],
      "metadata": {
        "id": "W9-71uaE5ysK"
      }
    },
    {
      "cell_type": "code",
      "source": [
        "## RIGHT JUSTIFYING\n",
        "Str=\"welcome\"\n",
        "Str.rjust(30 ,\"#\")"
      ],
      "metadata": {
        "colab": {
          "base_uri": "https://localhost:8080/",
          "height": 36
        },
        "id": "tCxooLPT7Yqq",
        "outputId": "b93fcd33-7b58-4a92-fa22-b4b76499876e"
      },
      "execution_count": 12,
      "outputs": [
        {
          "output_type": "execute_result",
          "data": {
            "text/plain": [
              "'#######################welcome'"
            ],
            "application/vnd.google.colaboratory.intrinsic+json": {
              "type": "string"
            }
          },
          "metadata": {},
          "execution_count": 12
        }
      ]
    },
    {
      "cell_type": "code",
      "source": [
        "## LEFT JUSTIFYING\n",
        "Str=\"welcome\"\n",
        "Str.ljust(40 ,\"*\")"
      ],
      "metadata": {
        "colab": {
          "base_uri": "https://localhost:8080/",
          "height": 36
        },
        "id": "7YKXE3dI7CLz",
        "outputId": "2853b335-8697-4d49-b23a-24984ce0d980"
      },
      "execution_count": 13,
      "outputs": [
        {
          "output_type": "execute_result",
          "data": {
            "text/plain": [
              "'welcome*********************************'"
            ],
            "application/vnd.google.colaboratory.intrinsic+json": {
              "type": "string"
            }
          },
          "metadata": {},
          "execution_count": 13
        }
      ]
    },
    {
      "cell_type": "code",
      "source": [
        "## CENTER\n",
        "Str=\"ineuron\"\n",
        "\n",
        "Str.center(50,\"?\")"
      ],
      "metadata": {
        "colab": {
          "base_uri": "https://localhost:8080/",
          "height": 36
        },
        "id": "gkfBtYey95Kv",
        "outputId": "1a052460-798d-4f23-af84-ade50de170db"
      },
      "execution_count": 14,
      "outputs": [
        {
          "output_type": "execute_result",
          "data": {
            "text/plain": [
              "'?????????????????????ineuron??????????????????????'"
            ],
            "application/vnd.google.colaboratory.intrinsic+json": {
              "type": "string"
            }
          },
          "metadata": {},
          "execution_count": 14
        }
      ]
    },
    {
      "cell_type": "markdown",
      "source": [
        "10. What is the best way to remove whitespace characters from the start or end?\n"
      ],
      "metadata": {
        "id": "DIID-6mj5yo7"
      }
    },
    {
      "cell_type": "markdown",
      "source": [
        "* lstrip() -> removes white spaces from left of the string.\n",
        "* rstrip() -> removes whitespaces from right of the string."
      ],
      "metadata": {
        "id": "MOIhDOYJ5ydj"
      }
    },
    {
      "cell_type": "code",
      "execution_count": 15,
      "metadata": {
        "colab": {
          "base_uri": "https://localhost:8080/",
          "height": 36
        },
        "id": "eGXWrDxtjYWm",
        "outputId": "77d94ade-ecdb-479f-f3fd-335a60e29896"
      },
      "outputs": [
        {
          "output_type": "execute_result",
          "data": {
            "text/plain": [
              "'  please hold on one minute'"
            ],
            "application/vnd.google.colaboratory.intrinsic+json": {
              "type": "string"
            }
          },
          "metadata": {},
          "execution_count": 15
        }
      ],
      "source": [
        "spa =\"  please hold on one minute  \"\n",
        "spa.rstrip()\n"
      ]
    },
    {
      "cell_type": "code",
      "source": [
        "spa =\"  please hold on one minute  \"\n",
        "spa.lstrip()\n"
      ],
      "metadata": {
        "colab": {
          "base_uri": "https://localhost:8080/",
          "height": 36
        },
        "id": "1sugVmMs_7Ln",
        "outputId": "ba2cb791-6938-4599-c1f8-b7b3583aa5b9"
      },
      "execution_count": 16,
      "outputs": [
        {
          "output_type": "execute_result",
          "data": {
            "text/plain": [
              "'please hold on one minute  '"
            ],
            "application/vnd.google.colaboratory.intrinsic+json": {
              "type": "string"
            }
          },
          "metadata": {},
          "execution_count": 16
        }
      ]
    },
    {
      "cell_type": "code",
      "source": [],
      "metadata": {
        "id": "e4Bq9pSJAOnc"
      },
      "execution_count": 16,
      "outputs": []
    }
  ]
}