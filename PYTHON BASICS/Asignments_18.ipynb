{
  "cells": [
    {
      "cell_type": "markdown",
      "metadata": {
        "id": "POa3anwWA5BM"
      },
      "source": [
        "1. Create a zoo.py file first. Define the hours() function, which prints the string &#39;Open 9-5 daily&#39;.\n",
        "Then, use the interactive interpreter to import the zoo module and call its hours() function.\n"
      ]
    },
    {
      "cell_type": "markdown",
      "metadata": {
        "id": "NU_l_lzXHzGx"
      },
      "source": [
        "import zoo\n",
        "\n",
        "\n",
        "zoo.hours()\n",
        "\n",
        "\n",
        "sol:-  open 9-5 daily"
      ]
    },
    {
      "cell_type": "markdown",
      "metadata": {
        "id": "TjAQEJrzA6Eg"
      },
      "source": [
        "2. In the interactive interpreter, import the zoo module as menagerie and call its hours() function."
      ]
    },
    {
      "cell_type": "markdown",
      "metadata": {
        "id": "Oo2W_Bj4I1qb"
      },
      "source": [
        "import zoo as menagerie\n",
        "\n",
        "menagerie.hours()\n",
        "\n",
        "\n",
        "sol : - open 9-5 daily"
      ]
    },
    {
      "cell_type": "markdown",
      "metadata": {
        "id": "HCMD7dSeA6IT"
      },
      "source": [
        "\n",
        "3. Using the interpreter, explicitly import and call the hours() function from zoo."
      ]
    },
    {
      "cell_type": "markdown",
      "metadata": {
        "id": "glN_FwbuJOf0"
      },
      "source": [
        "from zoo import hours\n",
        "\n",
        "\n",
        "hours()\n",
        "\n",
        "sol :- open 9-5 daily\n"
      ]
    },
    {
      "cell_type": "markdown",
      "metadata": {
        "id": "1QSE7jfkA6Np"
      },
      "source": [
        "\n",
        "4. Import the hours() function as info and call it."
      ]
    },
    {
      "cell_type": "markdown",
      "metadata": {
        "id": "DNJk4DMNIMey"
      },
      "source": [
        "from zoo import hours as info\n",
        "\n",
        "info()\n",
        "\n",
        "sol :-\n",
        "open 9-5 daily"
      ]
    },
    {
      "cell_type": "markdown",
      "metadata": {
        "id": "5Ydt25dAA6RD"
      },
      "source": [
        "\n",
        "5. Create a plain dictionary with the key-value pairs &#39;a&#39;: 1, &#39;b&#39;: 2, and &#39;c&#39;: 3, and print it out."
      ]
    },
    {
      "cell_type": "code",
      "execution_count": 9,
      "metadata": {
        "colab": {
          "base_uri": "https://localhost:8080/"
        },
        "id": "tyuFiM6pJpCs",
        "outputId": "48fda55b-26f5-4b8d-8cac-cf4593e23fa5"
      },
      "outputs": [
        {
          "data": {
            "text/plain": [
              "{'a': 1, 'b': 2, 'c': 3}"
            ]
          },
          "execution_count": 9,
          "metadata": {},
          "output_type": "execute_result"
        }
      ],
      "source": [
        "plain = {'a': 1, 'b': 2, 'c': 3}\n",
        "plain"
      ]
    },
    {
      "cell_type": "markdown",
      "metadata": {
        "id": "RCKwZPl8A6Um"
      },
      "source": [
        "\n",
        "6. Make an OrderedDict called fancy from the same pairs listed in 5 and print it. Did it print in the\n",
        "same order as plain?"
      ]
    },
    {
      "cell_type": "code",
      "execution_count": 10,
      "metadata": {
        "colab": {
          "base_uri": "https://localhost:8080/"
        },
        "id": "_Ein6ujHJtSn",
        "outputId": "2f6bbeb1-30af-4ea2-c1ac-2ac0156c1396"
      },
      "outputs": [
        {
          "data": {
            "text/plain": [
              "OrderedDict([('a', 1), ('b', 2), ('c', 3)])"
            ]
          },
          "execution_count": 10,
          "metadata": {},
          "output_type": "execute_result"
        }
      ],
      "source": [
        "from collections import OrderedDict\n",
        "fancy = OrderedDict(plain)\n",
        "fancy"
      ]
    },
    {
      "cell_type": "markdown",
      "metadata": {
        "id": "zLU67aNiA6X5"
      },
      "source": [
        "\n",
        "7. Make a default dictionary called dict_of_lists and pass it the argument list. Make the list\n",
        "dict_of_lists[&#39;a&#39;] and append the value &#39;something for a&#39; to it in one assignment. Print\n",
        "dict_of_lists[&#39;a&#39;]."
      ]
    },
    {
      "cell_type": "code",
      "execution_count": 11,
      "metadata": {
        "colab": {
          "base_uri": "https://localhost:8080/"
        },
        "id": "N5IHETJKJwfi",
        "outputId": "65961ffc-2cee-4208-98fa-31c882bae1b4"
      },
      "outputs": [
        {
          "data": {
            "text/plain": [
              "['something for a']"
            ]
          },
          "execution_count": 11,
          "metadata": {},
          "output_type": "execute_result"
        }
      ],
      "source": [
        "from collections import defaultdict\n",
        "dict_of_lists = defaultdict(list)\n",
        "dict_of_lists['a'].append('something for a')\n",
        "dict_of_lists['a']"
      ]
    },
    {
      "cell_type": "code",
      "execution_count": null,
      "metadata": {
        "id": "-1K2qVeE5WyJ"
      },
      "outputs": [],
      "source": []
    }
  ],
  "metadata": {
    "colab": {
      "provenance": []
    },
    "kernelspec": {
      "display_name": "Python 3",
      "name": "python3"
    },
    "language_info": {
      "name": "python",
      "version": "3.8.5"
    }
  },
  "nbformat": 4,
  "nbformat_minor": 0
}
