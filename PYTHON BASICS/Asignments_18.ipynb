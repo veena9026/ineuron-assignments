{
  "nbformat": 4,
  "nbformat_minor": 0,
  "metadata": {
    "colab": {
      "provenance": []
    },
    "kernelspec": {
      "name": "python3",
      "display_name": "Python 3"
    },
    "language_info": {
      "name": "python"
    }
  },
  "cells": [
    {
      "cell_type": "markdown",
      "source": [
        "1. Create a zoo.py file first. Define the hours() function, which prints the string &#39;Open 9-5 daily&#39;.\n",
        "Then, use the interactive interpreter to import the zoo module and call its hours() function.\n"
      ],
      "metadata": {
        "id": "POa3anwWA5BM"
      }
    },
    {
      "cell_type": "markdown",
      "source": [
        "import zoo\n",
        "\n",
        "\n",
        "zoo.hours()\n",
        "\n",
        "\n",
        "sol:-  open 9-5 daily"
      ],
      "metadata": {
        "id": "NU_l_lzXHzGx"
      }
    },
    {
      "cell_type": "markdown",
      "source": [
        "2. In the interactive interpreter, import the zoo module as menagerie and call its hours() function."
      ],
      "metadata": {
        "id": "TjAQEJrzA6Eg"
      }
    },
    {
      "cell_type": "markdown",
      "source": [
        "import zoo as menagerie\n",
        "\n",
        "menagerie.hours()\n",
        "\n",
        "\n",
        "sol : - open 9-5 daily"
      ],
      "metadata": {
        "id": "Oo2W_Bj4I1qb"
      }
    },
    {
      "cell_type": "markdown",
      "source": [
        "\n",
        "3. Using the interpreter, explicitly import and call the hours() function from zoo."
      ],
      "metadata": {
        "id": "HCMD7dSeA6IT"
      }
    },
    {
      "cell_type": "markdown",
      "source": [
        "from zoo import hours\n",
        "\n",
        "\n",
        "hours()\n",
        "\n",
        "sol :- open 9-5 daily\n"
      ],
      "metadata": {
        "id": "glN_FwbuJOf0"
      }
    },
    {
      "cell_type": "markdown",
      "source": [
        "\n",
        "4. Import the hours() function as info and call it."
      ],
      "metadata": {
        "id": "1QSE7jfkA6Np"
      }
    },
    {
      "cell_type": "markdown",
      "source": [
        "from zoo import hours as info\n",
        "\n",
        "info()\n",
        "\n",
        "sol :-\n",
        "open 9-5 daily"
      ],
      "metadata": {
        "id": "DNJk4DMNIMey"
      }
    },
    {
      "cell_type": "markdown",
      "source": [
        "\n",
        "5. Create a plain dictionary with the key-value pairs &#39;a&#39;: 1, &#39;b&#39;: 2, and &#39;c&#39;: 3, and print it out."
      ],
      "metadata": {
        "id": "5Ydt25dAA6RD"
      }
    },
    {
      "cell_type": "code",
      "source": [
        "plain = {'a': 1, 'b': 2, 'c': 3}\n",
        "plain"
      ],
      "metadata": {
        "colab": {
          "base_uri": "https://localhost:8080/"
        },
        "id": "tyuFiM6pJpCs",
        "outputId": "48fda55b-26f5-4b8d-8cac-cf4593e23fa5"
      },
      "execution_count": 9,
      "outputs": [
        {
          "output_type": "execute_result",
          "data": {
            "text/plain": [
              "{'a': 1, 'b': 2, 'c': 3}"
            ]
          },
          "metadata": {},
          "execution_count": 9
        }
      ]
    },
    {
      "cell_type": "markdown",
      "source": [
        "\n",
        "6. Make an OrderedDict called fancy from the same pairs listed in 5 and print it. Did it print in the\n",
        "same order as plain?"
      ],
      "metadata": {
        "id": "RCKwZPl8A6Um"
      }
    },
    {
      "cell_type": "code",
      "source": [
        "from collections import OrderedDict\n",
        "fancy = OrderedDict(plain)\n",
        "fancy"
      ],
      "metadata": {
        "colab": {
          "base_uri": "https://localhost:8080/"
        },
        "id": "_Ein6ujHJtSn",
        "outputId": "2f6bbeb1-30af-4ea2-c1ac-2ac0156c1396"
      },
      "execution_count": 10,
      "outputs": [
        {
          "output_type": "execute_result",
          "data": {
            "text/plain": [
              "OrderedDict([('a', 1), ('b', 2), ('c', 3)])"
            ]
          },
          "metadata": {},
          "execution_count": 10
        }
      ]
    },
    {
      "cell_type": "markdown",
      "source": [
        "\n",
        "7. Make a default dictionary called dict_of_lists and pass it the argument list. Make the list\n",
        "dict_of_lists[&#39;a&#39;] and append the value &#39;something for a&#39; to it in one assignment. Print\n",
        "dict_of_lists[&#39;a&#39;]."
      ],
      "metadata": {
        "id": "zLU67aNiA6X5"
      }
    },
    {
      "cell_type": "code",
      "source": [
        "from collections import defaultdict\n",
        "dict_of_lists = defaultdict(list)\n",
        "dict_of_lists['a'].append('something for a')\n",
        "dict_of_lists['a']"
      ],
      "metadata": {
        "colab": {
          "base_uri": "https://localhost:8080/"
        },
        "id": "N5IHETJKJwfi",
        "outputId": "65961ffc-2cee-4208-98fa-31c882bae1b4"
      },
      "execution_count": 11,
      "outputs": [
        {
          "output_type": "execute_result",
          "data": {
            "text/plain": [
              "['something for a']"
            ]
          },
          "metadata": {},
          "execution_count": 11
        }
      ]
    },
    {
      "cell_type": "code",
      "execution_count": null,
      "metadata": {
        "id": "-1K2qVeE5WyJ"
      },
      "outputs": [],
      "source": []
    }
  ]
}