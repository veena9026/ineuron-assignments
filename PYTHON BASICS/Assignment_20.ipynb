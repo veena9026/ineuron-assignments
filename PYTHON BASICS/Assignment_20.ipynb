{
 "cells": [
  {
   "cell_type": "markdown",
   "metadata": {},
   "source": [
    "1. Set the variable test1 to the string &#39;This is a test of the emergency text system,&#39; and save test1 to a\n",
    "file named test.txt.\n",
    "\n",
    "\n",
    "\n",
    "\n",
    "\n",
    "\n",
    "\n",
    "\n",
    "\n",
    "\n",
    "\n",
    "\n",
    "\n",
    "\n",
    "\n",
    "\n",
    "\n",
    "\n",
    "\n"
   ]
  },
  {
   "cell_type": "code",
   "execution_count": 1,
   "metadata": {},
   "outputs": [
    {
     "name": "stdout",
     "output_type": "stream",
     "text": [
      "This is a test of the emergency text system,\n"
     ]
    }
   ],
   "source": [
    "test1 = 'This is a test of the emergency text system,'\n",
    "print(test1)\n",
    "with open('test.txt','w') as file:\n",
    "    file.write(test1)\n",
    "    file.close()"
   ]
  },
  {
   "cell_type": "markdown",
   "metadata": {},
   "source": [
    "2. Read the contents of the file test.txt into the variable test2. Is there a difference between \n",
    "test 1\n",
    "and test 2?\n",
    "\n",
    "\n",
    "\n",
    "\n",
    "\n",
    "\n",
    "\n",
    "\n",
    "\n",
    "\n",
    "\n",
    "\n",
    "\n",
    "\n",
    "\n",
    "\n",
    "\n",
    "\n",
    "\n",
    "\n"
   ]
  },
  {
   "cell_type": "code",
   "execution_count": 2,
   "metadata": {},
   "outputs": [
    {
     "name": "stdout",
     "output_type": "stream",
     "text": [
      "This is a test of the emergency text system,\n",
      "\n",
      "\n",
      "test1 and test2 is same : True\n"
     ]
    }
   ],
   "source": [
    "with open('test.txt','r') as file:\n",
    "    test2=file.read()\n",
    "\n",
    "print(test2)\n",
    "\n",
    "print(\"\\n\\ntest1 and test2 is same :\",test1 == test2)"
   ]
  },
  {
   "cell_type": "markdown",
   "metadata": {},
   "source": [
    "3. Create a CSV file called books.csv by using these lines:\n",
    "title,author,year\n",
    "The Weirdstone of Brisingamen,Alan Garner,1960\n",
    "Perdido Street Station,China Miéville,2000\n",
    "Thud!,Terry Pratchett,2005\n",
    "The Spellman Files,Lisa Lutz,2007\n",
    "Small Gods,Terry Pratchett,1992\n",
    "\n",
    "\n",
    "\n",
    "\n",
    "\n",
    "\n",
    "\n",
    "\n",
    "\n",
    "\n",
    "\n",
    "\n",
    "\n",
    "\n",
    "\n",
    "\n",
    "\n",
    "\n",
    "\n",
    "\n",
    "\n",
    "\n",
    "\n",
    "\n",
    "\n",
    "\n",
    "\n"
   ]
  },
  {
   "cell_type": "code",
   "execution_count": 3,
   "metadata": {},
   "outputs": [],
   "source": [
    "data = '''title,author,year\n",
    "The Weirdstone of Brisingamen,Alan Garner,1960\n",
    "Perdido Street Station,China Miéville,2000\n",
    "Thud!,Terry Pratchett,2005\n",
    "The Spellman Files,Lisa Lutz,2007\n",
    "Small Gods,Terry Pratchett,1992'''\n",
    "\n",
    "with open('books.csv','w') as file:\n",
    "    file.write(data)"
   ]
  },
  {
   "cell_type": "markdown",
   "metadata": {},
   "source": [
    "4. Use the sqlite3 module to create a SQLite database called books.db, and a table called books \n",
    "with\n",
    "these fields: title (text), author (text), and year (integer).\n",
    "\n",
    "\n",
    "\n",
    "\n",
    "\n",
    "\n",
    "\n",
    "\n",
    "\n",
    "\n"
   ]
  },
  {
   "cell_type": "code",
   "execution_count": 4,
   "metadata": {},
   "outputs": [
    {
     "ename": "OperationalError",
     "evalue": "table books already exists",
     "output_type": "error",
     "traceback": [
      "\u001b[1;31m---------------------------------------------------------------------------\u001b[0m",
      "\u001b[1;31mOperationalError\u001b[0m                          Traceback (most recent call last)",
      "Cell \u001b[1;32mIn[4], line 4\u001b[0m\n\u001b[0;32m      2\u001b[0m db \u001b[38;5;241m=\u001b[39m sqlite3\u001b[38;5;241m.\u001b[39mconnect(\u001b[38;5;124m'\u001b[39m\u001b[38;5;124mbooks.db\u001b[39m\u001b[38;5;124m'\u001b[39m)\n\u001b[0;32m      3\u001b[0m cursor \u001b[38;5;241m=\u001b[39m db\u001b[38;5;241m.\u001b[39mcursor()\n\u001b[1;32m----> 4\u001b[0m \u001b[43mcursor\u001b[49m\u001b[38;5;241;43m.\u001b[39;49m\u001b[43mexecute\u001b[49m\u001b[43m(\u001b[49m\u001b[38;5;124;43m\"\u001b[39;49m\u001b[38;5;124;43mCREATE TABLE books (title text, author text, year int)\u001b[39;49m\u001b[38;5;124;43m\"\u001b[39;49m\u001b[43m)\u001b[49m\n\u001b[0;32m      5\u001b[0m db\u001b[38;5;241m.\u001b[39mcommit()\n\u001b[0;32m      6\u001b[0m db\u001b[38;5;241m.\u001b[39mclose()\n",
      "\u001b[1;31mOperationalError\u001b[0m: table books already exists"
     ]
    }
   ],
   "source": [
    "import sqlite3\n",
    "db = sqlite3.connect('books.db')\n",
    "cursor = db.cursor()\n",
    "cursor.execute(\"CREATE TABLE books (title text, author text, year int)\")\n",
    "db.commit()\n",
    "db.close()"
   ]
  },
  {
   "cell_type": "markdown",
   "metadata": {},
   "source": [
    "5. Read books.csv and insert its data into the book table.\n",
    "\n",
    "\n",
    "\n",
    "\n",
    "\n",
    "\n",
    "\n",
    "\n",
    "\n"
   ]
  },
  {
   "cell_type": "code",
   "execution_count": null,
   "metadata": {},
   "outputs": [],
   "source": [
    "import sqlite3\n",
    "import csv\n",
    "conn = sqlite3.connect(\"books.db\")\n",
    "cursor = conn.cursor()\n",
    "with open(\"books.csv\",\"r\") as file:\n",
    "    books = csv.DictReader(file)\n",
    "    for book in books:\n",
    "        cursor.execute(\"INSERT INTO books VALUES (?,?,?)\",(book['title'],book['author'],book['year']))\n",
    "conn.commit()\n",
    "conn.close()"
   ]
  },
  {
   "cell_type": "markdown",
   "metadata": {},
   "source": [
    "6. Select and print the title column from the book table in alphabetical order.\n",
    "\n",
    "\n",
    "\n",
    "\n",
    "\n",
    "\n",
    "\n",
    "\n"
   ]
  },
  {
   "cell_type": "code",
   "execution_count": null,
   "metadata": {},
   "outputs": [
    {
     "name": "stdout",
     "output_type": "stream",
     "text": [
      "Perdido Street Station\n",
      "Small Gods\n",
      "The Spellman Files\n",
      "The Weirdstone of Brisingamen\n",
      "Thud!\n"
     ]
    }
   ],
   "source": [
    "import sqlite3\n",
    "conn = sqlite3.connect('books.db')\n",
    "cursor = conn.cursor()\n",
    "output = cursor.execute(\"SELECT title FROM books ORDER BY title ASC\")\n",
    "for ele in output:\n",
    "    print(ele[0])\n",
    "conn.commit()\n",
    "conn.close()"
   ]
  },
  {
   "cell_type": "markdown",
   "metadata": {},
   "source": [
    "7. From the book table, select and print all columns in the order of publication.\n",
    "\n",
    "\n",
    "\n",
    "\n",
    "\n",
    "\n",
    "\n"
   ]
  },
  {
   "cell_type": "code",
   "execution_count": null,
   "metadata": {},
   "outputs": [
    {
     "name": "stdout",
     "output_type": "stream",
     "text": [
      "('The Weirdstone of Brisingamen', 'Alan Garner', 1960)\n",
      "('Small Gods', 'Terry Pratchett', 1992)\n",
      "('Perdido Street Station', 'China Miéville', 2000)\n",
      "('Thud!', 'Terry Pratchett', 2005)\n",
      "('The Spellman Files', 'Lisa Lutz', 2007)\n"
     ]
    }
   ],
   "source": [
    "import sqlite3\n",
    "conn = sqlite3.connect('books.db')\n",
    "cursor = conn.cursor()\n",
    "ouput = cursor.execute(\"SELECT * FROM books ORDER BY year\")\n",
    "for record in ouput:\n",
    "    print(record)"
   ]
  },
  {
   "cell_type": "markdown",
   "metadata": {},
   "source": [
    "8. Use the sqlalchemy module to connect to the sqlite3 database books.db that you just made in\n",
    "exercise 6.\n",
    "\n",
    "\n",
    "\n",
    "\n",
    "\n"
   ]
  },
  {
   "cell_type": "code",
   "execution_count": null,
   "metadata": {},
   "outputs": [
    {
     "name": "stdout",
     "output_type": "stream",
     "text": [
      "Collecting SQLAlchemy\n",
      "  Downloading SQLAlchemy-2.0.25-cp38-cp38-win_amd64.whl.metadata (9.8 kB)\n",
      "Requirement already satisfied: typing-extensions>=4.6.0 in c:\\users\\ashok\\downloads\\veena ineuron\\ineuron-assignments-1\\ineuron\\lib\\site-packages (from SQLAlchemy) (4.7.1)\n",
      "Collecting greenlet!=0.4.17 (from SQLAlchemy)\n",
      "  Downloading greenlet-3.0.3-cp38-cp38-win_amd64.whl.metadata (3.9 kB)\n",
      "Downloading SQLAlchemy-2.0.25-cp38-cp38-win_amd64.whl (2.1 MB)\n",
      "   ---------------------------------------- 0.0/2.1 MB ? eta -:--:--\n",
      "   ---------------------------------------- 0.0/2.1 MB ? eta -:--:--\n",
      "   ---------------------------------------- 0.0/2.1 MB ? eta -:--:--\n",
      "   ---------------------------------------- 0.0/2.1 MB ? eta -:--:--\n",
      "    --------------------------------------- 0.0/2.1 MB 1.3 MB/s eta 0:00:02\n",
      "   - -------------------------------------- 0.1/2.1 MB 812.7 kB/s eta 0:00:03\n",
      "   - -------------------------------------- 0.1/2.1 MB 762.6 kB/s eta 0:00:03\n",
      "   - -------------------------------------- 0.1/2.1 MB 762.6 kB/s eta 0:00:03\n",
      "   - -------------------------------------- 0.1/2.1 MB 762.6 kB/s eta 0:00:03\n",
      "   -- ------------------------------------- 0.1/2.1 MB 364.4 kB/s eta 0:00:06\n",
      "   -- ------------------------------------- 0.1/2.1 MB 359.9 kB/s eta 0:00:06\n",
      "   --- ------------------------------------ 0.2/2.1 MB 392.8 kB/s eta 0:00:05\n",
      "   --- ------------------------------------ 0.2/2.1 MB 403.5 kB/s eta 0:00:05\n",
      "   --- ------------------------------------ 0.2/2.1 MB 414.8 kB/s eta 0:00:05\n",
      "   ---- ----------------------------------- 0.2/2.1 MB 456.4 kB/s eta 0:00:05\n",
      "   ----- ---------------------------------- 0.3/2.1 MB 472.9 kB/s eta 0:00:04\n",
      "   ----- ---------------------------------- 0.3/2.1 MB 454.0 kB/s eta 0:00:04\n",
      "   ----- ---------------------------------- 0.3/2.1 MB 463.3 kB/s eta 0:00:04\n",
      "   ----- ---------------------------------- 0.3/2.1 MB 463.3 kB/s eta 0:00:04\n",
      "   ----- ---------------------------------- 0.3/2.1 MB 463.3 kB/s eta 0:00:04\n",
      "   ------ --------------------------------- 0.3/2.1 MB 414.4 kB/s eta 0:00:05\n",
      "   ------ --------------------------------- 0.3/2.1 MB 414.4 kB/s eta 0:00:05\n",
      "   ------ --------------------------------- 0.3/2.1 MB 414.4 kB/s eta 0:00:05\n",
      "   ------ --------------------------------- 0.3/2.1 MB 343.8 kB/s eta 0:00:06\n",
      "   ------ --------------------------------- 0.3/2.1 MB 343.8 kB/s eta 0:00:06\n",
      "   ------ --------------------------------- 0.3/2.1 MB 343.8 kB/s eta 0:00:06\n",
      "   ------ --------------------------------- 0.4/2.1 MB 318.2 kB/s eta 0:00:06\n",
      "   ------- -------------------------------- 0.4/2.1 MB 332.1 kB/s eta 0:00:06\n",
      "   -------- ------------------------------- 0.4/2.1 MB 344.8 kB/s eta 0:00:05\n",
      "   -------- ------------------------------- 0.4/2.1 MB 344.8 kB/s eta 0:00:05\n",
      "   -------- ------------------------------- 0.4/2.1 MB 344.8 kB/s eta 0:00:05\n",
      "   -------- ------------------------------- 0.4/2.1 MB 344.8 kB/s eta 0:00:05\n",
      "   -------- ------------------------------- 0.4/2.1 MB 344.8 kB/s eta 0:00:05\n",
      "   -------- ------------------------------- 0.4/2.1 MB 344.8 kB/s eta 0:00:05\n",
      "   -------- ------------------------------- 0.4/2.1 MB 289.8 kB/s eta 0:00:06\n",
      "   -------- ------------------------------- 0.4/2.1 MB 289.8 kB/s eta 0:00:06\n",
      "   -------- ------------------------------- 0.4/2.1 MB 289.8 kB/s eta 0:00:06\n",
      "   -------- ------------------------------- 0.5/2.1 MB 268.3 kB/s eta 0:00:07\n",
      "   -------- ------------------------------- 0.5/2.1 MB 268.3 kB/s eta 0:00:07\n",
      "   -------- ------------------------------- 0.5/2.1 MB 268.3 kB/s eta 0:00:07\n",
      "   -------- ------------------------------- 0.5/2.1 MB 268.3 kB/s eta 0:00:07\n",
      "   -------- ------------------------------- 0.5/2.1 MB 268.3 kB/s eta 0:00:07\n",
      "   --------- ------------------------------ 0.5/2.1 MB 243.7 kB/s eta 0:00:07\n",
      "   --------- ------------------------------ 0.5/2.1 MB 248.3 kB/s eta 0:00:07\n",
      "   ---------- ----------------------------- 0.5/2.1 MB 258.1 kB/s eta 0:00:07\n",
      "   ---------- ----------------------------- 0.5/2.1 MB 259.0 kB/s eta 0:00:06\n",
      "   ---------- ----------------------------- 0.6/2.1 MB 263.1 kB/s eta 0:00:06\n",
      "   ----------- ---------------------------- 0.6/2.1 MB 265.0 kB/s eta 0:00:06\n",
      "   ----------- ---------------------------- 0.6/2.1 MB 266.0 kB/s eta 0:00:06\n",
      "   ----------- ---------------------------- 0.6/2.1 MB 270.4 kB/s eta 0:00:06\n",
      "   ----------- ---------------------------- 0.6/2.1 MB 270.4 kB/s eta 0:00:06\n",
      "   ------------ --------------------------- 0.6/2.1 MB 272.7 kB/s eta 0:00:06\n",
      "   ------------ --------------------------- 0.6/2.1 MB 272.7 kB/s eta 0:00:06\n",
      "   ------------ --------------------------- 0.7/2.1 MB 272.4 kB/s eta 0:00:06\n",
      "   ------------- -------------------------- 0.7/2.1 MB 269.6 kB/s eta 0:00:06\n",
      "   ------------- -------------------------- 0.7/2.1 MB 276.2 kB/s eta 0:00:05\n",
      "   ------------- -------------------------- 0.7/2.1 MB 273.4 kB/s eta 0:00:05\n",
      "   -------------- ------------------------- 0.8/2.1 MB 286.5 kB/s eta 0:00:05\n",
      "   --------------- ------------------------ 0.8/2.1 MB 290.8 kB/s eta 0:00:05\n",
      "   --------------- ------------------------ 0.8/2.1 MB 290.8 kB/s eta 0:00:05\n",
      "   --------------- ------------------------ 0.8/2.1 MB 290.4 kB/s eta 0:00:05\n",
      "   --------------- ------------------------ 0.8/2.1 MB 290.4 kB/s eta 0:00:05\n",
      "   --------------- ------------------------ 0.8/2.1 MB 290.4 kB/s eta 0:00:05\n",
      "   --------------- ------------------------ 0.8/2.1 MB 290.4 kB/s eta 0:00:05\n",
      "   --------------- ------------------------ 0.8/2.1 MB 290.4 kB/s eta 0:00:05\n",
      "   ---------------- ----------------------- 0.8/2.1 MB 273.1 kB/s eta 0:00:05\n",
      "   ---------------- ----------------------- 0.8/2.1 MB 275.0 kB/s eta 0:00:05\n",
      "   ---------------- ----------------------- 0.8/2.1 MB 275.0 kB/s eta 0:00:05\n",
      "   ---------------- ----------------------- 0.9/2.1 MB 273.8 kB/s eta 0:00:05\n",
      "   ----------------- ---------------------- 0.9/2.1 MB 287.7 kB/s eta 0:00:04\n",
      "   ----------------- ---------------------- 0.9/2.1 MB 287.7 kB/s eta 0:00:04\n",
      "   ----------------- ---------------------- 0.9/2.1 MB 287.7 kB/s eta 0:00:04\n",
      "   ----------------- ---------------------- 0.9/2.1 MB 287.7 kB/s eta 0:00:04\n",
      "   ----------------- ---------------------- 0.9/2.1 MB 287.7 kB/s eta 0:00:04\n",
      "   ----------------- ---------------------- 0.9/2.1 MB 287.7 kB/s eta 0:00:04\n",
      "   ----------------- ---------------------- 0.9/2.1 MB 287.7 kB/s eta 0:00:04\n",
      "   ------------------ --------------------- 1.0/2.1 MB 266.8 kB/s eta 0:00:05\n",
      "   ------------------ --------------------- 1.0/2.1 MB 266.2 kB/s eta 0:00:05\n",
      "   ------------------ --------------------- 1.0/2.1 MB 268.4 kB/s eta 0:00:05\n",
      "   ------------------ --------------------- 1.0/2.1 MB 268.4 kB/s eta 0:00:05\n",
      "   ------------------ --------------------- 1.0/2.1 MB 268.4 kB/s eta 0:00:05\n",
      "   ------------------- -------------------- 1.0/2.1 MB 266.5 kB/s eta 0:00:04\n",
      "   ------------------- -------------------- 1.0/2.1 MB 266.5 kB/s eta 0:00:04\n",
      "   ------------------- -------------------- 1.0/2.1 MB 266.5 kB/s eta 0:00:04\n",
      "   ------------------- -------------------- 1.0/2.1 MB 262.2 kB/s eta 0:00:04\n",
      "   ------------------- -------------------- 1.0/2.1 MB 262.2 kB/s eta 0:00:04\n",
      "   ------------------- -------------------- 1.0/2.1 MB 262.2 kB/s eta 0:00:04\n",
      "   -------------------- ------------------- 1.1/2.1 MB 264.6 kB/s eta 0:00:04\n",
      "   --------------------- ------------------ 1.1/2.1 MB 270.6 kB/s eta 0:00:04\n",
      "   ---------------------- ----------------- 1.1/2.1 MB 274.5 kB/s eta 0:00:04\n",
      "   ---------------------- ----------------- 1.1/2.1 MB 274.5 kB/s eta 0:00:04\n",
      "   ---------------------- ----------------- 1.1/2.1 MB 274.5 kB/s eta 0:00:04\n",
      "   ---------------------- ----------------- 1.1/2.1 MB 274.5 kB/s eta 0:00:04\n",
      "   ---------------------- ----------------- 1.1/2.1 MB 274.5 kB/s eta 0:00:04\n",
      "   ---------------------- ----------------- 1.1/2.1 MB 274.5 kB/s eta 0:00:04\n",
      "   ----------------------- ---------------- 1.2/2.1 MB 268.1 kB/s eta 0:00:04\n",
      "   ----------------------- ---------------- 1.2/2.1 MB 268.1 kB/s eta 0:00:04\n",
      "   ----------------------- ---------------- 1.2/2.1 MB 268.0 kB/s eta 0:00:04\n",
      "   ----------------------- ---------------- 1.2/2.1 MB 268.0 kB/s eta 0:00:04\n",
      "   ----------------------- ---------------- 1.2/2.1 MB 268.0 kB/s eta 0:00:04\n",
      "   ----------------------- ---------------- 1.2/2.1 MB 268.0 kB/s eta 0:00:04\n",
      "   ----------------------- ---------------- 1.2/2.1 MB 268.0 kB/s eta 0:00:04\n",
      "   ----------------------- ---------------- 1.2/2.1 MB 268.0 kB/s eta 0:00:04\n",
      "   ------------------------ --------------- 1.3/2.1 MB 261.3 kB/s eta 0:00:04\n",
      "   ------------------------ --------------- 1.3/2.1 MB 262.6 kB/s eta 0:00:03\n",
      "   ------------------------- -------------- 1.3/2.1 MB 264.2 kB/s eta 0:00:03\n",
      "   -------------------------- ------------- 1.4/2.1 MB 270.3 kB/s eta 0:00:03\n",
      "   --------------------------- ------------ 1.4/2.1 MB 278.0 kB/s eta 0:00:03\n",
      "   --------------------------- ------------ 1.4/2.1 MB 280.6 kB/s eta 0:00:03\n",
      "   --------------------------- ------------ 1.4/2.1 MB 280.6 kB/s eta 0:00:03\n",
      "   ---------------------------- ----------- 1.5/2.1 MB 284.2 kB/s eta 0:00:03\n",
      "   ---------------------------- ----------- 1.5/2.1 MB 284.2 kB/s eta 0:00:03\n",
      "   ---------------------------- ----------- 1.5/2.1 MB 284.2 kB/s eta 0:00:03\n",
      "   ---------------------------- ----------- 1.5/2.1 MB 284.2 kB/s eta 0:00:03\n",
      "   ---------------------------- ----------- 1.5/2.1 MB 274.7 kB/s eta 0:00:03\n",
      "   ----------------------------- ---------- 1.5/2.1 MB 276.0 kB/s eta 0:00:03\n",
      "   ----------------------------- ---------- 1.5/2.1 MB 278.2 kB/s eta 0:00:02\n",
      "   ------------------------------ --------- 1.6/2.1 MB 283.3 kB/s eta 0:00:02\n",
      "   ------------------------------ --------- 1.6/2.1 MB 283.3 kB/s eta 0:00:02\n",
      "   ------------------------------ --------- 1.6/2.1 MB 282.2 kB/s eta 0:00:02\n",
      "   ------------------------------- -------- 1.6/2.1 MB 284.4 kB/s eta 0:00:02\n",
      "   ------------------------------- -------- 1.6/2.1 MB 287.3 kB/s eta 0:00:02\n",
      "   --------------------------------- ------ 1.7/2.1 MB 297.6 kB/s eta 0:00:02\n",
      "   ---------------------------------- ----- 1.8/2.1 MB 304.9 kB/s eta 0:00:01\n",
      "   ---------------------------------- ----- 1.8/2.1 MB 304.2 kB/s eta 0:00:01\n",
      "   ----------------------------------- ---- 1.8/2.1 MB 305.2 kB/s eta 0:00:01\n",
      "   ----------------------------------- ---- 1.9/2.1 MB 308.8 kB/s eta 0:00:01\n",
      "   ------------------------------------ --- 1.9/2.1 MB 311.5 kB/s eta 0:00:01\n",
      "   ------------------------------------- -- 1.9/2.1 MB 316.7 kB/s eta 0:00:01\n",
      "   -------------------------------------- - 2.0/2.1 MB 324.3 kB/s eta 0:00:01\n",
      "   ---------------------------------------  2.1/2.1 MB 333.5 kB/s eta 0:00:01\n",
      "   ---------------------------------------- 2.1/2.1 MB 332.4 kB/s eta 0:00:00\n",
      "Downloading greenlet-3.0.3-cp38-cp38-win_amd64.whl (290 kB)\n",
      "   ---------------------------------------- 0.0/290.8 kB ? eta -:--:--\n",
      "   ---- ----------------------------------- 30.7/290.8 kB 1.4 MB/s eta 0:00:01\n",
      "   ----- --------------------------------- 41.0/290.8 kB 653.6 kB/s eta 0:00:01\n",
      "   -------- ------------------------------ 61.4/290.8 kB 656.4 kB/s eta 0:00:01\n",
      "   -------------- ----------------------- 112.6/290.8 kB 595.3 kB/s eta 0:00:01\n",
      "   -------------- ----------------------- 112.6/290.8 kB 595.3 kB/s eta 0:00:01\n",
      "   ---------------- --------------------- 122.9/290.8 kB 481.4 kB/s eta 0:00:01\n",
      "   ------------------ ------------------- 143.4/290.8 kB 448.2 kB/s eta 0:00:01\n",
      "   ---------------------- --------------- 174.1/290.8 kB 476.3 kB/s eta 0:00:01\n",
      "   ------------------------- ------------ 194.6/290.8 kB 472.6 kB/s eta 0:00:01\n",
      "   ------------------------- ------------ 194.6/290.8 kB 472.6 kB/s eta 0:00:01\n",
      "   ------------------------- ------------ 194.6/290.8 kB 472.6 kB/s eta 0:00:01\n",
      "   ------------------------- ------------ 194.6/290.8 kB 472.6 kB/s eta 0:00:01\n",
      "   ----------------------------- -------- 225.3/290.8 kB 362.0 kB/s eta 0:00:01\n",
      "   -------------------------------- ----- 245.8/290.8 kB 350.5 kB/s eta 0:00:01\n",
      "   --------------------------------- ---- 256.0/290.8 kB 334.8 kB/s eta 0:00:01\n",
      "   ------------------------------------ - 276.5/290.8 kB 340.9 kB/s eta 0:00:01\n",
      "   -------------------------------------- 290.8/290.8 kB 338.8 kB/s eta 0:00:00\n",
      "Installing collected packages: greenlet, SQLAlchemy\n",
      "Successfully installed SQLAlchemy-2.0.25 greenlet-3.0.3\n"
     ]
    }
   ],
   "source": [
    "!pip install SQLAlchemy"
   ]
  },
  {
   "cell_type": "code",
   "execution_count": 6,
   "metadata": {},
   "outputs": [
    {
     "data": {
      "text/plain": [
       "Engine(sqlite:///books.db)"
      ]
     },
     "execution_count": 6,
     "metadata": {},
     "output_type": "execute_result"
    }
   ],
   "source": [
    "import sqlalchemy\n",
    "conn = sqlalchemy.create_engine('sqlite:///books.db')\n",
    "conn\n"
   ]
  },
  {
   "cell_type": "markdown",
   "metadata": {},
   "source": [
    "9. Install the Redis server and the Python redis library (pip install redis) on your computer. \n",
    "Create a\n",
    "Redis hash called test with the fields count (1) and name (&#39;Fester Bestertester&#39;). Print \n",
    "all the fields for\n",
    "test.\n"
   ]
  },
  {
   "cell_type": "code",
   "execution_count": 25,
   "metadata": {},
   "outputs": [
    {
     "name": "stdout",
     "output_type": "stream",
     "text": [
      "Requirement already satisfied: redis in c:\\users\\ashok\\downloads\\veena ineuron\\ineuron-assignments-1\\ineuron\\lib\\site-packages (5.0.1)\n",
      "Requirement already satisfied: async-timeout>=4.0.2 in c:\\users\\ashok\\downloads\\veena ineuron\\ineuron-assignments-1\\ineuron\\lib\\site-packages (from redis) (4.0.3)\n"
     ]
    }
   ],
   "source": [
    "! python -m pip install redis"
   ]
  },
  {
   "cell_type": "code",
   "execution_count": 26,
   "metadata": {},
   "outputs": [],
   "source": [
    "#import redis\n",
    "#conn = redis.Redis(host='localhost', port=6379, db=0)\n",
    "#conn.delete('test')\n",
    "#conn.hmset('test', {'count': 1, 'name': 'Fester Bestertester'})\n",
    "#conn.hgetall('test')\n",
    "\n",
    "\n",
    "\n"
   ]
  },
  {
   "cell_type": "markdown",
   "metadata": {},
   "source": [
    "10. Increment the count field of test and print it."
   ]
  },
  {
   "cell_type": "code",
   "execution_count": 24,
   "metadata": {},
   "outputs": [],
   "source": [
    "#conn.hincrby('test', 'count', 1)\n",
    "#conn.hmget('test', 'count')"
   ]
  }
 ],
 "metadata": {
  "kernelspec": {
   "display_name": "Python 3",
   "language": "python",
   "name": "python3"
  },
  "language_info": {
   "codemirror_mode": {
    "name": "ipython",
    "version": 3
   },
   "file_extension": ".py",
   "mimetype": "text/x-python",
   "name": "python",
   "nbconvert_exporter": "python",
   "pygments_lexer": "ipython3",
   "version": "3.8.0"
  }
 },
 "nbformat": 4,
 "nbformat_minor": 2
}
