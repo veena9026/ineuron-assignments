{
  "nbformat": 4,
  "nbformat_minor": 0,
  "metadata": {
    "colab": {
      "provenance": [],
      "authorship_tag": "ABX9TyPfIQwLjGvOQQz0aXsSAx3B",
      "include_colab_link": true
    },
    "kernelspec": {
      "name": "python3",
      "display_name": "Python 3"
    },
    "language_info": {
      "name": "python"
    }
  },
  "cells": [
    {
      "cell_type": "markdown",
      "metadata": {
        "id": "view-in-github",
        "colab_type": "text"
      },
      "source": [
        "<a href=\"https://colab.research.google.com/github/veena9026/ineuron-assignments/blob/main/assignment_04.ipynb\" target=\"_parent\"><img src=\"https://colab.research.google.com/assets/colab-badge.svg\" alt=\"Open In Colab\"/></a>"
      ]
    },
    {
      "cell_type": "markdown",
      "source": [
        "1. What exactly is []?\n"
      ],
      "metadata": {
        "id": "o1RwU1pQe3U1"
      }
    },
    {
      "cell_type": "markdown",
      "source": [
        "* It is a empty list ,contain no items in it."
      ],
      "metadata": {
        "id": "vZo92xE3e3Rh"
      }
    },
    {
      "cell_type": "markdown",
      "source": [
        "2. In a list of values stored in a variable called spam, how would you assign the value 'hello' as the third value? (Assume [2, 4, 6, 8, 10] are in spam.)\n"
      ],
      "metadata": {
        "id": "60SXa_6Xe3Gi"
      }
    },
    {
      "cell_type": "code",
      "source": [
        "spam=[2,4,6,8,10]\n",
        "spam[2]=\"hello\""
      ],
      "metadata": {
        "id": "ce3jY7eLfBXx"
      },
      "execution_count": 3,
      "outputs": []
    },
    {
      "cell_type": "code",
      "source": [
        "spam"
      ],
      "metadata": {
        "colab": {
          "base_uri": "https://localhost:8080/"
        },
        "id": "z3uSB-DCfPLR",
        "outputId": "4ec18b53-081f-4908-bfd4-b53046118760"
      },
      "execution_count": 4,
      "outputs": [
        {
          "output_type": "execute_result",
          "data": {
            "text/plain": [
              "[2, 4, 'hello', 8, 10]"
            ]
          },
          "metadata": {},
          "execution_count": 4
        }
      ]
    },
    {
      "cell_type": "markdown",
      "source": [
        "Let's pretend the spam includes the list ['a', 'b', 'c', 'd'] for the next three queries.\n",
        "\n",
        "\n"
      ],
      "metadata": {
        "id": "So5V7rz7eq12"
      }
    },
    {
      "cell_type": "code",
      "source": [
        "spam=[\"a\",\"b\",\"c\",\"d\"]"
      ],
      "metadata": {
        "id": "fXrs_TgIfcR6"
      },
      "execution_count": 5,
      "outputs": []
    },
    {
      "cell_type": "markdown",
      "source": [
        "\n",
        "3. What is the value of spam[int(int('3' * 2) / 11)]?\n"
      ],
      "metadata": {
        "id": "EbjDVKVwKbFN"
      }
    },
    {
      "cell_type": "code",
      "source": [
        "spam[int(int('3'*2)/11)]"
      ],
      "metadata": {
        "colab": {
          "base_uri": "https://localhost:8080/",
          "height": 36
        },
        "id": "3Av6Gbz0flqL",
        "outputId": "0f370f83-483f-40b7-de0c-fa833e5fe7ca"
      },
      "execution_count": 6,
      "outputs": [
        {
          "output_type": "execute_result",
          "data": {
            "text/plain": [
              "'d'"
            ],
            "application/vnd.google.colaboratory.intrinsic+json": {
              "type": "string"
            }
          },
          "metadata": {},
          "execution_count": 6
        }
      ]
    },
    {
      "cell_type": "markdown",
      "source": [
        "4. What is the value of spam[-1]?\n"
      ],
      "metadata": {
        "id": "hG1NiNtYKbBx"
      }
    },
    {
      "cell_type": "code",
      "source": [
        "spam[-1]"
      ],
      "metadata": {
        "colab": {
          "base_uri": "https://localhost:8080/",
          "height": 36
        },
        "id": "njSKn2ttfviT",
        "outputId": "0a3d825e-42f4-4064-88e5-83d588ca8a58"
      },
      "execution_count": 7,
      "outputs": [
        {
          "output_type": "execute_result",
          "data": {
            "text/plain": [
              "'d'"
            ],
            "application/vnd.google.colaboratory.intrinsic+json": {
              "type": "string"
            }
          },
          "metadata": {},
          "execution_count": 7
        }
      ]
    },
    {
      "cell_type": "markdown",
      "source": [
        "5. What is the value of spam[:2]?\n"
      ],
      "metadata": {
        "id": "VI7cV0OWKa7W"
      }
    },
    {
      "cell_type": "code",
      "source": [
        "spam[:2]"
      ],
      "metadata": {
        "colab": {
          "base_uri": "https://localhost:8080/"
        },
        "id": "qvHNx9ZLfxPM",
        "outputId": "e9ff9d31-9245-4506-da2d-d87b11237bdf"
      },
      "execution_count": 8,
      "outputs": [
        {
          "output_type": "execute_result",
          "data": {
            "text/plain": [
              "['a', 'b']"
            ]
          },
          "metadata": {},
          "execution_count": 8
        }
      ]
    },
    {
      "cell_type": "markdown",
      "source": [
        "Let's pretend bacon has the list [3.14, 'cat,' 11, 'cat,' True] for the next three questions.\n"
      ],
      "metadata": {
        "id": "G-Z2kOxwKayS"
      }
    },
    {
      "cell_type": "code",
      "source": [
        "bacon =[3.14,'cat',11,'cat',True]"
      ],
      "metadata": {
        "id": "ESLzNboBf7MI"
      },
      "execution_count": 9,
      "outputs": []
    },
    {
      "cell_type": "markdown",
      "source": [
        "6. What is the value of bacon.index('cat')?\n"
      ],
      "metadata": {
        "id": "DQ4Ws99vKau_"
      }
    },
    {
      "cell_type": "code",
      "source": [
        "bacon.index(\"cat\")"
      ],
      "metadata": {
        "colab": {
          "base_uri": "https://localhost:8080/"
        },
        "id": "3PDI2zu3gIEn",
        "outputId": "d08feffa-2cab-4b6b-a4dc-c3890765154c"
      },
      "execution_count": 10,
      "outputs": [
        {
          "output_type": "execute_result",
          "data": {
            "text/plain": [
              "1"
            ]
          },
          "metadata": {},
          "execution_count": 10
        }
      ]
    },
    {
      "cell_type": "markdown",
      "source": [
        "7. How does bacon.append(99) change the look of the list value in bacon?\n"
      ],
      "metadata": {
        "id": "h7PXAJIwKasM"
      }
    },
    {
      "cell_type": "code",
      "source": [
        "bacon.append(99)"
      ],
      "metadata": {
        "id": "30sibuo3gMKg"
      },
      "execution_count": 11,
      "outputs": []
    },
    {
      "cell_type": "code",
      "source": [
        "bacon\n"
      ],
      "metadata": {
        "colab": {
          "base_uri": "https://localhost:8080/"
        },
        "id": "f7VWqeO1gZuv",
        "outputId": "b2d29104-cd8a-424f-9893-2d5eae676d5f"
      },
      "execution_count": 12,
      "outputs": [
        {
          "output_type": "execute_result",
          "data": {
            "text/plain": [
              "[3.14, 'cat', 11, 'cat', True, 99]"
            ]
          },
          "metadata": {},
          "execution_count": 12
        }
      ]
    },
    {
      "cell_type": "markdown",
      "source": [
        "8. How does bacon.remove('cat') change the look of the list in bacon?\n"
      ],
      "metadata": {
        "id": "-CjD1Vq8Kaoi"
      }
    },
    {
      "cell_type": "code",
      "source": [
        "bacon.remove(\"cat\")\n",
        "\n",
        "bacon\n"
      ],
      "metadata": {
        "colab": {
          "base_uri": "https://localhost:8080/"
        },
        "id": "SAf6-YUigc1y",
        "outputId": "2241898d-f0cc-4102-c8c4-bec388f28977"
      },
      "execution_count": 13,
      "outputs": [
        {
          "output_type": "execute_result",
          "data": {
            "text/plain": [
              "[3.14, 11, 'cat', True, 99]"
            ]
          },
          "metadata": {},
          "execution_count": 13
        }
      ]
    },
    {
      "cell_type": "markdown",
      "source": [
        "9. What are the list concatenation and list replication operators?\n"
      ],
      "metadata": {
        "id": "bmg9lWASKaly"
      }
    },
    {
      "cell_type": "markdown",
      "source": [
        "* The operator for list concaentation is  + , while operator for list replication is  * .\n",
        "\n"
      ],
      "metadata": {
        "id": "lT2EFUCAhxu0"
      }
    },
    {
      "cell_type": "markdown",
      "source": [
        "10. What is difference between the list methods append() and insert()?\n"
      ],
      "metadata": {
        "id": "_ZjvQOUXKaiv"
      }
    },
    {
      "cell_type": "markdown",
      "source": [
        "* append() will add items at end of a  list.\n",
        "\n",
        "* insert() will add items at anywhere in the list ."
      ],
      "metadata": {
        "id": "jq8hSrTDibaX"
      }
    },
    {
      "cell_type": "markdown",
      "source": [
        "11. What are the two methods for removing items from a list?\n"
      ],
      "metadata": {
        "id": "VHsHvLMPKaf7"
      }
    },
    {
      "cell_type": "markdown",
      "source": [
        "* The remove() method removes the specified item.\n",
        "\n",
        "* The pop() method removes the specified index, (or the last item if index is not specified).\n",
        "\n",
        "* The del keyword removes the specified index or removes the entire items."
      ],
      "metadata": {
        "id": "BXZhpZ7Ijxvp"
      }
    },
    {
      "cell_type": "code",
      "source": [
        "l=[1,234,5,'ndjhghfghb',678,8,'reena',67.4,True,3,42,1,35,45]"
      ],
      "metadata": {
        "id": "CNyMu8tEjGgg"
      },
      "execution_count": 20,
      "outputs": []
    },
    {
      "cell_type": "code",
      "source": [
        "l.pop()"
      ],
      "metadata": {
        "colab": {
          "base_uri": "https://localhost:8080/"
        },
        "id": "qH8lA74LjK0E",
        "outputId": "18cc84a1-67c7-48ff-f060-48decd2d4f90"
      },
      "execution_count": 21,
      "outputs": [
        {
          "output_type": "execute_result",
          "data": {
            "text/plain": [
              "45"
            ]
          },
          "metadata": {},
          "execution_count": 21
        }
      ]
    },
    {
      "cell_type": "code",
      "source": [
        "l.pop(1)"
      ],
      "metadata": {
        "colab": {
          "base_uri": "https://localhost:8080/"
        },
        "id": "6xGh3wbgjWaM",
        "outputId": "241f0a9f-6e60-4bce-a110-56df79a41b8e"
      },
      "execution_count": 22,
      "outputs": [
        {
          "output_type": "execute_result",
          "data": {
            "text/plain": [
              "234"
            ]
          },
          "metadata": {},
          "execution_count": 22
        }
      ]
    },
    {
      "cell_type": "code",
      "source": [
        "l.remove(5)"
      ],
      "metadata": {
        "id": "VrrGWfYAjPqT"
      },
      "execution_count": 23,
      "outputs": []
    },
    {
      "cell_type": "code",
      "source": [
        "l"
      ],
      "metadata": {
        "colab": {
          "base_uri": "https://localhost:8080/"
        },
        "id": "rb8PrSPmjTxT",
        "outputId": "d34c4602-82a8-40b2-f311-93ef0504a965"
      },
      "execution_count": 24,
      "outputs": [
        {
          "output_type": "execute_result",
          "data": {
            "text/plain": [
              "[1, 'ndjhghfghb', 678, 8, 'reena', 67.4, True, 3, 42, 1, 35]"
            ]
          },
          "metadata": {},
          "execution_count": 24
        }
      ]
    },
    {
      "cell_type": "code",
      "source": [
        "del l[0]\n",
        "\n",
        "l"
      ],
      "metadata": {
        "colab": {
          "base_uri": "https://localhost:8080/"
        },
        "id": "o7LuqWGAkUjK",
        "outputId": "8991648d-c29d-4dc8-ec08-a3f1131c61db"
      },
      "execution_count": 26,
      "outputs": [
        {
          "output_type": "execute_result",
          "data": {
            "text/plain": [
              "['ndjhghfghb', 678, 8, 'reena', 67.4, True, 3, 42, 1, 35]"
            ]
          },
          "metadata": {},
          "execution_count": 26
        }
      ]
    },
    {
      "cell_type": "code",
      "source": [
        "del l\n",
        " \n",
        " "
      ],
      "metadata": {
        "id": "FixSXtTPk2ho"
      },
      "execution_count": 27,
      "outputs": []
    },
    {
      "cell_type": "code",
      "source": [
        "l"
      ],
      "metadata": {
        "colab": {
          "base_uri": "https://localhost:8080/",
          "height": 165
        },
        "id": "8AaAAHlKk6ji",
        "outputId": "b743df47-808d-42b5-d169-4ccfa9046a3e"
      },
      "execution_count": 28,
      "outputs": [
        {
          "output_type": "error",
          "ename": "NameError",
          "evalue": "ignored",
          "traceback": [
            "\u001b[0;31m---------------------------------------------------------------------------\u001b[0m",
            "\u001b[0;31mNameError\u001b[0m                                 Traceback (most recent call last)",
            "\u001b[0;32m<ipython-input-28-cde25b5e10ad>\u001b[0m in \u001b[0;36m<module>\u001b[0;34m\u001b[0m\n\u001b[0;32m----> 1\u001b[0;31m \u001b[0ml\u001b[0m\u001b[0;34m\u001b[0m\u001b[0;34m\u001b[0m\u001b[0m\n\u001b[0m",
            "\u001b[0;31mNameError\u001b[0m: name 'l' is not defined"
          ]
        }
      ]
    },
    {
      "cell_type": "markdown",
      "source": [
        "12. Describe how list values and string values are identical.\n"
      ],
      "metadata": {
        "id": "HSfK8CD1Kac3"
      }
    },
    {
      "cell_type": "markdown",
      "source": [
        "* Both lists and strings can be passed to len(), have indexes and slices, be used in for loops, be concatenated or replicated, and be used with the in and not in operators."
      ],
      "metadata": {
        "id": "Cj0D42vCk_H7"
      }
    },
    {
      "cell_type": "markdown",
      "source": [
        "13. What's the difference between tuples and lists?\n"
      ],
      "metadata": {
        "id": "T_wqZvUuKaZ6"
      }
    },
    {
      "cell_type": "markdown",
      "source": [
        "* Tuples are immutable , they cannot be changed at all.Tuples are written using parentheses( ) .\n",
        "\n",
        "* Lists are mutable ,they can have values added ,changed or removed. lists are writen using parentheses."
      ],
      "metadata": {
        "id": "6dCNYAmAKZ-d"
      }
    },
    {
      "cell_type": "markdown",
      "source": [
        "14. How do you type a tuple value that only contains the integer 42?\n"
      ],
      "metadata": {
        "id": "vdpqMFWzKaXH"
      }
    },
    {
      "cell_type": "markdown",
      "source": [
        "(42)"
      ],
      "metadata": {
        "id": "Mm6-psRMlD8x"
      }
    },
    {
      "cell_type": "markdown",
      "source": [
        "15. How do you get a list value's tuple form? How do you get a tuple value's list form?\n"
      ],
      "metadata": {
        "id": "ee3wI--lKaT6"
      }
    },
    {
      "cell_type": "markdown",
      "source": [
        "* USing the tuple() and list() functions respectively."
      ],
      "metadata": {
        "id": "bV_KfShrKaK1"
      }
    },
    {
      "cell_type": "markdown",
      "source": [
        "16. Variables that \"contain\" list values are not necessarily lists themselves. Instead, what do they contain?\n"
      ],
      "metadata": {
        "id": "Wd2z0uvCKaQ6"
      }
    },
    {
      "cell_type": "markdown",
      "source": [
        "* They contain references to list values."
      ],
      "metadata": {
        "id": "XVn-d56bKaHg"
      }
    },
    {
      "cell_type": "markdown",
      "source": [
        "17. How do you distinguish between copy.copy() and copy.deepcopy()?\n"
      ],
      "metadata": {
        "id": "7Y-gCkfAKaN8"
      }
    },
    {
      "cell_type": "markdown",
      "source": [
        "* The copy.copy() function will do a shallow copy of a list, while the copy.deepcopy() function will do a deep copy of a list. That is, only copy.deepcopy() will duplicate any lists inside the list."
      ],
      "metadata": {
        "id": "vwq-Cy7oKaEq"
      }
    },
    {
      "cell_type": "code",
      "source": [],
      "metadata": {
        "id": "1Hio54lBnZ6B"
      },
      "execution_count": null,
      "outputs": []
    }
  ]
}