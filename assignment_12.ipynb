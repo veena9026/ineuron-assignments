{
  "nbformat": 4,
  "nbformat_minor": 0,
  "metadata": {
    "colab": {
      "provenance": [],
      "mount_file_id": "1MMGi6hG5ij0Oi8148Wzf_-a0asmiGPI-",
      "authorship_tag": "ABX9TyPIUJPRVs0kL2x32Y2LoSZU",
      "include_colab_link": true
    },
    "kernelspec": {
      "name": "python3",
      "display_name": "Python 3"
    },
    "language_info": {
      "name": "python"
    }
  },
  "cells": [
    {
      "cell_type": "markdown",
      "metadata": {
        "id": "view-in-github",
        "colab_type": "text"
      },
      "source": [
        "<a href=\"https://colab.research.google.com/github/veena9026/ineuron-assignments/blob/main/assignment_12.ipynb\" target=\"_parent\"><img src=\"https://colab.research.google.com/assets/colab-badge.svg\" alt=\"Open In Colab\"/></a>"
      ]
    },
    {
      "cell_type": "markdown",
      "source": [
        "1. In what modes should the PdfFileReader() and PdfFileWriter() File objects will be opened?\n"
      ],
      "metadata": {
        "id": "3PnudpzZFNb2"
      }
    },
    {
      "cell_type": "markdown",
      "source": [
        "Ans :-\n",
        "* PdfFileReader() needs to be opened in read-binary mode by passing 'rb' as the second argument to open(). Likewise, the File object passed to PyPDF2.\n",
        "* PdfFileWriter() needs to be opened in write-binary mode with 'wb'."
      ],
      "metadata": {
        "id": "CtdgWspKIsAI"
      }
    },
    {
      "cell_type": "markdown",
      "source": [
        "2. From a PdfFileReader object, how do you get a Page object for page 5?\n"
      ],
      "metadata": {
        "id": "EzKvHqWHFNfT"
      }
    },
    {
      "cell_type": "markdown",
      "source": [
        "Ans :-\n",
        "* Calling getPage(4) will return a page object for page 5, since page 0 is the first page."
      ],
      "metadata": {
        "id": "w-jKNOIkI_mJ"
      }
    },
    {
      "cell_type": "code",
      "source": [
        "!pip install PyPDF2"
      ],
      "metadata": {
        "colab": {
          "base_uri": "https://localhost:8080/"
        },
        "id": "hl4_BYCOJ8NP",
        "outputId": "174efbea-99b8-41a5-e088-f6b0ab7e8a20"
      },
      "execution_count": 1,
      "outputs": [
        {
          "output_type": "stream",
          "name": "stdout",
          "text": [
            "Requirement already satisfied: PyPDF2 in /usr/local/lib/python3.10/dist-packages (3.0.1)\n"
          ]
        }
      ]
    },
    {
      "cell_type": "code",
      "source": [
        "import PyPDF2\n",
        "pdfFileObj = open(\"/content/sample.pdf\",'rb')\n",
        "pdfReader =  PyPDF2.PdfReader(pdfFileObj)\n",
        "pageObj = pdfReader.pages[4]\n",
        "pageObj.extract_text()"
      ],
      "metadata": {
        "colab": {
          "base_uri": "https://localhost:8080/",
          "height": 209
        },
        "id": "mnzhdzKfJAjB",
        "outputId": "014505eb-091b-4bf6-c506-308406225099"
      },
      "execution_count": 2,
      "outputs": [
        {
          "output_type": "execute_result",
          "data": {
            "text/plain": [
              "'Chapter 1\\nTemplate\\n1.1 How to compilea .texﬁleto a.pdfﬁle\\n1.1.1 Tools\\nTo processthe ﬁlesyou(may)need:\\n\\x0fpdflatex (for example from tetexpackage\\x150.9-6, which you can\\ngetfromRed Hat5.2 );\\n\\x0facroread (a PDFviewer,availablefrom http://www.adobe.com/ );\\n\\x0fghostscript\\x155.10(forexamplefrom RedHatContrib )andghostview\\norgv(fromRedHatLinux);\\n\\x0fefaxpackagecouldbe useful,ifyou plantofax documents.\\n1.1.2 How touse the tools\\nFollow thesesteps:\\n1.putallsource .texﬁlesinonedirectory,thenchdirtothedirectory(orput\\nsomeofthemin theL ATEXsearchpath—if youknowhowto dothis);\\n2.run“pdflatex file.tex ”onthemainﬁleofthedocumentthreetimes\\n(three—to preparevalidtable ofcontents);\\n3.to see or print the result use acroread (unfortunately some versions of\\nacroread mayproducePostScriptwhichistoo complex),or\\n5'"
            ],
            "application/vnd.google.colaboratory.intrinsic+json": {
              "type": "string"
            }
          },
          "metadata": {},
          "execution_count": 2
        }
      ]
    },
    {
      "cell_type": "markdown",
      "source": [
        "3. What PdfFileReader variable stores the number of pages in the PDF document?"
      ],
      "metadata": {
        "id": "zkSuW0I_FNjM"
      }
    },
    {
      "cell_type": "markdown",
      "source": [
        "Ans  :-\n",
        "\n",
        "* The PdfFileReader.numPages variable stores an integer of the number of pages in the PdfFileReader object\n",
        "\n"
      ],
      "metadata": {
        "id": "KBWgPfpyLd5m"
      }
    },
    {
      "cell_type": "code",
      "source": [
        "import PyPDF2 as pdf\n",
        "pdfFileObj = open(\"/content/sample.pdf\",'rb')\n",
        "pdfReader = pdf.PdfReader(pdfFileObj)\n",
        "len(pdfReader.pages)"
      ],
      "metadata": {
        "colab": {
          "base_uri": "https://localhost:8080/"
        },
        "id": "Mdci0K5RQPpq",
        "outputId": "7a9367c0-0f27-47e0-cda0-0ba66014fc8d"
      },
      "execution_count": 3,
      "outputs": [
        {
          "output_type": "execute_result",
          "data": {
            "text/plain": [
              "10"
            ]
          },
          "metadata": {},
          "execution_count": 3
        }
      ]
    },
    {
      "cell_type": "markdown",
      "source": [
        "\n",
        "4. If a PdfFileReader object’s PDF is encrypted with the password swordfish, what must you do\n",
        "before you can obtain Page objects from it?"
      ],
      "metadata": {
        "id": "_x4hT3GpFQq3"
      }
    },
    {
      "cell_type": "markdown",
      "source": [
        "Ans:-\n",
        "\n",
        "* Before we obtain the page object, the pdf has to be decrypted by calling .decrypt('swordfish')\n",
        "\n",
        "pdfReader.decrypt('swordfish')\n"
      ],
      "metadata": {
        "id": "9oKjg6PGRO5Z"
      }
    },
    {
      "cell_type": "markdown",
      "source": [
        "\n",
        "\n",
        "5. What methods do you use to rotate a page?"
      ],
      "metadata": {
        "id": "-xkksxBuFQt1"
      }
    },
    {
      "cell_type": "markdown",
      "source": [
        "Ans:-\n",
        "* The rotateClockwise() and rotateCounterClockwise() methods. The degrees to rotate is passed as an integer argument\n",
        "\n",
        "\n",
        "pageObj.rotateClockwise(180)"
      ],
      "metadata": {
        "id": "1U9B3Nk1SBIv"
      }
    },
    {
      "cell_type": "markdown",
      "source": [
        "\n",
        "6. What is the difference between a Run object and a Paragraph object?"
      ],
      "metadata": {
        "id": "z1OO0mrxFQwe"
      }
    },
    {
      "cell_type": "markdown",
      "source": [
        "Ans :-\n",
        "* Paragraph Object :  A document contains multiple paragraphs. A paragraph begins on a new line and contains multiple\n",
        "runs.\n",
        "The Document object contains a list of Paragraph objects for the paragraphs in the document. (A new paragraph begins\n",
        "whenever the user presses ENTER or RETURN while typing in a Word document.)\n",
        "\n",
        "* Run Objects :\n",
        "Runs are contiguous groups of characters within a paragraph with the same style"
      ],
      "metadata": {
        "id": "CQobWl-qSXlB"
      }
    },
    {
      "cell_type": "markdown",
      "source": [
        "\n",
        "7. How do you obtain a list of Paragraph objects for a Document object that’s stored in a variable\n",
        "named doc?"
      ],
      "metadata": {
        "id": "LdQv1yaTFQzl"
      }
    },
    {
      "cell_type": "markdown",
      "source": [
        "Ans :-\n",
        "By using doc.paragraphs\n",
        "\n",
        "\n",
        "* !pip install python-docx\n",
        "\n",
        "import docx\n",
        "\n",
        "doc = docx.Document('demo.docx')\n",
        "\n",
        "\n",
        "doc.paragraphs"
      ],
      "metadata": {
        "id": "dsMql0LDSyYC"
      }
    },
    {
      "cell_type": "markdown",
      "source": [
        "\n",
        "8. What type of object has bold, underline, italic, strike, and outline variables?"
      ],
      "metadata": {
        "id": "9OoE1vQrFQ2d"
      }
    },
    {
      "cell_type": "markdown",
      "source": [
        "Ans :-\n",
        "\n",
        "Run object has bold, underline, italic, strike, and outline variables. The text in a Word document is more than just a string. It has font, size, color, and other styling information associated with it.\n",
        "\n",
        "A style in Word is a collection of these attributes. A Run object is a contiguous run of text with the same style. A new Run object is needed whenever the text style changes."
      ],
      "metadata": {
        "id": "YR_QVE3ETbFD"
      }
    },
    {
      "cell_type": "markdown",
      "source": [
        "\n",
        "9. What is the difference between False, True, and None for the bold variable?"
      ],
      "metadata": {
        "id": "UcZ27b5oFQ5c"
      }
    },
    {
      "cell_type": "markdown",
      "source": [
        "Ans :-\n",
        "\n",
        "Runs can be further styled using text attributes. Each attribute can be set to one of three values:\n",
        "True (the attribute is always enabled, no matter what other styles are applied to the run),\n",
        "False (the attribute is always disabled),\n",
        "None (defaults to whatever the run’s style is set to)\n",
        "\n",
        "True always makes the Run object bolded and False makes it always not bolded, no matter what the style’s bold setting is. None will make the Run object just use the style’s bold setting\n"
      ],
      "metadata": {
        "id": "RPgTbsiMTrtT"
      }
    },
    {
      "cell_type": "markdown",
      "source": [
        "\n",
        "10. How do you create a Document object for a new Word document?"
      ],
      "metadata": {
        "id": "x7INSIwyFQ8b"
      }
    },
    {
      "cell_type": "markdown",
      "source": [
        "Ans :-\n",
        "\n",
        "By Calling the docx.Document() function."
      ],
      "metadata": {
        "id": "L0Bhf2iAFRJD"
      }
    },
    {
      "cell_type": "markdown",
      "source": [
        "\n",
        "11. How do you add a paragraph with the text &#39;Hello, there!&#39; to a Document object stored in a\n",
        "variable named doc?\n",
        "\n",
        "\n",
        "\n",
        "\n",
        "Ans :-\n",
        "\n",
        "doc.add_paragraph('Hello, there!')"
      ],
      "metadata": {
        "id": "8TQNGsVtFQ_b"
      }
    },
    {
      "cell_type": "code",
      "source": [
        "!pip install docx"
      ],
      "metadata": {
        "colab": {
          "base_uri": "https://localhost:8080/"
        },
        "id": "9D64uQiyUaDm",
        "outputId": "8388c81e-b072-4075-c506-330a9ff6c277"
      },
      "execution_count": 4,
      "outputs": [
        {
          "output_type": "stream",
          "name": "stdout",
          "text": [
            "Requirement already satisfied: docx in /usr/local/lib/python3.10/dist-packages (0.2.4)\n",
            "Requirement already satisfied: lxml in /usr/local/lib/python3.10/dist-packages (from docx) (4.9.3)\n",
            "Requirement already satisfied: Pillow>=2.0 in /usr/local/lib/python3.10/dist-packages (from docx) (9.4.0)\n"
          ]
        }
      ]
    },
    {
      "cell_type": "code",
      "source": [
        "'''import docx\n",
        "doc = docx.Document()\n",
        "\n",
        "doc.add_paragraph('Hello there!')\n",
        "doc.save('hellothere.docx')'''"
      ],
      "metadata": {
        "colab": {
          "base_uri": "https://localhost:8080/",
          "height": 53
        },
        "id": "-wsIU3OYUEA5",
        "outputId": "3c3e1592-4f1b-4dd1-c0cb-7de1e11db8d8"
      },
      "execution_count": 5,
      "outputs": [
        {
          "output_type": "execute_result",
          "data": {
            "text/plain": [
              "\"import docx\\ndoc = docx.Document()\\n\\ndoc.add_paragraph('Hello there!')\\ndoc.save('hellothere.docx')\""
            ],
            "application/vnd.google.colaboratory.intrinsic+json": {
              "type": "string"
            }
          },
          "metadata": {},
          "execution_count": 5
        }
      ]
    },
    {
      "cell_type": "markdown",
      "source": [
        "12. What integers represent the levels of headings available in Word documents?\n"
      ],
      "metadata": {
        "id": "olS-Ly0iFRCg"
      }
    },
    {
      "cell_type": "markdown",
      "source": [
        "ans:-\n",
        "\n",
        "The arguments to add_heading() are a string of the heading text and an integer from 0 to 4. The integer 0 makes the heading the Title style, which is used for the top of the document. Integers 1 to 4 are for various heading levels, with 1 being the main heading and 4 the lowest subheading. The add_heading() function returns a Paragraph object to save you the step of extracting it from the Document object as a separate step."
      ],
      "metadata": {
        "id": "XLD57zGnFNmu"
      }
    }
  ]
}