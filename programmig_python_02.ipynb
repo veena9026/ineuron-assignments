{
  "nbformat": 4,
  "nbformat_minor": 0,
  "metadata": {
    "colab": {
      "provenance": [],
      "authorship_tag": "ABX9TyNNS3Eeqz0fvpKLvuhefmVN",
      "include_colab_link": true
    },
    "kernelspec": {
      "name": "python3",
      "display_name": "Python 3"
    },
    "language_info": {
      "name": "python"
    }
  },
  "cells": [
    {
      "cell_type": "markdown",
      "metadata": {
        "id": "view-in-github",
        "colab_type": "text"
      },
      "source": [
        "<a href=\"https://colab.research.google.com/github/veena9026/ineuron-assignments/blob/main/programmig_python_02.ipynb\" target=\"_parent\"><img src=\"https://colab.research.google.com/assets/colab-badge.svg\" alt=\"Open In Colab\"/></a>"
      ]
    },
    {
      "cell_type": "markdown",
      "source": [
        "1.Write a Python program to convert kilometers to miles?\n"
      ],
      "metadata": {
        "id": "xe5Bo8CBjVUB"
      }
    },
    {
      "cell_type": "code",
      "execution_count": null,
      "metadata": {
        "colab": {
          "base_uri": "https://localhost:8080/"
        },
        "id": "2aCnCbESZEjS",
        "outputId": "eb991db0-4d7e-4d8c-9fb6-ac4429a8704c"
      },
      "outputs": [
        {
          "output_type": "stream",
          "name": "stdout",
          "text": [
            "enter a speed in kilo meter as a unit : 200\n",
            "200.0 km is equal to 124.274 miles\n"
          ]
        }
      ],
      "source": [
        "KILO_METER= float(input(\"enter a speed in kilo meter as a unit : \"))\n",
        "\n",
        "miles=KILO_METER*0.62137\n",
        "\n",
        "print(f\"{KILO_METER} km is equal to {miles} miles\")"
      ]
    },
    {
      "cell_type": "code",
      "source": [
        "def km_to_mile(km):\n",
        "    con_ratio= 0.62137\n",
        "    mile = km*con_ratio\n",
        "    print(f\"{km} km is equal to {mile} miles\")\n",
        " \n",
        "km_to_mile(100)\n"
      ],
      "metadata": {
        "colab": {
          "base_uri": "https://localhost:8080/"
        },
        "id": "GGVQnqHfdmja",
        "outputId": "9f50facd-dfd3-44f7-a08e-64e7a4c0275b"
      },
      "execution_count": null,
      "outputs": [
        {
          "output_type": "stream",
          "name": "stdout",
          "text": [
            "100 km is equal to 62.137 miles\n"
          ]
        }
      ]
    },
    {
      "cell_type": "markdown",
      "source": [
        "2.Write a Python program to convert Celsius to Fahrenheit?"
      ],
      "metadata": {
        "id": "L88_z8X7jVWx"
      }
    },
    {
      "cell_type": "code",
      "source": [
        "Cel= float(input(\"enter a speed in kilo meter as a unit : \"))\n",
        "\n",
        "Feh=(Cel*(9/5))+32\n",
        "\n",
        "print(f\"{Cel} celsius is equal to {Feh} fahrenheit\")"
      ],
      "metadata": {
        "id": "sHf7Hu_kj7s4",
        "colab": {
          "base_uri": "https://localhost:8080/"
        },
        "outputId": "fd2b42a7-c7ed-4737-b391-2442e634e34a"
      },
      "execution_count": 3,
      "outputs": [
        {
          "output_type": "stream",
          "name": "stdout",
          "text": [
            "enter a speed in kilo meter as a unit : 38.6\n",
            "38.6 celsius is equal to 101.48 fahrenheit\n"
          ]
        }
      ]
    },
    {
      "cell_type": "markdown",
      "source": [
        "3.Write a Python program to display calendar?"
      ],
      "metadata": {
        "id": "EcLZ8U1EjVZk"
      }
    },
    {
      "cell_type": "code",
      "source": [
        "import calendar\n",
        "\n",
        "def showCalender():\n",
        "    year = int(input(\"Enter calender year: \"))\n",
        "    print(calendar.calendar(year))\n",
        "    \n",
        "showCalender()"
      ],
      "metadata": {
        "id": "wyz37G19j7-a",
        "colab": {
          "base_uri": "https://localhost:8080/"
        },
        "outputId": "687011db-58dc-4aab-d354-cd91a45756a8"
      },
      "execution_count": 4,
      "outputs": [
        {
          "output_type": "stream",
          "name": "stdout",
          "text": [
            "Enter calender year: 2023\n",
            "                                  2023\n",
            "\n",
            "      January                   February                   March\n",
            "Mo Tu We Th Fr Sa Su      Mo Tu We Th Fr Sa Su      Mo Tu We Th Fr Sa Su\n",
            "                   1             1  2  3  4  5             1  2  3  4  5\n",
            " 2  3  4  5  6  7  8       6  7  8  9 10 11 12       6  7  8  9 10 11 12\n",
            " 9 10 11 12 13 14 15      13 14 15 16 17 18 19      13 14 15 16 17 18 19\n",
            "16 17 18 19 20 21 22      20 21 22 23 24 25 26      20 21 22 23 24 25 26\n",
            "23 24 25 26 27 28 29      27 28                     27 28 29 30 31\n",
            "30 31\n",
            "\n",
            "       April                      May                       June\n",
            "Mo Tu We Th Fr Sa Su      Mo Tu We Th Fr Sa Su      Mo Tu We Th Fr Sa Su\n",
            "                1  2       1  2  3  4  5  6  7                1  2  3  4\n",
            " 3  4  5  6  7  8  9       8  9 10 11 12 13 14       5  6  7  8  9 10 11\n",
            "10 11 12 13 14 15 16      15 16 17 18 19 20 21      12 13 14 15 16 17 18\n",
            "17 18 19 20 21 22 23      22 23 24 25 26 27 28      19 20 21 22 23 24 25\n",
            "24 25 26 27 28 29 30      29 30 31                  26 27 28 29 30\n",
            "\n",
            "        July                     August                  September\n",
            "Mo Tu We Th Fr Sa Su      Mo Tu We Th Fr Sa Su      Mo Tu We Th Fr Sa Su\n",
            "                1  2          1  2  3  4  5  6                   1  2  3\n",
            " 3  4  5  6  7  8  9       7  8  9 10 11 12 13       4  5  6  7  8  9 10\n",
            "10 11 12 13 14 15 16      14 15 16 17 18 19 20      11 12 13 14 15 16 17\n",
            "17 18 19 20 21 22 23      21 22 23 24 25 26 27      18 19 20 21 22 23 24\n",
            "24 25 26 27 28 29 30      28 29 30 31               25 26 27 28 29 30\n",
            "31\n",
            "\n",
            "      October                   November                  December\n",
            "Mo Tu We Th Fr Sa Su      Mo Tu We Th Fr Sa Su      Mo Tu We Th Fr Sa Su\n",
            "                   1             1  2  3  4  5                   1  2  3\n",
            " 2  3  4  5  6  7  8       6  7  8  9 10 11 12       4  5  6  7  8  9 10\n",
            " 9 10 11 12 13 14 15      13 14 15 16 17 18 19      11 12 13 14 15 16 17\n",
            "16 17 18 19 20 21 22      20 21 22 23 24 25 26      18 19 20 21 22 23 24\n",
            "23 24 25 26 27 28 29      27 28 29 30               25 26 27 28 29 30 31\n",
            "30 31\n",
            "\n"
          ]
        }
      ]
    },
    {
      "cell_type": "code",
      "source": [
        "\n",
        "def display_calender(year,month):\n",
        "    print(calendar.month(year,month))\n",
        "a = display_calender(2022,4)"
      ],
      "metadata": {
        "colab": {
          "base_uri": "https://localhost:8080/"
        },
        "id": "oEonqC6MD2KK",
        "outputId": "f9338a4f-0d78-40b2-bc5d-8727eee9fef8"
      },
      "execution_count": 6,
      "outputs": [
        {
          "output_type": "stream",
          "name": "stdout",
          "text": [
            "     April 2022\n",
            "Mo Tu We Th Fr Sa Su\n",
            "             1  2  3\n",
            " 4  5  6  7  8  9 10\n",
            "11 12 13 14 15 16 17\n",
            "18 19 20 21 22 23 24\n",
            "25 26 27 28 29 30\n",
            "\n"
          ]
        }
      ]
    },
    {
      "cell_type": "markdown",
      "source": [
        "\n",
        "4.Write a Python program to solve quadratic equation?"
      ],
      "metadata": {
        "id": "KaxogUMujVcK"
      }
    },
    {
      "cell_type": "code",
      "source": [
        "import cmath  \n",
        "a = float(input('Enter a: '))  \n",
        "b = float(input('Enter b: '))  \n",
        "c = float(input('Enter c: '))  \n",
        "  \n",
        "# calculate the discriminant  \n",
        "d = (b**2) - (4*a*c)  \n",
        "  \n",
        "# find two solutions  \n",
        "sol1 = (-b-cmath.sqrt(d))/(2*a)  \n",
        "sol2 = (-b+cmath.sqrt(d))/(2*a)  \n",
        "print('The solution are {0} and {1}'.format(sol1,sol2))   "
      ],
      "metadata": {
        "id": "xb8g0-zWj77M",
        "colab": {
          "base_uri": "https://localhost:8080/"
        },
        "outputId": "3cb366ef-e3cf-44d8-d280-3bf55a9fc830"
      },
      "execution_count": 13,
      "outputs": [
        {
          "output_type": "stream",
          "name": "stdout",
          "text": [
            "Enter a: 5\n",
            "Enter b: 4\n",
            "Enter c: 2\n",
            "The solution are (-0.4-0.4898979485566356j) and (-0.4+0.4898979485566356j)\n"
          ]
        }
      ]
    },
    {
      "cell_type": "markdown",
      "source": [
        "\n",
        "5.Write a Python program to swap two variables without temp variable?"
      ],
      "metadata": {
        "id": "jzaHmm7bjVev"
      }
    },
    {
      "cell_type": "code",
      "source": [
        "X=float(input(\"enter a number (X) :\"))\n",
        "Y=float(input(\"enter a number(Y) :\"))\n",
        "\n",
        "X,Y=Y,X\n",
        "\n",
        "print(f\"{X} & {Y} \")"
      ],
      "metadata": {
        "id": "E8upv02-pMIv",
        "colab": {
          "base_uri": "https://localhost:8080/"
        },
        "outputId": "aae813a4-69c5-460f-f779-5c485db8893d"
      },
      "execution_count": 14,
      "outputs": [
        {
          "output_type": "stream",
          "name": "stdout",
          "text": [
            "enter a number (X) :23\n",
            "enter a number(Y) :3\n",
            "3.0 & 23.0 \n"
          ]
        }
      ]
    },
    {
      "cell_type": "code",
      "source": [
        "X=float(input(\"enter a number (X) :\"))\n",
        "Y=float(input(\"enter a number(Y) :\"))\n",
        "\n",
        "\n",
        "Z=X+Y\n",
        "X=Z-Y\n",
        "Y=X/Z\n",
        "\n",
        "print( \" value of X :\",X ,\n",
        "      \"\\n\",\"value of Y :\",Y,\n",
        "      \"\\n\",\"value of Z :\",Z)"
      ],
      "metadata": {
        "id": "oUtN01LWod4p",
        "colab": {
          "base_uri": "https://localhost:8080/"
        },
        "outputId": "ffa8f89b-e3d7-4662-cadc-eef7400c0674"
      },
      "execution_count": 21,
      "outputs": [
        {
          "output_type": "stream",
          "name": "stdout",
          "text": [
            "enter a number (X) :14\n",
            "enter a number(Y) :24\n",
            " value of X : 14.0 \n",
            " value of Y : 0.3684210526315789 \n",
            " value of Z : 38.0\n"
          ]
        }
      ]
    },
    {
      "cell_type": "code",
      "source": [],
      "metadata": {
        "colab": {
          "base_uri": "https://localhost:8080/",
          "height": 130
        },
        "id": "kyBJZKV2Idit",
        "outputId": "f16655ef-8131-44fa-bd43-00cb497cc484"
      },
      "execution_count": 19,
      "outputs": [
        {
          "output_type": "error",
          "ename": "SyntaxError",
          "evalue": "ignored",
          "traceback": [
            "\u001b[0;36m  File \u001b[0;32m\"<ipython-input-19-4071a1fba099>\"\u001b[0;36m, line \u001b[0;32m1\u001b[0m\n\u001b[0;31m    --\u001b[0m\n\u001b[0m      ^\u001b[0m\n\u001b[0;31mSyntaxError\u001b[0m\u001b[0;31m:\u001b[0m invalid syntax\n"
          ]
        }
      ]
    },
    {
      "cell_type": "code",
      "source": [],
      "metadata": {
        "id": "yLhqlAGcI0Y_"
      },
      "execution_count": null,
      "outputs": []
    }
  ]
}