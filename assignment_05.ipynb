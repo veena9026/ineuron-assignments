{
  "nbformat": 4,
  "nbformat_minor": 0,
  "metadata": {
    "colab": {
      "provenance": [],
      "authorship_tag": "ABX9TyNRkuf1Uq6PL3s0OwE6RP3+",
      "include_colab_link": true
    },
    "kernelspec": {
      "name": "python3",
      "display_name": "Python 3"
    },
    "language_info": {
      "name": "python"
    }
  },
  "cells": [
    {
      "cell_type": "markdown",
      "metadata": {
        "id": "view-in-github",
        "colab_type": "text"
      },
      "source": [
        "<a href=\"https://colab.research.google.com/github/veena9026/ineuron-assignments/blob/main/assignment_05.ipynb\" target=\"_parent\"><img src=\"https://colab.research.google.com/assets/colab-badge.svg\" alt=\"Open In Colab\"/></a>"
      ]
    },
    {
      "cell_type": "markdown",
      "source": [
        "1. What does an empty dictionary&#39;s code look like?\n"
      ],
      "metadata": {
        "id": "OYlhmi9iVNLh"
      }
    },
    {
      "cell_type": "markdown",
      "source": [
        "* An empty dictionary's code look like two curly brackets: {}"
      ],
      "metadata": {
        "id": "a9skhhXlVMvI"
      }
    },
    {
      "cell_type": "code",
      "source": [
        "dic = {}\n",
        "\n",
        "type(dic)"
      ],
      "metadata": {
        "colab": {
          "base_uri": "https://localhost:8080/"
        },
        "id": "Lq4yTznB5vLy",
        "outputId": "5afe8351-342f-40e7-8818-176e3bbfd2cc"
      },
      "execution_count": 13,
      "outputs": [
        {
          "output_type": "execute_result",
          "data": {
            "text/plain": [
              "dict"
            ]
          },
          "metadata": {},
          "execution_count": 13
        }
      ]
    },
    {
      "cell_type": "markdown",
      "source": [
        "2. What is the value of a dictionary value with the key &#39;foo&#39; and the value 42?\n"
      ],
      "metadata": {
        "id": "j9-w3GsnVNIO"
      }
    },
    {
      "cell_type": "markdown",
      "source": [
        "d = {\" foo \" : 42}"
      ],
      "metadata": {
        "id": "LnZggfTVVMx7"
      }
    },
    {
      "cell_type": "markdown",
      "source": [
        "3. What is the most significant distinction between a dictionary and a list?\n"
      ],
      "metadata": {
        "id": "El5zLvZOVNFD"
      }
    },
    {
      "cell_type": "markdown",
      "source": [
        "--> Most significant difference:\n",
        "   * List - items in list are Ordered\n",
        "   * Dictionary : iten in dictionary are unordered  "
      ],
      "metadata": {
        "id": "idwAsktRVMsK"
      }
    },
    {
      "cell_type": "markdown",
      "source": [
        "4. What happens if you try to access spam[&#39;foo&#39;] if spam is {&#39;bar&#39;: 100}?\n"
      ],
      "metadata": {
        "id": "BC-16kJaVNB0"
      }
    },
    {
      "cell_type": "code",
      "source": [
        "spam = {\" bar \":100}\n",
        "\n"
      ],
      "metadata": {
        "id": "ipHGPfXc15QN"
      },
      "execution_count": 2,
      "outputs": []
    },
    {
      "cell_type": "code",
      "source": [
        "\n",
        "spam[\"foo\"]"
      ],
      "metadata": {
        "colab": {
          "base_uri": "https://localhost:8080/",
          "height": 165
        },
        "id": "Il9fLSfF2Kq7",
        "outputId": "ebed0c08-d082-4632-8518-7cc9c7d3f2f0"
      },
      "execution_count": 3,
      "outputs": [
        {
          "output_type": "error",
          "ename": "KeyError",
          "evalue": "ignored",
          "traceback": [
            "\u001b[0;31m---------------------------------------------------------------------------\u001b[0m",
            "\u001b[0;31mKeyError\u001b[0m                                  Traceback (most recent call last)",
            "\u001b[0;32m<ipython-input-3-eb1d0efbede1>\u001b[0m in \u001b[0;36m<module>\u001b[0;34m\u001b[0m\n\u001b[0;32m----> 1\u001b[0;31m \u001b[0mspam\u001b[0m\u001b[0;34m[\u001b[0m\u001b[0;34m\"foo\"\u001b[0m\u001b[0;34m]\u001b[0m\u001b[0;34m\u001b[0m\u001b[0;34m\u001b[0m\u001b[0m\n\u001b[0m",
            "\u001b[0;31mKeyError\u001b[0m: 'foo'"
          ]
        }
      ]
    },
    {
      "cell_type": "markdown",
      "source": [
        "5. If a dictionary is stored in spam, what is the difference between the expressions &#39;cat&#39; in spam and\n",
        "&#39;cat&#39; in spam.keys()?\n"
      ],
      "metadata": {
        "id": "ruvif5vKVM-a"
      }
    },
    {
      "cell_type": "markdown",
      "source": [
        "* There is no difference. The in operator checks whether a value exists as a key in the dictionary."
      ],
      "metadata": {
        "id": "vhga2Ta429_4"
      }
    },
    {
      "cell_type": "code",
      "source": [
        "spam={\"cat\":30}\n",
        "\n",
        "\"cat\" in spam"
      ],
      "metadata": {
        "colab": {
          "base_uri": "https://localhost:8080/"
        },
        "id": "OY117TyT36r3",
        "outputId": "b02e419a-e303-455e-ba01-eadb8e4f4e70"
      },
      "execution_count": 5,
      "outputs": [
        {
          "output_type": "execute_result",
          "data": {
            "text/plain": [
              "True"
            ]
          },
          "metadata": {},
          "execution_count": 5
        }
      ]
    },
    {
      "cell_type": "code",
      "source": [
        "\"cat\" in spam.keys()"
      ],
      "metadata": {
        "colab": {
          "base_uri": "https://localhost:8080/"
        },
        "id": "jd-AZA9U4FDu",
        "outputId": "6016324e-7da9-42b7-edd7-e05a72bc23ea"
      },
      "execution_count": 6,
      "outputs": [
        {
          "output_type": "execute_result",
          "data": {
            "text/plain": [
              "True"
            ]
          },
          "metadata": {},
          "execution_count": 6
        }
      ]
    },
    {
      "cell_type": "markdown",
      "source": [
        "6. If a dictionary is stored in spam, what is the difference between the expressions &#39;cat&#39; in spam and\n",
        "&#39;cat&#39; in spam.values()?\n"
      ],
      "metadata": {
        "id": "4PfxK4MOVM7F"
      }
    },
    {
      "cell_type": "markdown",
      "source": [
        "* 'cat' in spam checks whether there is a 'cat' key in the dictionary, while 'cat' in spam.values() checks whether there is a value 'cat' for one of the keys in spam."
      ],
      "metadata": {
        "id": "em4f3L8d2_Nr"
      }
    },
    {
      "cell_type": "code",
      "source": [
        "spam ={\"cat\":20}\n",
        "\n",
        "\"cat\" in spam"
      ],
      "metadata": {
        "colab": {
          "base_uri": "https://localhost:8080/"
        },
        "id": "RSMYW7W34SsF",
        "outputId": "368a98c7-1e25-4b7e-f219-f579a41be88a"
      },
      "execution_count": 7,
      "outputs": [
        {
          "output_type": "execute_result",
          "data": {
            "text/plain": [
              "True"
            ]
          },
          "metadata": {},
          "execution_count": 7
        }
      ]
    },
    {
      "cell_type": "code",
      "source": [
        "\"cat\" in spam.values()"
      ],
      "metadata": {
        "colab": {
          "base_uri": "https://localhost:8080/"
        },
        "id": "VPw5788P4hR_",
        "outputId": "cdb149e8-4eb0-4096-dacb-8869bec32755"
      },
      "execution_count": 8,
      "outputs": [
        {
          "output_type": "execute_result",
          "data": {
            "text/plain": [
              "False"
            ]
          },
          "metadata": {},
          "execution_count": 8
        }
      ]
    },
    {
      "cell_type": "markdown",
      "source": [
        "7. What is a shortcut for the following code?\n",
        "\n",
        "if &#39;color&#39; not in spam:\n",
        "\n",
        "spam[&#39;color&#39;] = &#39;black&#39;\n",
        "\n"
      ],
      "metadata": {
        "id": "lpkLpaoNVM4F"
      }
    },
    {
      "cell_type": "markdown",
      "source": [
        "*  This can be achieved by using setdefault() which Inserts key with a value of default if key is not in the dictionary\n"
      ],
      "metadata": {
        "id": "WAzEdMz24xHU"
      }
    },
    {
      "cell_type": "code",
      "source": [
        "spam ={'cat':100}\n",
        "spam.setdefault('color','black')\n",
        "spam"
      ],
      "metadata": {
        "colab": {
          "base_uri": "https://localhost:8080/"
        },
        "id": "BmQJovlY41m5",
        "outputId": "f09b85a8-934e-4479-dfce-1df7e1a3030a"
      },
      "execution_count": 9,
      "outputs": [
        {
          "output_type": "execute_result",
          "data": {
            "text/plain": [
              "{'cat': 100, 'color': 'black'}"
            ]
          },
          "metadata": {},
          "execution_count": 9
        }
      ]
    },
    {
      "cell_type": "markdown",
      "source": [
        "8. How do you &quot;pretty print&quot; dictionary values using which module and function?"
      ],
      "metadata": {
        "id": "BaKksBMGVM1I"
      }
    },
    {
      "cell_type": "markdown",
      "source": [
        "* pprint.pprint()"
      ],
      "metadata": {
        "id": "Yok5605AVMl-"
      }
    },
    {
      "cell_type": "code",
      "source": [
        "import pprint\n"
      ],
      "metadata": {
        "id": "UHZqpRWR5QG_"
      },
      "execution_count": 10,
      "outputs": []
    },
    {
      "cell_type": "code",
      "source": [
        "dct_arr = [ {'Name': 'John', 'Age': '23', 'Country': 'USA'},\n",
        "  {'Name': 'Jose', 'Age': '44', 'Country': 'Spain'},\n",
        "  {'Name': 'Anne', 'Age': '29', 'Country': 'UK'},\n",
        "  {'Name': 'Lee', 'Age': '35', 'Country': 'Japan'}\n",
        "]\n"
      ],
      "metadata": {
        "id": "fSCO-O-tcxaY"
      },
      "execution_count": 11,
      "outputs": []
    },
    {
      "cell_type": "code",
      "source": [
        " #printing with pprint()\n",
        "pprint.pprint(dct_arr)\n",
        "[{'Age': '23', 'Country': 'USA', 'Name': 'John'},\n",
        " {'Age': '44', 'Country': 'Spain', 'Name': 'Jose'},\n",
        " {'Age': '29', 'Country': 'UK', 'Name': 'Anne'},\n",
        " {'Age': '35', 'Country': 'Japan', 'Name': 'Lee'}]"
      ],
      "metadata": {
        "colab": {
          "base_uri": "https://localhost:8080/"
        },
        "id": "47LMRUSd5ZjW",
        "outputId": "6cc552fa-56e8-490c-c2e2-463e10ca8e6c"
      },
      "execution_count": 12,
      "outputs": [
        {
          "output_type": "stream",
          "name": "stdout",
          "text": [
            "[{'Age': '23', 'Country': 'USA', 'Name': 'John'},\n",
            " {'Age': '44', 'Country': 'Spain', 'Name': 'Jose'},\n",
            " {'Age': '29', 'Country': 'UK', 'Name': 'Anne'},\n",
            " {'Age': '35', 'Country': 'Japan', 'Name': 'Lee'}]\n"
          ]
        },
        {
          "output_type": "execute_result",
          "data": {
            "text/plain": [
              "[{'Age': '23', 'Country': 'USA', 'Name': 'John'},\n",
              " {'Age': '44', 'Country': 'Spain', 'Name': 'Jose'},\n",
              " {'Age': '29', 'Country': 'UK', 'Name': 'Anne'},\n",
              " {'Age': '35', 'Country': 'Japan', 'Name': 'Lee'}]"
            ]
          },
          "metadata": {},
          "execution_count": 12
        }
      ]
    },
    {
      "cell_type": "code",
      "source": [
        "                                                                                                                                   "
      ],
      "metadata": {
        "id": "ky4ICwC55g8p"
      },
      "execution_count": null,
      "outputs": []
    }
  ]
}