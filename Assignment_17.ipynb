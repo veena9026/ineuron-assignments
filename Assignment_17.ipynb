{
  "nbformat": 4,
  "nbformat_minor": 0,
  "metadata": {
    "colab": {
      "provenance": [],
      "authorship_tag": "ABX9TyMglowHJiZOxn62dYSbk/rn",
      "include_colab_link": true
    },
    "kernelspec": {
      "name": "python3",
      "display_name": "Python 3"
    },
    "language_info": {
      "name": "python"
    }
  },
  "cells": [
    {
      "cell_type": "markdown",
      "metadata": {
        "id": "view-in-github",
        "colab_type": "text"
      },
      "source": [
        "<a href=\"https://colab.research.google.com/github/veena9026/ineuron-assignments/blob/main/Assignment_17.ipynb\" target=\"_parent\"><img src=\"https://colab.research.google.com/assets/colab-badge.svg\" alt=\"Open In Colab\"/></a>"
      ]
    },
    {
      "cell_type": "markdown",
      "source": [
        "1. Assign the value 7 to the variable guess_me. Then, write the conditional tests (if, else, and elif) to\n",
        "print the string &#39;too low&#39; if guess_me is less than 7, &#39;too high&#39; if greater than 7, and &#39;just right&#39; if equal\n",
        "to 7."
      ],
      "metadata": {
        "id": "Bt4fraW0u5IO"
      }
    },
    {
      "cell_type": "code",
      "source": [
        "def guess_me(guess_me):\n",
        "    if guess_me < 7:\n",
        "        print('too Low')\n",
        "    elif guess_me > 7:\n",
        "        print('too High')\n",
        "    else:\n",
        "        print('just Right')\n",
        "\n",
        "\n",
        "guess_me(guess_me=7)\n",
        "guess_me(guess_me=5)\n",
        "guess_me(guess_me=15)"
      ],
      "metadata": {
        "colab": {
          "base_uri": "https://localhost:8080/"
        },
        "id": "Nan_aJeuNJvw",
        "outputId": "d207cf1a-6d5d-466d-d360-759b78ca44be"
      },
      "execution_count": null,
      "outputs": [
        {
          "output_type": "stream",
          "name": "stdout",
          "text": [
            "just Right\n",
            "too Low\n",
            "too High\n"
          ]
        }
      ]
    },
    {
      "cell_type": "markdown",
      "source": [
        "2. Assign the value 7 to the variable guess_me and the value 1 to the variable start. Write a while\n",
        "loop that compares start with guess_me. Print too low if start is less than guess me. If start equals\n",
        "guess_me, print &#39;found it!&#39; and exit the loop. If start is greater than guess_me, print &#39;oops&#39; and exit\n",
        "the loop. Increment start at the end of the loop."
      ],
      "metadata": {
        "id": "OV0T39ouu5Lp"
      }
    },
    {
      "cell_type": "code",
      "source": [
        "guess_me = 7\n",
        "start=1\n",
        "while True:\n",
        "  if start < guess_me:\n",
        "    print(\"too low\")\n",
        "  elif start ==guess_me :\n",
        "    print(\"found it\")\n",
        "    break\n",
        "  else:\n",
        "    print(\"oops\")\n",
        "    break\n",
        "  start += 1"
      ],
      "metadata": {
        "colab": {
          "base_uri": "https://localhost:8080/"
        },
        "id": "m1moLN66PAu7",
        "outputId": "d953a443-db85-42b4-ec7b-8adc51d43893"
      },
      "execution_count": null,
      "outputs": [
        {
          "output_type": "stream",
          "name": "stdout",
          "text": [
            "too low\n",
            "too low\n",
            "too low\n",
            "too low\n",
            "too low\n",
            "too low\n",
            "found it\n"
          ]
        }
      ]
    },
    {
      "cell_type": "markdown",
      "source": [
        "\n",
        "3. Print the following values of the list [3, 2, 1, 0] using a for loop."
      ],
      "metadata": {
        "id": "h6Qaxzs2u5O5"
      }
    },
    {
      "cell_type": "code",
      "source": [
        "List= [3, 2, 1, 0]\n",
        "\n",
        "for i in List:\n",
        "  print(i)"
      ],
      "metadata": {
        "colab": {
          "base_uri": "https://localhost:8080/"
        },
        "id": "tw8DYqr5Qivr",
        "outputId": "f40b61c7-fc5c-42a7-b82d-0ff98a692aa4"
      },
      "execution_count": null,
      "outputs": [
        {
          "output_type": "stream",
          "name": "stdout",
          "text": [
            "3\n",
            "2\n",
            "1\n",
            "0\n"
          ]
        }
      ]
    },
    {
      "cell_type": "markdown",
      "source": [
        "\n",
        "4. Use a list comprehension to make a list of the even numbers in range(10)\n"
      ],
      "metadata": {
        "id": "ZcoBwJ7Fu5SD"
      }
    },
    {
      "cell_type": "code",
      "source": [
        "[eve for eve in range(10) if eve % 2 ==0]"
      ],
      "metadata": {
        "colab": {
          "base_uri": "https://localhost:8080/"
        },
        "id": "LJ29gJiORB4D",
        "outputId": "b22263cd-c52b-43ea-f2c5-03ce6491ca4a"
      },
      "execution_count": null,
      "outputs": [
        {
          "output_type": "execute_result",
          "data": {
            "text/plain": [
              "[0, 2, 4, 6, 8]"
            ]
          },
          "metadata": {},
          "execution_count": 4
        }
      ]
    },
    {
      "cell_type": "markdown",
      "source": [
        "5. Use a dictionary comprehension to create the dictionary squares. Use range(10) to return the\n",
        "keys, and use the square of each key as its value."
      ],
      "metadata": {
        "id": "8Y0MjBWvu5Vh"
      }
    },
    {
      "cell_type": "code",
      "source": [
        "{key: key*key for key in range(10)}"
      ],
      "metadata": {
        "colab": {
          "base_uri": "https://localhost:8080/"
        },
        "id": "PgAabnd_R4cz",
        "outputId": "ccc43977-24e8-4c0c-a6de-021c2d0d5abc"
      },
      "execution_count": null,
      "outputs": [
        {
          "output_type": "execute_result",
          "data": {
            "text/plain": [
              "{0: 0, 1: 1, 2: 4, 3: 9, 4: 16, 5: 25, 6: 36, 7: 49, 8: 64, 9: 81}"
            ]
          },
          "metadata": {},
          "execution_count": 5
        }
      ]
    },
    {
      "cell_type": "markdown",
      "source": [
        "\n",
        "6. Construct the set odd from the odd numbers in the range using a set comprehension (10)."
      ],
      "metadata": {
        "id": "NnaRsA0Du5Yt"
      }
    },
    {
      "cell_type": "code",
      "source": [
        "{ od for od in  range (10) if od % 2!=0 }"
      ],
      "metadata": {
        "colab": {
          "base_uri": "https://localhost:8080/"
        },
        "id": "N_IyvHhbSMZS",
        "outputId": "3dcb036d-35d4-4fb4-b98a-d17f5e8da5ed"
      },
      "execution_count": null,
      "outputs": [
        {
          "output_type": "execute_result",
          "data": {
            "text/plain": [
              "{1, 3, 5, 7, 9}"
            ]
          },
          "metadata": {},
          "execution_count": 6
        }
      ]
    },
    {
      "cell_type": "markdown",
      "source": [
        "\n",
        "7. Use a generator comprehension to return the string &#39;Got &#39; and a number for the numbers in\n",
        "range(10). Iterate through this by using a for loop."
      ],
      "metadata": {
        "id": "aDaLJmTuu5cB"
      }
    },
    {
      "cell_type": "code",
      "source": [
        "gen_com = ('Got_'+str(x) for x in range(10))\n",
        "for ele in gen_com:\n",
        "    print(ele )"
      ],
      "metadata": {
        "colab": {
          "base_uri": "https://localhost:8080/"
        },
        "id": "Ccikl85OSs7E",
        "outputId": "33a234b6-c23a-44ab-96ba-db66b105ffe4"
      },
      "execution_count": null,
      "outputs": [
        {
          "output_type": "stream",
          "name": "stdout",
          "text": [
            "Got_0\n",
            "Got_1\n",
            "Got_2\n",
            "Got_3\n",
            "Got_4\n",
            "Got_5\n",
            "Got_6\n",
            "Got_7\n",
            "Got_8\n",
            "Got_9\n"
          ]
        }
      ]
    },
    {
      "cell_type": "markdown",
      "source": [
        "\n",
        "8. Define a function called good that returns the list [&#39;Harry&#39;, &#39;Ron&#39;, &#39;Hermione&#39;]."
      ],
      "metadata": {
        "id": "1oBfYA-ru5fB"
      }
    },
    {
      "cell_type": "code",
      "source": [
        "def Good ():\n",
        "  l =[\"Harry\",\"Ron\",\"Hermione\"]\n",
        "\n",
        "  return l\n",
        "\n",
        "Good()\n",
        "\n"
      ],
      "metadata": {
        "colab": {
          "base_uri": "https://localhost:8080/"
        },
        "id": "TWCysNjGTYHf",
        "outputId": "4310c2b6-3943-479c-de7f-8f493d7a4426"
      },
      "execution_count": null,
      "outputs": [
        {
          "output_type": "execute_result",
          "data": {
            "text/plain": [
              "['Harry', 'Ron', 'Hermione']"
            ]
          },
          "metadata": {},
          "execution_count": 9
        }
      ]
    },
    {
      "cell_type": "markdown",
      "source": [
        "\n",
        "9. Define a generator function called get_odds that returns the odd numbers from range(10). Use a\n",
        "for loop to find and print the third value returned."
      ],
      "metadata": {
        "id": "39JFJqIqu5iG"
      }
    },
    {
      "cell_type": "code",
      "source": [
        "def get_odds():\n",
        "    output = []\n",
        "    for ele in range(10):\n",
        "        if ele%2 != 0:\n",
        "            output.append(ele)\n",
        "    yield output\n",
        "\n",
        "next(get_odds())[2]"
      ],
      "metadata": {
        "colab": {
          "base_uri": "https://localhost:8080/"
        },
        "id": "pTO65aA2T7pc",
        "outputId": "1b638c57-af12-4922-bcf1-24746dd2fb95"
      },
      "execution_count": null,
      "outputs": [
        {
          "output_type": "execute_result",
          "data": {
            "text/plain": [
              "5"
            ]
          },
          "metadata": {},
          "execution_count": 10
        }
      ]
    },
    {
      "cell_type": "markdown",
      "source": [
        "\n",
        "10. Define an exception called OopsException. Raise this exception to see what happens. Then write\n",
        "the code to catch this exception and print &#39;Caught an oops&#39;.\n"
      ],
      "metadata": {
        "id": "iENtNH1tu5lU"
      }
    },
    {
      "cell_type": "code",
      "source": [
        "class OopsException(Exception):\n",
        "    pass\n",
        "\n",
        "def caught(a):\n",
        "    if a<0:\n",
        "        raise OopsException(a)\n",
        "\n",
        "\n",
        "try:\n",
        "    caught(-1)\n",
        "except Exception as e:\n",
        "    print('Caught an oops')\n"
      ],
      "metadata": {
        "colab": {
          "base_uri": "https://localhost:8080/"
        },
        "id": "ZKUWlwvsU2Kg",
        "outputId": "fc8c1ef9-392d-4cdc-fa51-da81ac87a8d3"
      },
      "execution_count": null,
      "outputs": [
        {
          "output_type": "stream",
          "name": "stdout",
          "text": [
            "Caught an oops\n"
          ]
        }
      ]
    },
    {
      "cell_type": "markdown",
      "source": [
        "11. Use zip() to make a dictionary called movies that pairs these lists: titles = [&#39;Creature of Habit&#39;,\n",
        "&#39;Crewel Fate&#39;] and plots = [&#39;A nun turns into a monster&#39;, &#39;A haunted yarn shop&#39;]."
      ],
      "metadata": {
        "id": "9laKwXltu5of"
      }
    },
    {
      "cell_type": "code",
      "source": [
        "titles = ['Creature of Habit', 'Crewel Fate']\n",
        "plots = ['A nun turns into a monster', 'A haunted yarn shop']\n",
        "output = dict(zip(titles,plots))\n",
        "print(output)"
      ],
      "metadata": {
        "id": "KxxDyWJhVdfj",
        "colab": {
          "base_uri": "https://localhost:8080/"
        },
        "outputId": "4c3ecad8-e54e-41e5-8bbc-d9e8064e3cf2"
      },
      "execution_count": 1,
      "outputs": [
        {
          "output_type": "stream",
          "name": "stdout",
          "text": [
            "{'Creature of Habit': 'A nun turns into a monster', 'Crewel Fate': 'A haunted yarn shop'}\n"
          ]
        }
      ]
    }
  ]
}