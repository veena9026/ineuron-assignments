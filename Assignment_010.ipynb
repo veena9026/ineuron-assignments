{
  "nbformat": 4,
  "nbformat_minor": 0,
  "metadata": {
    "colab": {
      "provenance": [],
      "authorship_tag": "ABX9TyMBleWlpK7tBOTeOpz911xP",
      "include_colab_link": true
    },
    "kernelspec": {
      "name": "python3",
      "display_name": "Python 3"
    },
    "language_info": {
      "name": "python"
    }
  },
  "cells": [
    {
      "cell_type": "markdown",
      "metadata": {
        "id": "view-in-github",
        "colab_type": "text"
      },
      "source": [
        "<a href=\"https://colab.research.google.com/github/veena9026/ineuron-assignments/blob/main/Assignment_010.ipynb\" target=\"_parent\"><img src=\"https://colab.research.google.com/assets/colab-badge.svg\" alt=\"Open In Colab\"/></a>"
      ]
    },
    {
      "cell_type": "markdown",
      "source": [
        "1. How do you distinguish between shutil.copy() and shutil.copytree()?"
      ],
      "metadata": {
        "id": "897fNUYrME9F"
      }
    },
    {
      "cell_type": "markdown",
      "source": [
        "* shutil.copy() :-Copies the file src to the file or directory dst. src and dst should be path-like objects or strings. If dst specifies a directory, the file will be copied into dst using the base filename from src. If dst specifies a file that already exists, it will be replaced. Returns the path to the newly created file.\n",
        "\n",
        "* shutil.copytree():-Recursively copy an entire directory tree rooted at src to a directory named dst and return the destination directory. All intermediate directories needed to contain dst will also be created by default.\n"
      ],
      "metadata": {
        "id": "3NyS_WGdQ6KF"
      }
    },
    {
      "cell_type": "markdown",
      "source": [
        "\n",
        "2. What function is used to rename files??"
      ],
      "metadata": {
        "id": "lLWg8ueOMFAS"
      }
    },
    {
      "cell_type": "markdown",
      "source": [
        "* import os\n",
        "\n",
        "os.rename(\"book.txt\",\"booknew.txt\")"
      ],
      "metadata": {
        "id": "RrBaXe0bR6G7"
      }
    },
    {
      "cell_type": "markdown",
      "source": [
        "\n",
        "3. What is the difference between the delete functions in the send2trash and shutil modules?"
      ],
      "metadata": {
        "id": "77bVXAnfMFC_"
      }
    },
    {
      "cell_type": "markdown",
      "source": [
        "* Shutil module provides a funciton called as shutil.rmtree() which deletes a directory and all its contents permanantly.\n",
        "* Using send2trash, we can send files to the Trash or Recycle Bin instead of permanently deleting them."
      ],
      "metadata": {
        "id": "HixgyFuZTpB8"
      }
    },
    {
      "cell_type": "markdown",
      "source": [
        " 4. ZipFile objects have a close() method just like File objects’ close() method. What ZipFile method is\n",
        "equivalent to File objects’ open() method?"
      ],
      "metadata": {
        "id": "e7HKZmRwMFGx"
      }
    },
    {
      "cell_type": "markdown",
      "source": [
        "* ZipFile Module provides a method called as zipfile.ZipFile() to read and write to zipFiles. it takes arugments lile filename and mode etc zipfile.ZipFile('filename', mode = 'r')"
      ],
      "metadata": {
        "id": "ewQlonQbVitf"
      }
    },
    {
      "cell_type": "markdown",
      "source": [
        "\n",
        "5. Create a programme that searches a folder tree for files with a certain file extension (such as .pdf\n",
        "or .jpg). Copy these files from whatever location they are in to a new folder."
      ],
      "metadata": {
        "id": "hoNIzfcYMFKC"
      }
    },
    {
      "cell_type": "code",
      "source": [
        "import os\n",
        "import shutil\n",
        "\n",
        "def search_and_copy(source,destination,extensions):\n",
        "    source = os.path.abspath(source)\n",
        "    destination = os.path.abspath(destination)\n",
        "    for foldername, subfolder, filenames in os.walk(source):\n",
        "        print(f'Folder Name ➞ {foldername}',end='\\n\\n')\n",
        "        print(f'Sub Folders ➞ {subfolder}',end='\\n\\n')\n",
        "        print(f'Files ➞ {filenames}',end='\\n\\n')\n",
        "        for filename in filenames:\n",
        "            fileName,extension = os.path.splitext(filename)\n",
        "            if extension in extensions:\n",
        "                targetFile = foldername+os.path.sep+fileName+extension\n",
        "                shutil.copy(targetFile, destination)\n",
        "        print(f'Files copied successfully from {source} to {destination}')\n",
        "    \n",
        "extensions = ['.pdf','.jpg','.ipynb']\n",
        "source = \"statstiscs-EDS\"\n",
        "destination=\"statstiscs-EDS\"\n",
        "search_and_copy(source, destination, extensions)\n"
      ],
      "metadata": {
        "id": "pGR8pGiXVlh4"
      },
      "execution_count": 9,
      "outputs": []
    },
    {
      "cell_type": "markdown",
      "source": [],
      "metadata": {
        "id": "YP_1NchNMFQL"
      }
    },
    {
      "cell_type": "markdown",
      "source": [],
      "metadata": {
        "id": "jUxduqY2MFTk"
      }
    }
  ]
}