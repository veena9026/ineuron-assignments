{
  "nbformat": 4,
  "nbformat_minor": 0,
  "metadata": {
    "colab": {
      "provenance": [],
      "authorship_tag": "ABX9TyN9FhGfZPrEZKD+vOnkFl/U",
      "include_colab_link": true
    },
    "kernelspec": {
      "name": "python3",
      "display_name": "Python 3"
    },
    "language_info": {
      "name": "python"
    }
  },
  "cells": [
    {
      "cell_type": "markdown",
      "metadata": {
        "id": "view-in-github",
        "colab_type": "text"
      },
      "source": [
        "<a href=\"https://colab.research.google.com/github/veena9026/ineuron-assignments/blob/main/Assignment_009.ipynb\" target=\"_parent\"><img src=\"https://colab.research.google.com/assets/colab-badge.svg\" alt=\"Open In Colab\"/></a>"
      ]
    },
    {
      "cell_type": "markdown",
      "source": [
        "\n",
        "1. To what does a relative path refer?\n"
      ],
      "metadata": {
        "id": "gz8NUaiDx7xH"
      }
    },
    {
      "cell_type": "markdown",
      "source": [
        "* relative path shows current working directory path"
      ],
      "metadata": {
        "id": "mmSxk1H5ynWI"
      }
    },
    {
      "cell_type": "markdown",
      "source": [
        "2. What does an absolute path start with your operating system?\n"
      ],
      "metadata": {
        "id": "wamj3UKrx74X"
      }
    },
    {
      "cell_type": "markdown",
      "source": [
        "* absolute path = pwd + relative path\n",
        "\n",
        " absolute path always starts with root directory"
      ],
      "metadata": {
        "id": "5HrgdrTLylbJ"
      }
    },
    {
      "cell_type": "markdown",
      "source": [
        "3. What do the functions os.getcwd() and os.chdir() do?\n"
      ],
      "metadata": {
        "id": "dh6Z-S6bx768"
      }
    },
    {
      "cell_type": "markdown",
      "source": [
        "* os.getcwd() ---gives current working directory\n",
        "\n",
        "* os.chdir() --performs changes the current directory"
      ],
      "metadata": {
        "id": "TIEMPc9GwtR3"
      }
    },
    {
      "cell_type": "markdown",
      "source": [
        "4. What are the . and .. folders?\n"
      ],
      "metadata": {
        "id": "DhuRXW1Cx79w"
      }
    },
    {
      "cell_type": "markdown",
      "source": [
        "* (.) --represents the current  directory.\n",
        "* (..) --represents parent directory."
      ],
      "metadata": {
        "id": "GgVQXsE0wEHd"
      }
    },
    {
      "cell_type": "markdown",
      "source": [
        "5. In C:\\bacon\\eggs\\spam.txt, which part is the dir name, and which part is the base name?\n"
      ],
      "metadata": {
        "id": "Vxr3cwGLx8Ar"
      }
    },
    {
      "cell_type": "markdown",
      "source": [
        "* C:\\bacon\\eggs --dir name\n",
        "* spam.txt ---base name"
      ],
      "metadata": {
        "id": "-VHSZxOzvwe-"
      }
    },
    {
      "cell_type": "markdown",
      "source": [
        "6. What are the three “mode” arguments that can be passed to the open() function?\n",
        "\n"
      ],
      "metadata": {
        "id": "JRzSN5xLx8DU"
      }
    },
    {
      "cell_type": "markdown",
      "source": [
        "* Three mode arguments are:\n",
        "    1. 'r' :-open for reading in text mode.\n",
        "    2. 'w' :- open for writing.\n",
        "    3. 'a' :- open for appending.\n"
      ],
      "metadata": {
        "id": "zIJATVjdvSca"
      }
    },
    {
      "cell_type": "markdown",
      "source": [
        "7. What happens if an existing file is opened in write mode?\n"
      ],
      "metadata": {
        "id": "U9d59Y_6x8G5"
      }
    },
    {
      "cell_type": "markdown",
      "source": [
        "* when a existing file is opened in write mode, contens which were previously present will be overwritten by new content passed."
      ],
      "metadata": {
        "id": "A_sDmPx9vtSy"
      }
    },
    {
      "cell_type": "markdown",
      "source": [
        "8. How do you tell the difference between read() and readlines()?\n"
      ],
      "metadata": {
        "id": "Ns1M_cRAx8NL"
      }
    },
    {
      "cell_type": "markdown",
      "source": [
        "* read() : iterates over each character.\n",
        "* readlines() : read only single line of the file."
      ],
      "metadata": {
        "id": "wAbOkpiLx8zP"
      }
    },
    {
      "cell_type": "code",
      "execution_count": null,
      "metadata": {
        "id": "nRswvXfpxpe_"
      },
      "outputs": [],
      "source": []
    },
    {
      "cell_type": "markdown",
      "source": [
        "9. What data structure does a shelf value resemble?\n"
      ],
      "metadata": {
        "id": "1Pfhf_WAx8Qp"
      }
    },
    {
      "cell_type": "markdown",
      "source": [
        "* As it contains key and values it represents dictionary."
      ],
      "metadata": {
        "id": "F9YewKVQx82n"
      }
    },
    {
      "cell_type": "code",
      "source": [],
      "metadata": {
        "id": "z2Bjb-2Gu4jS"
      },
      "execution_count": null,
      "outputs": []
    }
  ]
}