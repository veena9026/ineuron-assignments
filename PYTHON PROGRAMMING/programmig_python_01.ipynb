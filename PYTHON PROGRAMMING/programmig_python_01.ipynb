{
  "nbformat": 4,
  "nbformat_minor": 0,
  "metadata": {
    "colab": {
      "provenance": [],
      "authorship_tag": "ABX9TyPgDl+4iliDrModGeOAZRfo",
      "include_colab_link": true
    },
    "kernelspec": {
      "name": "python3",
      "display_name": "Python 3"
    },
    "language_info": {
      "name": "python"
    }
  },
  "cells": [
    {
      "cell_type": "markdown",
      "metadata": {
        "id": "view-in-github",
        "colab_type": "text"
      },
      "source": [
        "<a href=\"https://colab.research.google.com/github/veena9026/ineuron-assignments/blob/main/programmig_python_01.ipynb\" target=\"_parent\"><img src=\"https://colab.research.google.com/assets/colab-badge.svg\" alt=\"Open In Colab\"/></a>"
      ]
    },
    {
      "cell_type": "markdown",
      "source": [
        "1. Write a Python program to print &quot;Hello Python&quot;?\n"
      ],
      "metadata": {
        "id": "yVWLXXc9KcQp"
      }
    },
    {
      "cell_type": "code",
      "source": [
        "def home():\n",
        "  return \"HELLO PYTHON\"\n",
        "\n",
        "home()\n"
      ],
      "metadata": {
        "colab": {
          "base_uri": "https://localhost:8080/",
          "height": 36
        },
        "id": "eaZInCbOTRg6",
        "outputId": "9749f6b2-479e-4b25-89f3-e3a6ee52cf08"
      },
      "execution_count": 52,
      "outputs": [
        {
          "output_type": "execute_result",
          "data": {
            "text/plain": [
              "'HELLO PYTHON'"
            ],
            "application/vnd.google.colaboratory.intrinsic+json": {
              "type": "string"
            }
          },
          "metadata": {},
          "execution_count": 52
        }
      ]
    },
    {
      "cell_type": "code",
      "source": [
        "x=\"HELLO PYTHON\"\n",
        "\n",
        "print(x)"
      ],
      "metadata": {
        "colab": {
          "base_uri": "https://localhost:8080/"
        },
        "id": "Pg_1tcJITyQX",
        "outputId": "e6c3ebe5-721f-444a-84bd-d479abc84513"
      },
      "execution_count": 53,
      "outputs": [
        {
          "output_type": "stream",
          "name": "stdout",
          "text": [
            "HELLO PYTHON\n"
          ]
        }
      ]
    },
    {
      "cell_type": "markdown",
      "source": [
        "2.Write a Python program to do arithmetical operations addition and division.?\n"
      ],
      "metadata": {
        "id": "RoprEWCyKeOs"
      }
    },
    {
      "cell_type": "code",
      "source": [
        "var=float(input(\"enter a number : \"))\n",
        "ab=float(input(\"Enter a number : \"))\n",
        "\n",
        "add =var+ab\n",
        "\n",
        "div=var/ab\n",
        "\n",
        "\n",
        "print(f\"The addition of {var} + {ab} = {add}\")\n",
        "print(f\"The division of {var} / {ab} = {div}\")\n"
      ],
      "metadata": {
        "colab": {
          "base_uri": "https://localhost:8080/"
        },
        "id": "qlsTksKgTOyN",
        "outputId": "a39848af-0b59-4c91-e4d3-a258fab263cc"
      },
      "execution_count": 56,
      "outputs": [
        {
          "output_type": "stream",
          "name": "stdout",
          "text": [
            "enter a number : 225\n",
            "Enter a number : 5\n",
            "The addition of 225.0 + 5.0 = 230.0\n",
            "The division of 225.0 / 5.0 = 45.0\n"
          ]
        }
      ]
    },
    {
      "cell_type": "code",
      "source": [
        "def arith_operation(a,b):\n",
        "   print(\" Addition :\", a+b ,\"\\n\",\"Division :\",a/b)\n",
        "\n",
        "arith_operation(665,25)"
      ],
      "metadata": {
        "colab": {
          "base_uri": "https://localhost:8080/"
        },
        "id": "TsuUiqZzUF0q",
        "outputId": "b027ce24-a975-4500-fc64-bb266e5daaf0"
      },
      "execution_count": 70,
      "outputs": [
        {
          "output_type": "stream",
          "name": "stdout",
          "text": [
            " Addition : 690 \n",
            " Division : 26.6\n"
          ]
        }
      ]
    },
    {
      "cell_type": "markdown",
      "source": [
        "3. Write a Python program to find the area of a triangle?\n"
      ],
      "metadata": {
        "id": "hwYww0UYKeQ2"
      }
    },
    {
      "cell_type": "code",
      "source": [
        "## area of triangle =1/2*b*h\n",
        "\n",
        "base=float(input(\"enter a base : \"))\n",
        "height=float(input(\"enter a height : \"))\n",
        "\n",
        "area_of_triangle=1/2*base*height\n",
        "\n",
        "print(\"area_of_triangle =\",area_of_triangle)"
      ],
      "metadata": {
        "colab": {
          "base_uri": "https://localhost:8080/"
        },
        "id": "N-tX5VUAPY7c",
        "outputId": "5d6f0e88-7549-4b12-f325-014fbb7b71fe"
      },
      "execution_count": 49,
      "outputs": [
        {
          "output_type": "stream",
          "name": "stdout",
          "text": [
            "enter a base : 12\n",
            "enter a height : 24\n",
            "area_of_triangle = 144.0\n"
          ]
        }
      ]
    },
    {
      "cell_type": "code",
      "source": [
        "def triangle(base,height):\n",
        "  area_of_triangle=1/2*base*height\n",
        "\n",
        "  return area_of_triangle\n",
        "\n",
        "base=float(input(\"enter a base : \"))\n",
        "height=float(input(\"enter a height : \"))\n",
        "\n",
        "print(\"area_of_triangle = \", triangle(base,height))"
      ],
      "metadata": {
        "colab": {
          "base_uri": "https://localhost:8080/"
        },
        "id": "QfGxWisGRrWJ",
        "outputId": "a00d92d4-d297-4677-f4eb-1df8c763061c"
      },
      "execution_count": 48,
      "outputs": [
        {
          "output_type": "stream",
          "name": "stdout",
          "text": [
            "enter a base : 13\n",
            "enter a height : 36\n",
            "area_of_triangle =  234.0\n"
          ]
        }
      ]
    },
    {
      "cell_type": "markdown",
      "source": [
        "4. Write a Python program to swap two variables?\n"
      ],
      "metadata": {
        "id": "ACgzq324KeT6"
      }
    },
    {
      "cell_type": "code",
      "source": [
        "A=10\n",
        "B=20\n",
        "\n",
        "\n",
        "A,B=B,A\n",
        "\n",
        "print(\" value of A : \",A ,\"\\n\",\"value of B :\",B)"
      ],
      "metadata": {
        "colab": {
          "base_uri": "https://localhost:8080/"
        },
        "id": "qOuso9a4L6OB",
        "outputId": "e452ff51-5e8f-4b78-aaff-78e5c76477f1"
      },
      "execution_count": 11,
      "outputs": [
        {
          "output_type": "stream",
          "name": "stdout",
          "text": [
            " value of A :  20 \n",
            " value of B : 10\n"
          ]
        }
      ]
    },
    {
      "cell_type": "code",
      "source": [
        "C=12\n",
        "D=5\n",
        "\n",
        "temp=C*D\n",
        "C=temp/D+C\n",
        "D=temp/C+D\n",
        "print(\" temp_value :\",temp)\n",
        "print(' value of c :',C,'\\n','value of d :',D)\n"
      ],
      "metadata": {
        "colab": {
          "base_uri": "https://localhost:8080/"
        },
        "id": "1Wx02n1uMyBE",
        "outputId": "7a1bd95c-5c4d-4c3e-a1dc-db9ad520b265"
      },
      "execution_count": 34,
      "outputs": [
        {
          "output_type": "stream",
          "name": "stdout",
          "text": [
            " temp_value : 60\n",
            " value of c : 24.0 \n",
            " value of d : 7.5\n"
          ]
        }
      ]
    },
    {
      "cell_type": "markdown",
      "source": [
        "5. Write a Python program to generate a random number?\n"
      ],
      "metadata": {
        "id": "tU9leOfuKeXK"
      }
    },
    {
      "cell_type": "code",
      "execution_count": 5,
      "metadata": {
        "colab": {
          "base_uri": "https://localhost:8080/"
        },
        "id": "3wI3NKL3KQf4",
        "outputId": "77de64f7-11fb-464e-ff38-00769584886d"
      },
      "outputs": [
        {
          "output_type": "stream",
          "name": "stdout",
          "text": [
            "[9, 10, 1, 10, 7, 8, 7, 9, 5, 8, 4, 2, 7, 4, 5, 2, 3, 7, 1, 1, 5, 10, 3, 10, 6, 4, 3, 8, 1, 2, 8, 10, 5, 2, 4, 10, 10, 6, 5, 2, 6, 1, 2, 6, 1, 3, 3, 4, 7, 9, 7, 8, 8, 6, 4, 6, 9, 2, 3, 3, 2, 8, 9, 1, 2, 3, 8, 5, 8, 4, 1, 6, 1, 8, 2, 3, 1, 3, 10, 10, 10, 3, 2, 7, 6, 6, 6, 8, 4, 2, 10, 1, 7, 1, 5, 8, 2, 6, 10, 10]\n"
          ]
        }
      ],
      "source": [
        "import random\n",
        "\n",
        "list_1=[]\n",
        "\n",
        "for i in range(0,100):\n",
        "  x=random.randint(1,10)\n",
        "  list_1.append(x)\n",
        "print(list_1)"
      ]
    },
    {
      "cell_type": "markdown",
      "source": [],
      "metadata": {
        "id": "5dV8C6o-Kea1"
      }
    }
  ]
}