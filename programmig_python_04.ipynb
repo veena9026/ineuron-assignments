{
  "nbformat": 4,
  "nbformat_minor": 0,
  "metadata": {
    "colab": {
      "provenance": [],
      "authorship_tag": "ABX9TyMhJfAotNPkbEmel5TadJ0q",
      "include_colab_link": true
    },
    "kernelspec": {
      "name": "python3",
      "display_name": "Python 3"
    },
    "language_info": {
      "name": "python"
    }
  },
  "cells": [
    {
      "cell_type": "markdown",
      "metadata": {
        "id": "view-in-github",
        "colab_type": "text"
      },
      "source": [
        "<a href=\"https://colab.research.google.com/github/veena9026/ineuron-assignments/blob/main/programmig_python_04.ipynb\" target=\"_parent\"><img src=\"https://colab.research.google.com/assets/colab-badge.svg\" alt=\"Open In Colab\"/></a>"
      ]
    },
    {
      "cell_type": "markdown",
      "source": [
        "1.Write a Python Program to Find the Factorial of a Number?\n"
      ],
      "metadata": {
        "id": "RopqJDTUlbFs"
      }
    },
    {
      "cell_type": "code",
      "source": [
        "def factorial(n):\n",
        "    if n==0:\n",
        "        return 1\n",
        "    else:\n",
        "        return n*factorial(n-1)\n",
        "n=int(input('input a number to compute the factorial :'))\n",
        "value=factorial(n)\n",
        "print(f\"The factorial of {n} is {value}\")\n"
      ],
      "metadata": {
        "colab": {
          "base_uri": "https://localhost:8080/"
        },
        "id": "VHGsVT_zlyCm",
        "outputId": "eafc004d-8dc8-4dde-a4c1-ce7f532e09a7"
      },
      "execution_count": null,
      "outputs": [
        {
          "output_type": "stream",
          "name": "stdout",
          "text": [
            "input a number to compute the factorial :6\n",
            "The factorial of 6 is 720\n"
          ]
        }
      ]
    },
    {
      "cell_type": "markdown",
      "source": [
        "2.Write a Python Program to Display the multiplication Table?\n"
      ],
      "metadata": {
        "id": "WeVU2ymJlbKR"
      }
    },
    {
      "cell_type": "code",
      "source": [
        "# Multiplication table\n",
        "num = int(input(\"Enter a Number to diaply its multiplication table : \"))\n",
        "\n",
        "print(f\"\\nMultiplication table for number :{num}\\n\")\n",
        "for i in range(1,11):\n",
        "    print(\"{} X {} = {}\".format(num,i,i*num))"
      ],
      "metadata": {
        "colab": {
          "base_uri": "https://localhost:8080/"
        },
        "id": "7COU3LQhly72",
        "outputId": "c0aa5089-fc54-42cd-b828-d6fd240e0794"
      },
      "execution_count": null,
      "outputs": [
        {
          "output_type": "stream",
          "name": "stdout",
          "text": [
            "Enter a Number to diaply its multiplication table : 20\n",
            "\n",
            "Multiplication table for number :20\n",
            "\n",
            "20 X 1 = 20\n",
            "20 X 2 = 40\n",
            "20 X 3 = 60\n",
            "20 X 4 = 80\n",
            "20 X 5 = 100\n",
            "20 X 6 = 120\n",
            "20 X 7 = 140\n",
            "20 X 8 = 160\n",
            "20 X 9 = 180\n",
            "20 X 10 = 200\n"
          ]
        }
      ]
    },
    {
      "cell_type": "markdown",
      "source": [
        "3.Write a Python Program to Print the Fibonacci sequence?\n"
      ],
      "metadata": {
        "id": "2o91hew0lbNv"
      }
    },
    {
      "cell_type": "code",
      "source": [
        "def fibonacci(n):\n",
        "  if n == 0:\n",
        "    return 0\n",
        "  elif n == 1:\n",
        "    return 1\n",
        "  else:\n",
        "    return fibonacci(n-1) + fibonacci(n-2)\n",
        "num=int(input(\"generate the fib0nacci : \"))\n",
        "# Generate the first 10 numbers in the Fibonacci series\n",
        "for i in range(1,num+1):\n",
        "  print(fibonacci(i),end=\" \")"
      ],
      "metadata": {
        "id": "VfJspv2_lz3P",
        "colab": {
          "base_uri": "https://localhost:8080/"
        },
        "outputId": "87ca2da7-516d-4da0-fee8-d92acd2ee4c5"
      },
      "execution_count": 12,
      "outputs": [
        {
          "output_type": "stream",
          "name": "stdout",
          "text": [
            "generate the fib0nacci : 20\n",
            "1 1 2 3 5 8 13 21 34 55 89 144 233 377 610 987 1597 2584 4181 6765 "
          ]
        }
      ]
    },
    {
      "cell_type": "markdown",
      "source": [
        "4.Write a Python Program to Check Armstrong Number?\n"
      ],
      "metadata": {
        "id": "xF15LyvOlbaF"
      }
    },
    {
      "cell_type": "code",
      "source": [
        "in_num = input('Enter a number: ')\n",
        "sum = 0\n",
        "for char in range(len(in_num)):\n",
        "    sum = sum + pow(int(in_num[char]),3)\n",
        "if sum == int(in_num):\n",
        "    print(f'{in_num} is a Armstrong Number')\n",
        "else:\n",
        "    print(f'{in_num} is a Not Armstrong Number')"
      ],
      "metadata": {
        "colab": {
          "base_uri": "https://localhost:8080/"
        },
        "id": "qt4z57AJl04m",
        "outputId": "1fc62600-07df-4f7d-8177-e1ef07b73dc4"
      },
      "execution_count": 4,
      "outputs": [
        {
          "output_type": "stream",
          "name": "stdout",
          "text": [
            "Enter a number: 50\n",
            "50 is a Not Armstrong Number\n"
          ]
        }
      ]
    },
    {
      "cell_type": "markdown",
      "source": [
        "5.Write a Python Program to Find Armstrong Number in an Interval?\n"
      ],
      "metadata": {
        "id": "7AOLJMFflblv"
      }
    },
    {
      "cell_type": "code",
      "source": [
        "## fining for a range of numbers\n",
        "low = int(input(\"Lower limit : \"))\n",
        "up = int(input(\"Upper limit : \"))\n",
        "\n",
        "\n",
        "for num in range(low,up+1):\n",
        "    power = len(str(num))\n",
        "    temp = num\n",
        "    sum = 0\n",
        "    while temp > 0:\n",
        "        digit = temp % 10\n",
        "        sum = sum + digit ** power\n",
        "        temp = temp//10\n",
        "    if num == sum :\n",
        "        print(num,end=\" \")"
      ],
      "metadata": {
        "id": "sFguxAsNl1qF",
        "colab": {
          "base_uri": "https://localhost:8080/"
        },
        "outputId": "1208e623-f145-4213-f12c-551dac5c2587"
      },
      "execution_count": 16,
      "outputs": [
        {
          "output_type": "stream",
          "name": "stdout",
          "text": [
            "Lower limit : 50\n",
            "Upper limit : 2000\n",
            "153 370 371 407 1634 "
          ]
        }
      ]
    },
    {
      "cell_type": "markdown",
      "source": [
        "6.Write a Python Program to Find the Sum of Natural Numbers?\n"
      ],
      "metadata": {
        "id": "OYDaB8WzlvWs"
      }
    },
    {
      "cell_type": "code",
      "source": [
        "num = int(input(\"enter the number : \"))\n",
        "sum = 0\n",
        "for i in range(0,num+1):\n",
        "    sum+=i\n",
        "print(f\"Sum of natural numbers upto {num} is {sum}\")\n",
        "    "
      ],
      "metadata": {
        "colab": {
          "base_uri": "https://localhost:8080/"
        },
        "id": "q-GQJr1nlulK",
        "outputId": "6cf6b844-aec2-4565-d812-d527086e7bfd"
      },
      "execution_count": null,
      "outputs": [
        {
          "output_type": "stream",
          "name": "stdout",
          "text": [
            "enter the number : 20\n",
            "Sum of natural numbers upto 20 is 210\n"
          ]
        }
      ]
    },
    {
      "cell_type": "code",
      "source": [],
      "metadata": {
        "id": "o2-jQKglqLce"
      },
      "execution_count": null,
      "outputs": []
    }
  ]
}